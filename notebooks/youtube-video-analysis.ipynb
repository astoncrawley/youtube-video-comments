{
 "cells": [
  {
   "cell_type": "markdown",
   "id": "51446d71-4b17-4f6c-9ca4-a0555b49f923",
   "metadata": {},
   "source": [
    "# ▶️ YouTube Video Analysis\n",
    "### Author: Aston Crawley"
   ]
  },
  {
   "cell_type": "code",
   "execution_count": 2,
   "id": "2e00f0c3-937e-494f-be15-9280033ad50c",
   "metadata": {},
   "outputs": [],
   "source": [
    "# ============== 1. Setup ==============\n",
    "# Import libraries\n",
    "import os\n",
    "import pandas as pd\n",
    "import numpy as np\n",
    "import seaborn as sns\n",
    "import matplotlib.pyplot as plt\n",
    "\n",
    "import nltk"
   ]
  },
  {
   "cell_type": "code",
   "execution_count": 4,
   "id": "235af94b-b697-48f0-a618-45305937b221",
   "metadata": {},
   "outputs": [
    {
     "name": "stderr",
     "output_type": "stream",
     "text": [
      "/var/folders/kh/hv0681hd5n1bnsmh2y16qm3h0000gn/T/ipykernel_20491/3347441801.py:3: DtypeWarning: Columns (2,3) have mixed types. Specify dtype option on import or set low_memory=False.\n",
      "  df = pd.read_csv(os.path.join(\"..\", \"data\", \"UScomments.csv\"), on_bad_lines = \"skip\")\n"
     ]
    }
   ],
   "source": [
    "# ============== 2. Data Loading ==============\n",
    "# Load YouTube US comments data skipping corrupted rows\n",
    "df = pd.read_csv(os.path.join(\"..\", \"data\", \"UScomments.csv\"), on_bad_lines = \"skip\")"
   ]
  },
  {
   "cell_type": "code",
   "execution_count": 11,
   "id": "ccea4d19-c00e-4817-a8ac-3c2de0349222",
   "metadata": {},
   "outputs": [
    {
     "name": "stdout",
     "output_type": "stream",
     "text": [
      "      video_id                                       comment_text likes  \\\n",
      "0  XpVt6Z1Gjjo                  Logan Paul it's yo big day ‼️‼️‼️     4   \n",
      "1  XpVt6Z1Gjjo  I've been following you from the start of your...     3   \n",
      "2  XpVt6Z1Gjjo                 Say hi to Kong and maverick for me     3   \n",
      "3  XpVt6Z1Gjjo                                MY FAN . attendance     3   \n",
      "4  XpVt6Z1Gjjo                                         trending 😉     3   \n",
      "\n",
      "  replies  \n",
      "0       0  \n",
      "1       0  \n",
      "2       0  \n",
      "3       0  \n",
      "4       0  \n",
      "<class 'pandas.core.frame.DataFrame'>\n",
      "Index: 691374 entries, 0 to 691399\n",
      "Data columns (total 4 columns):\n",
      " #   Column        Non-Null Count   Dtype \n",
      "---  ------        --------------   ----- \n",
      " 0   video_id      691374 non-null  object\n",
      " 1   comment_text  691374 non-null  object\n",
      " 2   likes         691374 non-null  object\n",
      " 3   replies       691374 non-null  object\n",
      "dtypes: object(4)\n",
      "memory usage: 26.4+ MB\n",
      "None\n",
      "           video_id comment_text   likes  replies\n",
      "count        691374       691374  691374   691374\n",
      "unique         2266       434075    1284      479\n",
      "top     XpVt6Z1Gjjo          Lol       0        0\n",
      "freq            800          310  456870   525706\n"
     ]
    }
   ],
   "source": [
    "# Preview data\n",
    "print(df.head())\n",
    "print(df.info())\n",
    "print(df.describe())"
   ]
  },
  {
   "cell_type": "code",
   "execution_count": 12,
   "id": "a9a0d8b4-581d-4a90-af48-6521716dc455",
   "metadata": {},
   "outputs": [
    {
     "name": "stdout",
     "output_type": "stream",
     "text": [
      "False\n",
      "video_id        0\n",
      "comment_text    0\n",
      "likes           0\n",
      "replies         0\n",
      "dtype: int64\n"
     ]
    }
   ],
   "source": [
    "# ============== 3. Data Cleaning ==============\n",
    "# Check for missing values\n",
    "print(df.isnull().values.any())\n",
    "\n",
    "# Check location and quantity of missing values\n",
    "print(df.isnull().sum())\n",
    "\n",
    "# Handle missing values\n",
    "df.dropna(inplace = True)"
   ]
  },
  {
   "cell_type": "code",
   "execution_count": null,
   "id": "dcd11101-1433-4c6b-8c23-5c54c9a0c796",
   "metadata": {},
   "outputs": [],
   "source": [
    "# ============== 4. Exploratory Data Analysis (EDA) ==============\n",
    "# Sentiment analysis\n"
   ]
  }
 ],
 "metadata": {
  "kernelspec": {
   "display_name": "Python 3 (ipykernel)",
   "language": "python",
   "name": "python3"
  },
  "language_info": {
   "codemirror_mode": {
    "name": "ipython",
    "version": 3
   },
   "file_extension": ".py",
   "mimetype": "text/x-python",
   "name": "python",
   "nbconvert_exporter": "python",
   "pygments_lexer": "ipython3",
   "version": "3.11.9"
  }
 },
 "nbformat": 4,
 "nbformat_minor": 5
}
