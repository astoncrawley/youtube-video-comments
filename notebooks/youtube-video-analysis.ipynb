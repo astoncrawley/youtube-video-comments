{
 "cells": [
  {
   "cell_type": "markdown",
   "id": "51446d71-4b17-4f6c-9ca4-a0555b49f923",
   "metadata": {},
   "source": [
    "# ▶️ YouTube Video Analysis\n",
    "### Author: Aston Crawley"
   ]
  },
  {
   "cell_type": "code",
   "execution_count": 1,
   "id": "2e00f0c3-937e-494f-be15-9280033ad50c",
   "metadata": {},
   "outputs": [],
   "source": [
    "# ============== 1. Setup ==============\n",
    "# Import libraries\n",
    "import os\n",
    "import pandas as pd\n",
    "import numpy as np\n",
    "import seaborn as sns\n",
    "import matplotlib.pyplot as plt\n",
    "\n",
    "from vaderSentiment.vaderSentiment import SentimentIntensityAnalyzer\n",
    "from wordcloud import WordCloud, STOPWORDS\n",
    "import emoji\n",
    "from collections import Counter\n",
    "import plotly.graph_objects as go\n",
    "from plotly.offline import iplot"
   ]
  },
  {
   "cell_type": "code",
   "execution_count": 2,
   "id": "235af94b-b697-48f0-a618-45305937b221",
   "metadata": {},
   "outputs": [
    {
     "name": "stderr",
     "output_type": "stream",
     "text": [
      "/var/folders/kh/hv0681hd5n1bnsmh2y16qm3h0000gn/T/ipykernel_36078/3473035399.py:3: DtypeWarning:\n",
      "\n",
      "Columns (2,3) have mixed types. Specify dtype option on import or set low_memory=False.\n",
      "\n"
     ]
    }
   ],
   "source": [
    "# ============== 2. Data Loading ==============\n",
    "# Load YouTube US comments data skipping corrupted rows\n",
    "df = pd.read_csv(os.path.join(\"..\", \"data\", \"UScomments.csv\"), on_bad_lines = \"skip\")"
   ]
  },
  {
   "cell_type": "code",
   "execution_count": 3,
   "id": "ccea4d19-c00e-4817-a8ac-3c2de0349222",
   "metadata": {},
   "outputs": [
    {
     "name": "stdout",
     "output_type": "stream",
     "text": [
      "      video_id                                       comment_text likes  \\\n",
      "0  XpVt6Z1Gjjo                  Logan Paul it's yo big day ‼️‼️‼️     4   \n",
      "1  XpVt6Z1Gjjo  I've been following you from the start of your...     3   \n",
      "2  XpVt6Z1Gjjo                 Say hi to Kong and maverick for me     3   \n",
      "3  XpVt6Z1Gjjo                                MY FAN . attendance     3   \n",
      "4  XpVt6Z1Gjjo                                         trending 😉     3   \n",
      "\n",
      "  replies  \n",
      "0       0  \n",
      "1       0  \n",
      "2       0  \n",
      "3       0  \n",
      "4       0  \n",
      "<class 'pandas.core.frame.DataFrame'>\n",
      "RangeIndex: 691400 entries, 0 to 691399\n",
      "Data columns (total 4 columns):\n",
      " #   Column        Non-Null Count   Dtype \n",
      "---  ------        --------------   ----- \n",
      " 0   video_id      691400 non-null  object\n",
      " 1   comment_text  691374 non-null  object\n",
      " 2   likes         691400 non-null  object\n",
      " 3   replies       691400 non-null  object\n",
      "dtypes: object(4)\n",
      "memory usage: 21.1+ MB\n",
      "None\n",
      "           video_id comment_text   likes  replies\n",
      "count        691400       691374  691400   691400\n",
      "unique         2266       434075    1284      479\n",
      "top     XpVt6Z1Gjjo          Lol       0        0\n",
      "freq            800          310  456894   525730\n"
     ]
    }
   ],
   "source": [
    "# Preview data\n",
    "print(df.head())\n",
    "print(df.info())\n",
    "print(df.describe())"
   ]
  },
  {
   "cell_type": "code",
   "execution_count": 4,
   "id": "a9a0d8b4-581d-4a90-af48-6521716dc455",
   "metadata": {},
   "outputs": [
    {
     "name": "stdout",
     "output_type": "stream",
     "text": [
      "True\n",
      "video_id         0\n",
      "comment_text    26\n",
      "likes            0\n",
      "replies          0\n",
      "dtype: int64\n"
     ]
    }
   ],
   "source": [
    "# ============== 3. Data Cleaning ==============\n",
    "# Check for missing values\n",
    "print(df.isnull().values.any())\n",
    "\n",
    "# Check location and quantity of missing values\n",
    "print(df.isnull().sum())\n",
    "\n",
    "# Handle missing values\n",
    "df.dropna(inplace = True)"
   ]
  },
  {
   "cell_type": "code",
   "execution_count": 5,
   "id": "dcd11101-1433-4c6b-8c23-5c54c9a0c796",
   "metadata": {},
   "outputs": [],
   "source": [
    "# ============== 4. Exploratory Data Analysis (EDA) ==============\n",
    "# Sentiment analysis\n",
    "sia = SentimentIntensityAnalyzer()\n",
    "\n",
    "# Generate comment polarity score\n",
    "df['polarity'] = df['comment_text'].apply(lambda x: sia.polarity_scores(str(x))['compound'])"
   ]
  },
  {
   "cell_type": "code",
   "execution_count": 6,
   "id": "a68f9080-1f7f-4b53-b5ae-a45aaffefcfd",
   "metadata": {},
   "outputs": [
    {
     "data": {
      "application/vnd.microsoft.datawrangler.viewer.v0+json": {
       "columns": [
        {
         "name": "index",
         "rawType": "int64",
         "type": "integer"
        },
        {
         "name": "video_id",
         "rawType": "object",
         "type": "string"
        },
        {
         "name": "comment_text",
         "rawType": "object",
         "type": "string"
        },
        {
         "name": "likes",
         "rawType": "object",
         "type": "string"
        },
        {
         "name": "replies",
         "rawType": "object",
         "type": "string"
        },
        {
         "name": "polarity",
         "rawType": "float64",
         "type": "float"
        }
       ],
       "ref": "cdccd156-7a8a-4bb8-8e0b-8be044527ebf",
       "rows": [
        [
         "0",
         "XpVt6Z1Gjjo",
         "Logan Paul it's yo big day ‼️‼️‼️",
         "4",
         "0",
         "0.0"
        ],
        [
         "1",
         "XpVt6Z1Gjjo",
         "I've been following you from the start of your vine channel and have seen all 365 vlogs",
         "3",
         "0",
         "0.0"
        ],
        [
         "2",
         "XpVt6Z1Gjjo",
         "Say hi to Kong and maverick for me",
         "3",
         "0",
         "0.0"
        ],
        [
         "3",
         "XpVt6Z1Gjjo",
         "MY FAN . attendance",
         "3",
         "0",
         "0.4648"
        ],
        [
         "4",
         "XpVt6Z1Gjjo",
         "trending 😉",
         "3",
         "0",
         "0.0"
        ]
       ],
       "shape": {
        "columns": 5,
        "rows": 5
       }
      },
      "text/html": [
       "<div>\n",
       "<style scoped>\n",
       "    .dataframe tbody tr th:only-of-type {\n",
       "        vertical-align: middle;\n",
       "    }\n",
       "\n",
       "    .dataframe tbody tr th {\n",
       "        vertical-align: top;\n",
       "    }\n",
       "\n",
       "    .dataframe thead th {\n",
       "        text-align: right;\n",
       "    }\n",
       "</style>\n",
       "<table border=\"1\" class=\"dataframe\">\n",
       "  <thead>\n",
       "    <tr style=\"text-align: right;\">\n",
       "      <th></th>\n",
       "      <th>video_id</th>\n",
       "      <th>comment_text</th>\n",
       "      <th>likes</th>\n",
       "      <th>replies</th>\n",
       "      <th>polarity</th>\n",
       "    </tr>\n",
       "  </thead>\n",
       "  <tbody>\n",
       "    <tr>\n",
       "      <th>0</th>\n",
       "      <td>XpVt6Z1Gjjo</td>\n",
       "      <td>Logan Paul it's yo big day ‼️‼️‼️</td>\n",
       "      <td>4</td>\n",
       "      <td>0</td>\n",
       "      <td>0.0000</td>\n",
       "    </tr>\n",
       "    <tr>\n",
       "      <th>1</th>\n",
       "      <td>XpVt6Z1Gjjo</td>\n",
       "      <td>I've been following you from the start of your...</td>\n",
       "      <td>3</td>\n",
       "      <td>0</td>\n",
       "      <td>0.0000</td>\n",
       "    </tr>\n",
       "    <tr>\n",
       "      <th>2</th>\n",
       "      <td>XpVt6Z1Gjjo</td>\n",
       "      <td>Say hi to Kong and maverick for me</td>\n",
       "      <td>3</td>\n",
       "      <td>0</td>\n",
       "      <td>0.0000</td>\n",
       "    </tr>\n",
       "    <tr>\n",
       "      <th>3</th>\n",
       "      <td>XpVt6Z1Gjjo</td>\n",
       "      <td>MY FAN . attendance</td>\n",
       "      <td>3</td>\n",
       "      <td>0</td>\n",
       "      <td>0.4648</td>\n",
       "    </tr>\n",
       "    <tr>\n",
       "      <th>4</th>\n",
       "      <td>XpVt6Z1Gjjo</td>\n",
       "      <td>trending 😉</td>\n",
       "      <td>3</td>\n",
       "      <td>0</td>\n",
       "      <td>0.0000</td>\n",
       "    </tr>\n",
       "  </tbody>\n",
       "</table>\n",
       "</div>"
      ],
      "text/plain": [
       "      video_id                                       comment_text likes  \\\n",
       "0  XpVt6Z1Gjjo                  Logan Paul it's yo big day ‼️‼️‼️     4   \n",
       "1  XpVt6Z1Gjjo  I've been following you from the start of your...     3   \n",
       "2  XpVt6Z1Gjjo                 Say hi to Kong and maverick for me     3   \n",
       "3  XpVt6Z1Gjjo                                MY FAN . attendance     3   \n",
       "4  XpVt6Z1Gjjo                                         trending 😉     3   \n",
       "\n",
       "  replies  polarity  \n",
       "0       0    0.0000  \n",
       "1       0    0.0000  \n",
       "2       0    0.0000  \n",
       "3       0    0.4648  \n",
       "4       0    0.0000  "
      ]
     },
     "execution_count": 6,
     "metadata": {},
     "output_type": "execute_result"
    }
   ],
   "source": [
    "df.head()"
   ]
  },
  {
   "cell_type": "code",
   "execution_count": 7,
   "id": "8369b469-1b48-4d56-8ea4-626e14a3d294",
   "metadata": {},
   "outputs": [
    {
     "data": {
      "text/plain": [
       "(91912, 5)"
      ]
     },
     "execution_count": 7,
     "metadata": {},
     "output_type": "execute_result"
    }
   ],
   "source": [
    "# Wordcloud analysis\n",
    "\n",
    "# Get positive comments based on polarity score\n",
    "filter_pos = df['polarity'] >= 0.8\n",
    "comments_pos = df[filter_pos]\n",
    "comments_pos.shape"
   ]
  },
  {
   "cell_type": "code",
   "execution_count": 8,
   "id": "5fadfb2c-4db3-4e12-a13f-6da263a22020",
   "metadata": {},
   "outputs": [],
   "source": [
    "# Join all comments into a single string\n",
    "all_positive_comments = ' '.join(comments_pos['comment_text'])"
   ]
  },
  {
   "cell_type": "code",
   "execution_count": 9,
   "id": "41f7b493-842d-42b3-bd42-9cb1109dae98",
   "metadata": {},
   "outputs": [
    {
     "data": {
      "text/plain": [
       "(18023, 5)"
      ]
     },
     "execution_count": 9,
     "metadata": {},
     "output_type": "execute_result"
    }
   ],
   "source": [
    "# Get negative comments based on polarity score\n",
    "filter_neg = df['polarity'] <= -0.8\n",
    "comments_neg = df[filter_neg]\n",
    "comments_neg.shape"
   ]
  },
  {
   "cell_type": "code",
   "execution_count": 10,
   "id": "37b2dbc2-263b-4575-a903-5367df651981",
   "metadata": {},
   "outputs": [],
   "source": [
    "# Join all comments into a single string\n",
    "all_negative_comments = ' '.join(comments_neg['comment_text'])"
   ]
  },
  {
   "cell_type": "code",
   "execution_count": 11,
   "id": "ff189dd8-b5c0-4300-ae71-5353ae5fe87c",
   "metadata": {},
   "outputs": [],
   "source": [
    "# Get keywords from all positive comments\n",
    "wordcloud_pos = WordCloud(stopwords = set(STOPWORDS)).generate(all_positive_comments)"
   ]
  },
  {
   "cell_type": "code",
   "execution_count": 12,
   "id": "fe20e050-fec4-4092-8aaa-958f7b15a7cb",
   "metadata": {},
   "outputs": [
    {
     "data": {
      "text/plain": [
       "(np.float64(-0.5), np.float64(399.5), np.float64(199.5), np.float64(-0.5))"
      ]
     },
     "execution_count": 12,
     "metadata": {},
     "output_type": "execute_result"
    },
    {
     "data": {
      "image/png": "[encoded data removed]",
      "text/plain": [
       "<Figure size 640x480 with 1 Axes>"
      ]
     },
     "metadata": {},
     "output_type": "display_data"
    }
   ],
   "source": [
    "# Generate positive comments wordcloud\n",
    "plt.imshow(wordcloud_pos)\n",
    "plt.axis(\"off\")"
   ]
  },
  {
   "cell_type": "code",
   "execution_count": 13,
   "id": "0492b643-e41c-4a74-b906-bee4bfa307fa",
   "metadata": {},
   "outputs": [],
   "source": [
    "# Get keywords from all negative comments\n",
    "wordcloud_neg = WordCloud(stopwords = set(STOPWORDS)).generate(all_negative_comments)"
   ]
  },
  {
   "cell_type": "code",
   "execution_count": 14,
   "id": "0d120e0a-aed3-46b1-bfba-c76a6b14aa88",
   "metadata": {},
   "outputs": [
    {
     "data": {
      "text/plain": [
       "(np.float64(-0.5), np.float64(399.5), np.float64(199.5), np.float64(-0.5))"
      ]
     },
     "execution_count": 14,
     "metadata": {},
     "output_type": "execute_result"
    },
    {
     "data": {
      "image/png": "[encoded data removed]",
      "text/plain": [
       "<Figure size 640x480 with 1 Axes>"
      ]
     },
     "metadata": {},
     "output_type": "display_data"
    }
   ],
   "source": [
    "# Generate negative comments wordcloud\n",
    "plt.imshow(wordcloud_neg)\n",
    "plt.axis(\"off\")"
   ]
  },
  {
   "cell_type": "code",
   "execution_count": null,
   "id": "8c450979",
   "metadata": {},
   "outputs": [],
   "source": []
  },
  {
   "cell_type": "code",
   "execution_count": 15,
   "id": "afc91388",
   "metadata": {},
   "outputs": [],
   "source": [
    "# Emoji analysis\n",
    "\n",
    "# Get list of all emojis in comments\n",
    "all_emojis = []\n",
    "\n",
    "for comment in df['comment_text']:\n",
    "    emoji_info = emoji.emoji_list(comment)\n",
    "    emojis_found = [item['emoji'] for item in emoji_info]\n",
    "    all_emojis.extend(emojis_found)"
   ]
  },
  {
   "cell_type": "code",
   "execution_count": 16,
   "id": "cb103ce4",
   "metadata": {},
   "outputs": [],
   "source": [
    "# Filter the top 10 most used emojis\n",
    "emojis_count_list_top10 = Counter(all_emojis).most_common(10)"
   ]
  },
  {
   "cell_type": "code",
   "execution_count": 17,
   "id": "a15a39f9",
   "metadata": {},
   "outputs": [],
   "source": [
    "# Create a list of emojis with their respective counts\n",
    "emojis = [emoji for emoji, _ in emojis_count_list_top10]\n",
    "counts = [count for _, count in emojis_count_list_top10]"
   ]
  },
  {
   "cell_type": "code",
   "execution_count": 18,
   "id": "7860f441",
   "metadata": {},
   "outputs": [
    {
     "data": {
      "application/vnd.plotly.v1+json": {
       "config": {
        "linkText": "Export to plot.ly",
        "plotlyServerURL": "https://plot.ly",
        "showLink": false
       },
       "data": [
        {
         "type": "bar",
         "x": [
          "😂",
          "😍",
          "❤️",
          "❤",
          "🔥",
          "😭",
          "😘",
          "💖",
          "💕",
          "👍"
         ],
         "y": [
          36987,
          33453,
          16911,
          14167,
          8694,
          8398,
          5545,
          5359,
          5147,
          4251
         ]
        }
       ],
       "layout": {
        "template": {
         "data": {
          "bar": [
           {
            "error_x": {
             "color": "#2a3f5f"
            },
            "error_y": {
             "color": "#2a3f5f"
            },
            "marker": {
             "line": {
              "color": "#E5ECF6",
              "width": 0.5
             },
             "pattern": {
              "fillmode": "overlay",
              "size": 10,
              "solidity": 0.2
             }
            },
            "type": "bar"
           }
          ],
          "barpolar": [
           {
            "marker": {
             "line": {
              "color": "#E5ECF6",
              "width": 0.5
             },
             "pattern": {
              "fillmode": "overlay",
              "size": 10,
              "solidity": 0.2
             }
            },
            "type": "barpolar"
           }
          ],
          "carpet": [
           {
            "aaxis": {
             "endlinecolor": "#2a3f5f",
             "gridcolor": "white",
             "linecolor": "white",
             "minorgridcolor": "white",
             "startlinecolor": "#2a3f5f"
            },
            "baxis": {
             "endlinecolor": "#2a3f5f",
             "gridcolor": "white",
             "linecolor": "white",
             "minorgridcolor": "white",
             "startlinecolor": "#2a3f5f"
            },
            "type": "carpet"
           }
          ],
          "choropleth": [
           {
            "colorbar": {
             "outlinewidth": 0,
             "ticks": ""
            },
            "type": "choropleth"
           }
          ],
          "contour": [
           {
            "colorbar": {
             "outlinewidth": 0,
             "ticks": ""
            },
            "colorscale": [
             [
              0,
              "#0d0887"
             ],
             [
              0.1111111111111111,
              "#46039f"
             ],
             [
              0.2222222222222222,
              "#7201a8"
             ],
             [
              0.3333333333333333,
              "#9c179e"
             ],
             [
              0.4444444444444444,
              "#bd3786"
             ],
             [
              0.5555555555555556,
              "#d8576b"
             ],
             [
              0.6666666666666666,
              "#ed7953"
             ],
             [
              0.7777777777777778,
              "#fb9f3a"
             ],
             [
              0.8888888888888888,
              "#fdca26"
             ],
             [
              1,
              "#f0f921"
             ]
            ],
            "type": "contour"
           }
          ],
          "contourcarpet": [
           {
            "colorbar": {
             "outlinewidth": 0,
             "ticks": ""
            },
            "type": "contourcarpet"
           }
          ],
          "heatmap": [
           {
            "colorbar": {
             "outlinewidth": 0,
             "ticks": ""
            },
            "colorscale": [
             [
              0,
              "#0d0887"
             ],
             [
              0.1111111111111111,
              "#46039f"
             ],
             [
              0.2222222222222222,
              "#7201a8"
             ],
             [
              0.3333333333333333,
              "#9c179e"
             ],
             [
              0.4444444444444444,
              "#bd3786"
             ],
             [
              0.5555555555555556,
              "#d8576b"
             ],
             [
              0.6666666666666666,
              "#ed7953"
             ],
             [
              0.7777777777777778,
              "#fb9f3a"
             ],
             [
              0.8888888888888888,
              "#fdca26"
             ],
             [
              1,
              "#f0f921"
             ]
            ],
            "type": "heatmap"
           }
          ],
          "histogram": [
           {
            "marker": {
             "pattern": {
              "fillmode": "overlay",
              "size": 10,
              "solidity": 0.2
             }
            },
            "type": "histogram"
           }
          ],
          "histogram2d": [
           {
            "colorbar": {
             "outlinewidth": 0,
             "ticks": ""
            },
            "colorscale": [
             [
              0,
              "#0d0887"
             ],
             [
              0.1111111111111111,
              "#46039f"
             ],
             [
              0.2222222222222222,
              "#7201a8"
             ],
             [
              0.3333333333333333,
              "#9c179e"
             ],
             [
              0.4444444444444444,
              "#bd3786"
             ],
             [
              0.5555555555555556,
              "#d8576b"
             ],
             [
              0.6666666666666666,
              "#ed7953"
             ],
             [
              0.7777777777777778,
              "#fb9f3a"
             ],
             [
              0.8888888888888888,
              "#fdca26"
             ],
             [
              1,
              "#f0f921"
             ]
            ],
            "type": "histogram2d"
           }
          ],
          "histogram2dcontour": [
           {
            "colorbar": {
             "outlinewidth": 0,
             "ticks": ""
            },
            "colorscale": [
             [
              0,
              "#0d0887"
             ],
             [
              0.1111111111111111,
              "#46039f"
             ],
             [
              0.2222222222222222,
              "#7201a8"
             ],
             [
              0.3333333333333333,
              "#9c179e"
             ],
             [
              0.4444444444444444,
              "#bd3786"
             ],
             [
              0.5555555555555556,
              "#d8576b"
             ],
             [
              0.6666666666666666,
              "#ed7953"
             ],
             [
              0.7777777777777778,
              "#fb9f3a"
             ],
             [
              0.8888888888888888,
              "#fdca26"
             ],
             [
              1,
              "#f0f921"
             ]
            ],
            "type": "histogram2dcontour"
           }
          ],
          "mesh3d": [
           {
            "colorbar": {
             "outlinewidth": 0,
             "ticks": ""
            },
            "type": "mesh3d"
           }
          ],
          "parcoords": [
           {
            "line": {
             "colorbar": {
              "outlinewidth": 0,
              "ticks": ""
             }
            },
            "type": "parcoords"
           }
          ],
          "pie": [
           {
            "automargin": true,
            "type": "pie"
           }
          ],
          "scatter": [
           {
            "fillpattern": {
             "fillmode": "overlay",
             "size": 10,
             "solidity": 0.2
            },
            "type": "scatter"
           }
          ],
          "scatter3d": [
           {
            "line": {
             "colorbar": {
              "outlinewidth": 0,
              "ticks": ""
             }
            },
            "marker": {
             "colorbar": {
              "outlinewidth": 0,
              "ticks": ""
             }
            },
            "type": "scatter3d"
           }
          ],
          "scattercarpet": [
           {
            "marker": {
             "colorbar": {
              "outlinewidth": 0,
              "ticks": ""
             }
            },
            "type": "scattercarpet"
           }
          ],
          "scattergeo": [
           {
            "marker": {
             "colorbar": {
              "outlinewidth": 0,
              "ticks": ""
             }
            },
            "type": "scattergeo"
           }
          ],
          "scattergl": [
           {
            "marker": {
             "colorbar": {
              "outlinewidth": 0,
              "ticks": ""
             }
            },
            "type": "scattergl"
           }
          ],
          "scattermap": [
           {
            "marker": {
             "colorbar": {
              "outlinewidth": 0,
              "ticks": ""
             }
            },
            "type": "scattermap"
           }
          ],
          "scattermapbox": [
           {
            "marker": {
             "colorbar": {
              "outlinewidth": 0,
              "ticks": ""
             }
            },
            "type": "scattermapbox"
           }
          ],
          "scatterpolar": [
           {
            "marker": {
             "colorbar": {
              "outlinewidth": 0,
              "ticks": ""
             }
            },
            "type": "scatterpolar"
           }
          ],
          "scatterpolargl": [
           {
            "marker": {
             "colorbar": {
              "outlinewidth": 0,
              "ticks": ""
             }
            },
            "type": "scatterpolargl"
           }
          ],
          "scatterternary": [
           {
            "marker": {
             "colorbar": {
              "outlinewidth": 0,
              "ticks": ""
             }
            },
            "type": "scatterternary"
           }
          ],
          "surface": [
           {
            "colorbar": {
             "outlinewidth": 0,
             "ticks": ""
            },
            "colorscale": [
             [
              0,
              "#0d0887"
             ],
             [
              0.1111111111111111,
              "#46039f"
             ],
             [
              0.2222222222222222,
              "#7201a8"
             ],
             [
              0.3333333333333333,
              "#9c179e"
             ],
             [
              0.4444444444444444,
              "#bd3786"
             ],
             [
              0.5555555555555556,
              "#d8576b"
             ],
             [
              0.6666666666666666,
              "#ed7953"
             ],
             [
              0.7777777777777778,
              "#fb9f3a"
             ],
             [
              0.8888888888888888,
              "#fdca26"
             ],
             [
              1,
              "#f0f921"
             ]
            ],
            "type": "surface"
           }
          ],
          "table": [
           {
            "cells": {
             "fill": {
              "color": "#EBF0F8"
             },
             "line": {
              "color": "white"
             }
            },
            "header": {
             "fill": {
              "color": "#C8D4E3"
             },
             "line": {
              "color": "white"
             }
            },
            "type": "table"
           }
          ]
         },
         "layout": {
          "annotationdefaults": {
           "arrowcolor": "#2a3f5f",
           "arrowhead": 0,
           "arrowwidth": 1
          },
          "autotypenumbers": "strict",
          "coloraxis": {
           "colorbar": {
            "outlinewidth": 0,
            "ticks": ""
           }
          },
          "colorscale": {
           "diverging": [
            [
             0,
             "#8e0152"
            ],
            [
             0.1,
             "#c51b7d"
            ],
            [
             0.2,
             "#de77ae"
            ],
            [
             0.3,
             "#f1b6da"
            ],
            [
             0.4,
             "#fde0ef"
            ],
            [
             0.5,
             "#f7f7f7"
            ],
            [
             0.6,
             "#e6f5d0"
            ],
            [
             0.7,
             "#b8e186"
            ],
            [
             0.8,
             "#7fbc41"
            ],
            [
             0.9,
             "#4d9221"
            ],
            [
             1,
             "#276419"
            ]
           ],
           "sequential": [
            [
             0,
             "#0d0887"
            ],
            [
             0.1111111111111111,
             "#46039f"
            ],
            [
             0.2222222222222222,
             "#7201a8"
            ],
            [
             0.3333333333333333,
             "#9c179e"
            ],
            [
             0.4444444444444444,
             "#bd3786"
            ],
            [
             0.5555555555555556,
             "#d8576b"
            ],
            [
             0.6666666666666666,
             "#ed7953"
            ],
            [
             0.7777777777777778,
             "#fb9f3a"
            ],
            [
             0.8888888888888888,
             "#fdca26"
            ],
            [
             1,
             "#f0f921"
            ]
           ],
           "sequentialminus": [
            [
             0,
             "#0d0887"
            ],
            [
             0.1111111111111111,
             "#46039f"
            ],
            [
             0.2222222222222222,
             "#7201a8"
            ],
            [
             0.3333333333333333,
             "#9c179e"
            ],
            [
             0.4444444444444444,
             "#bd3786"
            ],
            [
             0.5555555555555556,
             "#d8576b"
            ],
            [
             0.6666666666666666,
             "#ed7953"
            ],
            [
             0.7777777777777778,
             "#fb9f3a"
            ],
            [
             0.8888888888888888,
             "#fdca26"
            ],
            [
             1,
             "#f0f921"
            ]
           ]
          },
          "colorway": [
           "#636efa",
           "#EF553B",
           "#00cc96",
           "#ab63fa",
           "#FFA15A",
           "#19d3f3",
           "#FF6692",
           "#B6E880",
           "#FF97FF",
           "#FECB52"
          ],
          "font": {
           "color": "#2a3f5f"
          },
          "geo": {
           "bgcolor": "white",
           "lakecolor": "white",
           "landcolor": "#E5ECF6",
           "showlakes": true,
           "showland": true,
           "subunitcolor": "white"
          },
          "hoverlabel": {
           "align": "left"
          },
          "hovermode": "closest",
          "mapbox": {
           "style": "light"
          },
          "paper_bgcolor": "white",
          "plot_bgcolor": "#E5ECF6",
          "polar": {
           "angularaxis": {
            "gridcolor": "white",
            "linecolor": "white",
            "ticks": ""
           },
           "bgcolor": "#E5ECF6",
           "radialaxis": {
            "gridcolor": "white",
            "linecolor": "white",
            "ticks": ""
           }
          },
          "scene": {
           "xaxis": {
            "backgroundcolor": "#E5ECF6",
            "gridcolor": "white",
            "gridwidth": 2,
            "linecolor": "white",
            "showbackground": true,
            "ticks": "",
            "zerolinecolor": "white"
           },
           "yaxis": {
            "backgroundcolor": "#E5ECF6",
            "gridcolor": "white",
            "gridwidth": 2,
            "linecolor": "white",
            "showbackground": true,
            "ticks": "",
            "zerolinecolor": "white"
           },
           "zaxis": {
            "backgroundcolor": "#E5ECF6",
            "gridcolor": "white",
            "gridwidth": 2,
            "linecolor": "white",
            "showbackground": true,
            "ticks": "",
            "zerolinecolor": "white"
           }
          },
          "shapedefaults": {
           "line": {
            "color": "#2a3f5f"
           }
          },
          "ternary": {
           "aaxis": {
            "gridcolor": "white",
            "linecolor": "white",
            "ticks": ""
           },
           "baxis": {
            "gridcolor": "white",
            "linecolor": "white",
            "ticks": ""
           },
           "bgcolor": "#E5ECF6",
           "caxis": {
            "gridcolor": "white",
            "linecolor": "white",
            "ticks": ""
           }
          },
          "title": {
           "x": 0.05
          },
          "xaxis": {
           "automargin": true,
           "gridcolor": "white",
           "linecolor": "white",
           "ticks": "",
           "title": {
            "standoff": 15
           },
           "zerolinecolor": "white",
           "zerolinewidth": 2
          },
          "yaxis": {
           "automargin": true,
           "gridcolor": "white",
           "linecolor": "white",
           "ticks": "",
           "title": {
            "standoff": 15
           },
           "zerolinecolor": "white",
           "zerolinewidth": 2
          }
         }
        }
       }
      }
     },
     "metadata": {},
     "output_type": "display_data"
    }
   ],
   "source": [
    "# Plot emoji frequency using Plotly\n",
    "iplot([go.Bar(x = emojis, y = counts)])"
   ]
  },
  {
   "cell_type": "code",
   "execution_count": null,
   "id": "548264d2",
   "metadata": {},
   "outputs": [],
   "source": []
  },
  {
   "cell_type": "code",
   "execution_count": 19,
   "id": "28a670e4",
   "metadata": {},
   "outputs": [],
   "source": [
    "# Compile multiple data sources\n",
    "\n",
    "# Get all files in the additional_data directory\n",
    "files = os.listdir(os.path.join(\"..\", \"data\", \"additional_data\"))"
   ]
  },
  {
   "cell_type": "code",
   "execution_count": 20,
   "id": "5195ec6f",
   "metadata": {},
   "outputs": [],
   "source": [
    "# Get list of CSV files\n",
    "files_csv = [file for file in files if file.endswith(\".csv\")]"
   ]
  },
  {
   "cell_type": "code",
   "execution_count": 21,
   "id": "5fb91815",
   "metadata": {},
   "outputs": [],
   "source": [
    "import warnings\n",
    "from warnings import filterwarnings\n",
    "filterwarnings('ignore')"
   ]
  },
  {
   "cell_type": "code",
   "execution_count": 22,
   "id": "0ab73606",
   "metadata": {},
   "outputs": [],
   "source": [
    "# Create empty dataframe to hold all data\n",
    "full_df = pd.DataFrame()\n",
    "\n",
    "# Loop through all CSV files and concatenate them into a single dataframe\n",
    "for file in files_csv:\n",
    "    current_df = pd.read_csv(os.path.join(\"..\", \"data\", \"additional_data\", file), encoding='iso-8859-1', on_bad_lines=\"skip\")\n",
    "    full_df = pd.concat([full_df, current_df], ignore_index=True)"
   ]
  },
  {
   "cell_type": "code",
   "execution_count": 23,
   "id": "e7012aa3",
   "metadata": {},
   "outputs": [
    {
     "data": {
      "text/plain": [
       "(375942, 16)"
      ]
     },
     "execution_count": 23,
     "metadata": {},
     "output_type": "execute_result"
    }
   ],
   "source": [
    "full_df.shape"
   ]
  },
  {
   "cell_type": "code",
   "execution_count": 24,
   "id": "e9b370bb",
   "metadata": {},
   "outputs": [
    {
     "data": {
      "application/vnd.microsoft.datawrangler.viewer.v0+json": {
       "columns": [
        {
         "name": "index",
         "rawType": "int64",
         "type": "integer"
        },
        {
         "name": "0",
         "rawType": "bool",
         "type": "boolean"
        }
       ],
       "ref": "ee2d7abf-ecaa-486c-9cf4-bdc4dc0943fd",
       "rows": [
        [
         "0",
         "False"
        ],
        [
         "1",
         "False"
        ],
        [
         "2",
         "False"
        ],
        [
         "3",
         "False"
        ],
        [
         "4",
         "False"
        ],
        [
         "5",
         "False"
        ],
        [
         "6",
         "False"
        ],
        [
         "7",
         "False"
        ],
        [
         "8",
         "False"
        ],
        [
         "9",
         "False"
        ],
        [
         "10",
         "False"
        ],
        [
         "11",
         "False"
        ],
        [
         "12",
         "False"
        ],
        [
         "13",
         "False"
        ],
        [
         "14",
         "False"
        ],
        [
         "15",
         "False"
        ],
        [
         "16",
         "False"
        ],
        [
         "17",
         "False"
        ],
        [
         "18",
         "False"
        ],
        [
         "19",
         "False"
        ],
        [
         "20",
         "False"
        ],
        [
         "21",
         "False"
        ],
        [
         "22",
         "False"
        ],
        [
         "23",
         "False"
        ],
        [
         "24",
         "False"
        ],
        [
         "25",
         "False"
        ],
        [
         "26",
         "False"
        ],
        [
         "27",
         "False"
        ],
        [
         "28",
         "False"
        ],
        [
         "29",
         "False"
        ],
        [
         "30",
         "False"
        ],
        [
         "31",
         "False"
        ],
        [
         "32",
         "False"
        ],
        [
         "33",
         "False"
        ],
        [
         "34",
         "False"
        ],
        [
         "35",
         "False"
        ],
        [
         "36",
         "False"
        ],
        [
         "37",
         "False"
        ],
        [
         "38",
         "False"
        ],
        [
         "39",
         "False"
        ],
        [
         "40",
         "False"
        ],
        [
         "41",
         "False"
        ],
        [
         "42",
         "False"
        ],
        [
         "43",
         "False"
        ],
        [
         "44",
         "False"
        ],
        [
         "45",
         "False"
        ],
        [
         "46",
         "False"
        ],
        [
         "47",
         "False"
        ],
        [
         "48",
         "False"
        ],
        [
         "49",
         "False"
        ]
       ],
       "shape": {
        "columns": 1,
        "rows": 375942
       }
      },
      "text/plain": [
       "0         False\n",
       "1         False\n",
       "2         False\n",
       "3         False\n",
       "4         False\n",
       "          ...  \n",
       "375937    False\n",
       "375938    False\n",
       "375939    False\n",
       "375940    False\n",
       "375941    False\n",
       "Length: 375942, dtype: bool"
      ]
     },
     "execution_count": 24,
     "metadata": {},
     "output_type": "execute_result"
    }
   ],
   "source": [
    "# Check for duplicate data\n",
    "full_df.duplicated()"
   ]
  },
  {
   "cell_type": "code",
   "execution_count": 25,
   "id": "9a292a43",
   "metadata": {},
   "outputs": [
    {
     "data": {
      "text/plain": [
       "(36417, 16)"
      ]
     },
     "execution_count": 25,
     "metadata": {},
     "output_type": "execute_result"
    }
   ],
   "source": [
    "full_df[full_df.duplicated()].shape"
   ]
  },
  {
   "cell_type": "code",
   "execution_count": 26,
   "id": "e2471145",
   "metadata": {},
   "outputs": [
    {
     "data": {
      "text/plain": [
       "(339525, 16)"
      ]
     },
     "execution_count": 26,
     "metadata": {},
     "output_type": "execute_result"
    }
   ],
   "source": [
    "# Drop duplicated data\n",
    "full_df = full_df.drop_duplicates()\n",
    "full_df.shape"
   ]
  },
  {
   "cell_type": "code",
   "execution_count": 27,
   "id": "a13858c6",
   "metadata": {},
   "outputs": [],
   "source": [
    "# Write a sample of the cleaned and compiled data to a CSV file\n",
    "full_df[0:1000].to_csv(os.path.join(\"..\", \"data\", \"export_data\", \"youtube_sample.csv\"), index=False)"
   ]
  },
  {
   "cell_type": "code",
   "execution_count": 28,
   "id": "e179fd20",
   "metadata": {},
   "outputs": [],
   "source": [
    "# Write a sample of the cleaned and compiled data to a JSON file\n",
    "full_df[0:1000].to_json(os.path.join(\"..\", \"data\", \"export_data\", \"youtube_sample.json\"))"
   ]
  },
  {
   "cell_type": "code",
   "execution_count": 29,
   "id": "e7a756a7",
   "metadata": {},
   "outputs": [
    {
     "data": {
      "text/plain": [
       "1000"
      ]
     },
     "execution_count": 29,
     "metadata": {},
     "output_type": "execute_result"
    }
   ],
   "source": [
    "from sqlalchemy import create_engine\n",
    "engine = create_engine('sqlite:///'+os.path.join(\"..\", \"data\", \"export_data\", \"youtube_sample.sqlite\"))\n",
    "\n",
    "# Write a sample of the cleaned and compiled data to a SQLite database\n",
    "full_df[0:1000].to_sql('Users', con=engine, if_exists='append')"
   ]
  },
  {
   "cell_type": "code",
   "execution_count": null,
   "id": "682feca8",
   "metadata": {},
   "outputs": [],
   "source": []
  },
  {
   "cell_type": "code",
   "execution_count": 30,
   "id": "9c6ef0c0",
   "metadata": {},
   "outputs": [
    {
     "data": {
      "application/vnd.microsoft.datawrangler.viewer.v0+json": {
       "columns": [
        {
         "name": "index",
         "rawType": "int64",
         "type": "integer"
        },
        {
         "name": "video_id",
         "rawType": "object",
         "type": "string"
        },
        {
         "name": "trending_date",
         "rawType": "object",
         "type": "string"
        },
        {
         "name": "title",
         "rawType": "object",
         "type": "string"
        },
        {
         "name": "channel_title",
         "rawType": "object",
         "type": "string"
        },
        {
         "name": "category_id",
         "rawType": "int64",
         "type": "integer"
        },
        {
         "name": "publish_time",
         "rawType": "object",
         "type": "string"
        },
        {
         "name": "tags",
         "rawType": "object",
         "type": "string"
        },
        {
         "name": "views",
         "rawType": "int64",
         "type": "integer"
        },
        {
         "name": "likes",
         "rawType": "int64",
         "type": "integer"
        },
        {
         "name": "dislikes",
         "rawType": "int64",
         "type": "integer"
        },
        {
         "name": "comment_count",
         "rawType": "int64",
         "type": "integer"
        },
        {
         "name": "thumbnail_link",
         "rawType": "object",
         "type": "string"
        },
        {
         "name": "comments_disabled",
         "rawType": "bool",
         "type": "boolean"
        },
        {
         "name": "ratings_disabled",
         "rawType": "bool",
         "type": "boolean"
        },
        {
         "name": "video_error_or_removed",
         "rawType": "bool",
         "type": "boolean"
        },
        {
         "name": "description",
         "rawType": "object",
         "type": "string"
        }
       ],
       "ref": "5236b9e1-baa9-4d67-a32e-63174ae6d36a",
       "rows": [
        [
         "0",
         "SbOwzAl9ZfQ",
         "17.14.11",
         "CapÃ­tulo 12 | MasterChef 2017",
         "MasterChef 2017",
         "24",
         "2017-11-13T06:06:22.000Z",
         "MasterChef Junior 2017|\"TV Azteca\"|\"recetas\"|\"cocina\"|\"Anette Michel\"|\"Betty VÃ¡zquez\"|\"Benito Molina\"|\"AdriÃ¡n Herrera\"|\"master chef mexico\"|\"masterchef\"|\"master chef\"|\"master chef mexico 2017\"|\"masterchef mexico jueces\"|\"la cocina mÃ¡s famosa de mÃ©xico\"|\"reality de cocina mÃ¡s famoso de mÃ©xico\"|\"capÃ­tulo 12\"|\"episodio 12\"|\"capitulo masterchef\"|\"capitulo masterchef mexico 2017\"|\"programa masterchef de hoy\"",
         "310130",
         "4182",
         "361",
         "1836",
         "https://i.ytimg.com/vi/SbOwzAl9ZfQ/default.jpg",
         "False",
         "False",
         "False",
         "Disfruta la presencia del Chef Torreblanca en MasterChef, el duelo de pasteles, las mesas regionales de los chefs Benito, Betty y Herrera, la preparaciÃ³n de un tamal  artesanal y la salida del Padre Beto.\\n\\nMasterChef 2017\\nVisita nuestro sitio oficial:\\nhttp://www.aztecatrece.com/masterchef\\n\\nMasterChef regresa este 2017 mÃ¡s exigente que nunca. Descubre quiÃ©n serÃ¡ el mejor cocinero de MÃ©xico en la cocina mÃ¡s famosa del mundo. Tv Azteca"
        ],
        [
         "1",
         "klOV6Xh-DnI",
         "17.14.11",
         "ALEXA EX-INTEGRANTE DEL GRUPO TIMBIRICHE RENUNCIA A Â¨La Voz Mexico 7Â¨TELEVISA 11/11/2017",
         "Micky Contreras Martinez",
         "22",
         "2017-11-13T05:11:58.000Z",
         "La Voz Mexico 7",
         "104972",
         "271",
         "174",
         "369",
         "https://i.ytimg.com/vi/klOV6Xh-DnI/default.jpg",
         "False",
         "False",
         "False",
         "ALEXA EX-INTEGRANTE DEL GRUPO TIMBIRICHE RENUNCIA A Â¨La Voz Mexico 7Â¨TELEVISA 11/11/2017"
        ],
        [
         "2",
         "6L2ZF7Qzsbk",
         "17.14.11",
         "LOUIS CKAGÃ - EL PULSO DE LA REPÃBLICA",
         "El Pulso De La RepÃºblica",
         "25",
         "2017-11-13T17:00:02.000Z",
         "Chumel Torres|\"El Pulso de la Republica\"|\"noticias\"|\"news\"|\"mexico\"|\"pri\"|\"pan\"|\"prd\"|\"morena\"|\"louis ck\"|\"carstens\"|\"acoso\"|\"qatar\"|\"chicharito\"|\"premio nacional del deporte\"|\"carlos slim\"|\"carlos vergara\"|\"chivas\"|\"angelica fuentes\"",
         "136064",
         "10105",
         "266",
         "607",
         "https://i.ytimg.com/vi/6L2ZF7Qzsbk/default.jpg",
         "False",
         "False",
         "False",
         "La canciÃ³n del principio se llama âEste espÃ­rituâ de nuestros carnales de nuestros carnales de Corona en colaboraciÃ³n con La Banda BastÃ³n y Sotomayor, escÃºchala completa aquÃ­:\\nhttps://youtu.be/pQI70NAgN-I\\nO en Spotify \\nhttps://open.spotify.com/track/1tg4Sm0RY0HMReaI0YmJuM\\n\\nEl Pulso de La RepÃºblica. El InIn (Informativo Informal) que sale todos los LUNES y JUEVES a las 11 A.M. estÃ¡ tambiÃ©n disponible en todas las plataformas:\\n\\nPara la fresada: https://itunes.apple.com/mx/app/el-pulso/id916281976?mt=8\\nPara la pelusa: https://play.google.com/store/apps/details?id=com.iktwo.elpulso&hl=es_419:\\nPara tus tÃ­as: https://www.facebook.com/ElPulsoDeLaRepublica/\\n\\nLa Lista Oficial de toda la mÃºsica no oficial de El Pulso:\\nhttps://open.spotify.com/user/12161104895/playlist/3yI4U05btr0MmNIn2etRKH\\n\\nY tambiÃ©n, si quieres tener un cachito de nosotros, estÃ¡ la tienda de productos oficiales:\\n\\nhttps://www.kichink.com/stores/maquina\\n\\nEl Pulso de la RepÃºblica somos:\\n\\nhttp://twitter.com/ChumelTorres\\nhttp://twitter.com/Durden\\nhttp://twitter.com/ZomVieck\\nhttp://twitter.com/rikymoreno\\nhttp://twitter.com/Kaizzer\\nhttps://twitter.com/elgab\\n\\nNo olvides suscribirte al canal y darnos tus pulgares arriba. Somos El Pulso de La RepÃºblica y nos despedimos no sin antes decirles queâ¦ Los amamos, estupeds."
        ],
        [
         "3",
         "hcY52MFWMDM",
         "17.14.11",
         "Sismo de 6.7 sacude Costa Rica 12 Noviembre 2017",
         "Casanare",
         "25",
         "2017-11-13T03:47:10.000Z",
         "temblor|\"costa rica\"|\"sismo en costa rica\"",
         "96153",
         "378",
         "171",
         "208",
         "https://i.ytimg.com/vi/hcY52MFWMDM/default.jpg",
         "False",
         "False",
         "False",
         "El video es de un Walmart en el pais centroamericano en el momento del temblor\\n\\nEl movimiento telÃºrico se produjo a las 20:28 (hora local) y tuvo su epicentro en el ocÃ©ano PacÃ­fico a 19 kilÃ³metros al sur de JacÃ³, ciudad playera de la provincia de Puntarenas, segÃºn la Red SismolÃ³gica Nacional.\\n\\nHasta el momento no hay reportes de personas heridas ni daÃ±os materiales."
        ],
        [
         "4",
         "_OXDcGPVAa4",
         "17.14.11",
         "DOG HACKS | MUSAS LESSLIE LOS POLINESIOS",
         "Musas",
         "26",
         "2017-11-13T19:17:48.000Z",
         "MUSAS|\"lesslie\"|\"karen\"|\"hacks\"|\"perros\"|\"dogs\"|\"trucos\"|\"los polinesios\"|\"aria\"|\"kler\"|\"manualidades\"|\"snaks de perros\"|\"dulces para perros\"|\"jueguetes\"|\"jueguetes de perro\"|\"can\"|\"diy dogs\"|\"diy hacks\"",
         "499965",
         "57781",
         "681",
         "7428",
         "https://i.ytimg.com/vi/_OXDcGPVAa4/default.jpg",
         "False",
         "False",
         "False",
         "MI HERMANO NARRA MI RUTINA DE MAQUILLAJE\\nhttps://youtu.be/Ge4wYu90Q2A\\n------------------------------------------------------------------------------------\\n\\nNUESTROS CANALES:\\nBromas: http://www.youtube.com/platicapolinesa\\nRetos: http://www.youtube.com/ppextras\\nVlogs: http://www.youtube.com/lospolinesios\\nVideojuegos: http://www.youtube.com/ppjuxiis\\n\\n------------------------------------------------------------------------------------\\n\\nMIS REDES SOCIALES:\\n***Mi Facebook: http://www.facebook.com/TeamLesslie\\n***Mi Twitter: http://www.twitter.com/PPTeamLesslie\\n***Mi Instagram: http://www.instagram.com/PPTeamLesslie\\n\\n------------------------------------------------------------------------------------\\n\\n\\n***SUSCRIBETE: http://www.youtube.com/subscription_center?add_user=ppmussas\\n\\nCONTACTO: contacto@platicapolinesia.com\\n\\n\\n____________________________________________\\n\\nCanal Musas | Platica Polinesia | PP"
        ]
       ],
       "shape": {
        "columns": 16,
        "rows": 5
       }
      },
      "text/html": [
       "<div>\n",
       "<style scoped>\n",
       "    .dataframe tbody tr th:only-of-type {\n",
       "        vertical-align: middle;\n",
       "    }\n",
       "\n",
       "    .dataframe tbody tr th {\n",
       "        vertical-align: top;\n",
       "    }\n",
       "\n",
       "    .dataframe thead th {\n",
       "        text-align: right;\n",
       "    }\n",
       "</style>\n",
       "<table border=\"1\" class=\"dataframe\">\n",
       "  <thead>\n",
       "    <tr style=\"text-align: right;\">\n",
       "      <th></th>\n",
       "      <th>video_id</th>\n",
       "      <th>trending_date</th>\n",
       "      <th>title</th>\n",
       "      <th>channel_title</th>\n",
       "      <th>category_id</th>\n",
       "      <th>publish_time</th>\n",
       "      <th>tags</th>\n",
       "      <th>views</th>\n",
       "      <th>likes</th>\n",
       "      <th>dislikes</th>\n",
       "      <th>comment_count</th>\n",
       "      <th>thumbnail_link</th>\n",
       "      <th>comments_disabled</th>\n",
       "      <th>ratings_disabled</th>\n",
       "      <th>video_error_or_removed</th>\n",
       "      <th>description</th>\n",
       "    </tr>\n",
       "  </thead>\n",
       "  <tbody>\n",
       "    <tr>\n",
       "      <th>0</th>\n",
       "      <td>SbOwzAl9ZfQ</td>\n",
       "      <td>17.14.11</td>\n",
       "      <td>CapÃ­tulo 12 | MasterChef 2017</td>\n",
       "      <td>MasterChef 2017</td>\n",
       "      <td>24</td>\n",
       "      <td>2017-11-13T06:06:22.000Z</td>\n",
       "      <td>MasterChef Junior 2017|\"TV Azteca\"|\"recetas\"|\"...</td>\n",
       "      <td>310130</td>\n",
       "      <td>4182</td>\n",
       "      <td>361</td>\n",
       "      <td>1836</td>\n",
       "      <td>https://i.ytimg.com/vi/SbOwzAl9ZfQ/default.jpg</td>\n",
       "      <td>False</td>\n",
       "      <td>False</td>\n",
       "      <td>False</td>\n",
       "      <td>Disfruta la presencia del Chef Torreblanca en ...</td>\n",
       "    </tr>\n",
       "    <tr>\n",
       "      <th>1</th>\n",
       "      <td>klOV6Xh-DnI</td>\n",
       "      <td>17.14.11</td>\n",
       "      <td>ALEXA EX-INTEGRANTE DEL GRUPO TIMBIRICHE RENUN...</td>\n",
       "      <td>Micky Contreras Martinez</td>\n",
       "      <td>22</td>\n",
       "      <td>2017-11-13T05:11:58.000Z</td>\n",
       "      <td>La Voz Mexico 7</td>\n",
       "      <td>104972</td>\n",
       "      <td>271</td>\n",
       "      <td>174</td>\n",
       "      <td>369</td>\n",
       "      <td>https://i.ytimg.com/vi/klOV6Xh-DnI/default.jpg</td>\n",
       "      <td>False</td>\n",
       "      <td>False</td>\n",
       "      <td>False</td>\n",
       "      <td>ALEXA EX-INTEGRANTE DEL GRUPO TIMBIRICHE RENUN...</td>\n",
       "    </tr>\n",
       "    <tr>\n",
       "      <th>2</th>\n",
       "      <td>6L2ZF7Qzsbk</td>\n",
       "      <td>17.14.11</td>\n",
       "      <td>LOUIS CKAGÃ - EL PULSO DE LA REPÃBLICA</td>\n",
       "      <td>El Pulso De La RepÃºblica</td>\n",
       "      <td>25</td>\n",
       "      <td>2017-11-13T17:00:02.000Z</td>\n",
       "      <td>Chumel Torres|\"El Pulso de la Republica\"|\"noti...</td>\n",
       "      <td>136064</td>\n",
       "      <td>10105</td>\n",
       "      <td>266</td>\n",
       "      <td>607</td>\n",
       "      <td>https://i.ytimg.com/vi/6L2ZF7Qzsbk/default.jpg</td>\n",
       "      <td>False</td>\n",
       "      <td>False</td>\n",
       "      <td>False</td>\n",
       "      <td>La canciÃ³n del principio se llama âEste esp...</td>\n",
       "    </tr>\n",
       "    <tr>\n",
       "      <th>3</th>\n",
       "      <td>hcY52MFWMDM</td>\n",
       "      <td>17.14.11</td>\n",
       "      <td>Sismo de 6.7 sacude Costa Rica 12 Noviembre 2017</td>\n",
       "      <td>Casanare</td>\n",
       "      <td>25</td>\n",
       "      <td>2017-11-13T03:47:10.000Z</td>\n",
       "      <td>temblor|\"costa rica\"|\"sismo en costa rica\"</td>\n",
       "      <td>96153</td>\n",
       "      <td>378</td>\n",
       "      <td>171</td>\n",
       "      <td>208</td>\n",
       "      <td>https://i.ytimg.com/vi/hcY52MFWMDM/default.jpg</td>\n",
       "      <td>False</td>\n",
       "      <td>False</td>\n",
       "      <td>False</td>\n",
       "      <td>El video es de un Walmart en el pais centroame...</td>\n",
       "    </tr>\n",
       "    <tr>\n",
       "      <th>4</th>\n",
       "      <td>_OXDcGPVAa4</td>\n",
       "      <td>17.14.11</td>\n",
       "      <td>DOG HACKS | MUSAS LESSLIE LOS POLINESIOS</td>\n",
       "      <td>Musas</td>\n",
       "      <td>26</td>\n",
       "      <td>2017-11-13T19:17:48.000Z</td>\n",
       "      <td>MUSAS|\"lesslie\"|\"karen\"|\"hacks\"|\"perros\"|\"dogs...</td>\n",
       "      <td>499965</td>\n",
       "      <td>57781</td>\n",
       "      <td>681</td>\n",
       "      <td>7428</td>\n",
       "      <td>https://i.ytimg.com/vi/_OXDcGPVAa4/default.jpg</td>\n",
       "      <td>False</td>\n",
       "      <td>False</td>\n",
       "      <td>False</td>\n",
       "      <td>MI HERMANO NARRA MI RUTINA DE MAQUILLAJE\\nhttp...</td>\n",
       "    </tr>\n",
       "  </tbody>\n",
       "</table>\n",
       "</div>"
      ],
      "text/plain": [
       "      video_id trending_date  \\\n",
       "0  SbOwzAl9ZfQ      17.14.11   \n",
       "1  klOV6Xh-DnI      17.14.11   \n",
       "2  6L2ZF7Qzsbk      17.14.11   \n",
       "3  hcY52MFWMDM      17.14.11   \n",
       "4  _OXDcGPVAa4      17.14.11   \n",
       "\n",
       "                                               title  \\\n",
       "0                     CapÃ­tulo 12 | MasterChef 2017   \n",
       "1  ALEXA EX-INTEGRANTE DEL GRUPO TIMBIRICHE RENUN...   \n",
       "2           LOUIS CKAGÃ - EL PULSO DE LA REPÃBLICA   \n",
       "3   Sismo de 6.7 sacude Costa Rica 12 Noviembre 2017   \n",
       "4           DOG HACKS | MUSAS LESSLIE LOS POLINESIOS   \n",
       "\n",
       "               channel_title  category_id              publish_time  \\\n",
       "0            MasterChef 2017           24  2017-11-13T06:06:22.000Z   \n",
       "1   Micky Contreras Martinez           22  2017-11-13T05:11:58.000Z   \n",
       "2  El Pulso De La RepÃºblica           25  2017-11-13T17:00:02.000Z   \n",
       "3                   Casanare           25  2017-11-13T03:47:10.000Z   \n",
       "4                      Musas           26  2017-11-13T19:17:48.000Z   \n",
       "\n",
       "                                                tags   views  likes  dislikes  \\\n",
       "0  MasterChef Junior 2017|\"TV Azteca\"|\"recetas\"|\"...  310130   4182       361   \n",
       "1                                    La Voz Mexico 7  104972    271       174   \n",
       "2  Chumel Torres|\"El Pulso de la Republica\"|\"noti...  136064  10105       266   \n",
       "3         temblor|\"costa rica\"|\"sismo en costa rica\"   96153    378       171   \n",
       "4  MUSAS|\"lesslie\"|\"karen\"|\"hacks\"|\"perros\"|\"dogs...  499965  57781       681   \n",
       "\n",
       "   comment_count                                  thumbnail_link  \\\n",
       "0           1836  https://i.ytimg.com/vi/SbOwzAl9ZfQ/default.jpg   \n",
       "1            369  https://i.ytimg.com/vi/klOV6Xh-DnI/default.jpg   \n",
       "2            607  https://i.ytimg.com/vi/6L2ZF7Qzsbk/default.jpg   \n",
       "3            208  https://i.ytimg.com/vi/hcY52MFWMDM/default.jpg   \n",
       "4           7428  https://i.ytimg.com/vi/_OXDcGPVAa4/default.jpg   \n",
       "\n",
       "   comments_disabled  ratings_disabled  video_error_or_removed  \\\n",
       "0              False             False                   False   \n",
       "1              False             False                   False   \n",
       "2              False             False                   False   \n",
       "3              False             False                   False   \n",
       "4              False             False                   False   \n",
       "\n",
       "                                         description  \n",
       "0  Disfruta la presencia del Chef Torreblanca en ...  \n",
       "1  ALEXA EX-INTEGRANTE DEL GRUPO TIMBIRICHE RENUN...  \n",
       "2  La canciÃ³n del principio se llama âEste esp...  \n",
       "3  El video es de un Walmart en el pais centroame...  \n",
       "4  MI HERMANO NARRA MI RUTINA DE MAQUILLAJE\\nhttp...  "
      ]
     },
     "execution_count": 30,
     "metadata": {},
     "output_type": "execute_result"
    }
   ],
   "source": [
    "# Category analysis\n",
    "\n",
    "# Search dataframe for category column\n",
    "full_df.head()"
   ]
  },
  {
   "cell_type": "code",
   "execution_count": 31,
   "id": "0c099c19",
   "metadata": {},
   "outputs": [
    {
     "data": {
      "text/plain": [
       "array([24, 22, 25, 26, 10, 23, 17,  2,  1, 29, 27, 28, 20, 15, 19, 43, 30,\n",
       "       44])"
      ]
     },
     "execution_count": 31,
     "metadata": {},
     "output_type": "execute_result"
    }
   ],
   "source": [
    "# Get unique category IDs\n",
    "full_df[\"category_id\"].unique()"
   ]
  },
  {
   "cell_type": "code",
   "execution_count": 32,
   "id": "7f9b62bd",
   "metadata": {},
   "outputs": [
    {
     "data": {
      "application/vnd.microsoft.datawrangler.viewer.v0+json": {
       "columns": [
        {
         "name": "index",
         "rawType": "int64",
         "type": "integer"
        },
        {
         "name": "kind",
         "rawType": "object",
         "type": "string"
        },
        {
         "name": "etag",
         "rawType": "object",
         "type": "string"
        },
        {
         "name": "items",
         "rawType": "object",
         "type": "unknown"
        }
       ],
       "ref": "3ddb6041-cd60-4102-baba-3056d4e24396",
       "rows": [
        [
         "0",
         "youtube#videoCategoryListResponse",
         "\"m2yskBQFythfE4irbTIeOgYYfBU/S730Ilt-Fi-emsQJvJAAShlR6hM\"",
         "{'kind': 'youtube#videoCategory', 'etag': '\"m2yskBQFythfE4irbTIeOgYYfBU/Xy1mB4_yLrHy_BmKmPBggty2mZQ\"', 'id': '1', 'snippet': {'channelId': 'UCBR8-60-B28hp2BmDPdntcQ', 'title': 'Film & Animation', 'assignable': True}}"
        ],
        [
         "1",
         "youtube#videoCategoryListResponse",
         "\"m2yskBQFythfE4irbTIeOgYYfBU/S730Ilt-Fi-emsQJvJAAShlR6hM\"",
         "{'kind': 'youtube#videoCategory', 'etag': '\"m2yskBQFythfE4irbTIeOgYYfBU/UZ1oLIIz2dxIhO45ZTFR3a3NyTA\"', 'id': '2', 'snippet': {'channelId': 'UCBR8-60-B28hp2BmDPdntcQ', 'title': 'Autos & Vehicles', 'assignable': True}}"
        ],
        [
         "2",
         "youtube#videoCategoryListResponse",
         "\"m2yskBQFythfE4irbTIeOgYYfBU/S730Ilt-Fi-emsQJvJAAShlR6hM\"",
         "{'kind': 'youtube#videoCategory', 'etag': '\"m2yskBQFythfE4irbTIeOgYYfBU/nqRIq97-xe5XRZTxbknKFVe5Lmg\"', 'id': '10', 'snippet': {'channelId': 'UCBR8-60-B28hp2BmDPdntcQ', 'title': 'Music', 'assignable': True}}"
        ],
        [
         "3",
         "youtube#videoCategoryListResponse",
         "\"m2yskBQFythfE4irbTIeOgYYfBU/S730Ilt-Fi-emsQJvJAAShlR6hM\"",
         "{'kind': 'youtube#videoCategory', 'etag': '\"m2yskBQFythfE4irbTIeOgYYfBU/HwXKamM1Q20q9BN-oBJavSGkfDI\"', 'id': '15', 'snippet': {'channelId': 'UCBR8-60-B28hp2BmDPdntcQ', 'title': 'Pets & Animals', 'assignable': True}}"
        ],
        [
         "4",
         "youtube#videoCategoryListResponse",
         "\"m2yskBQFythfE4irbTIeOgYYfBU/S730Ilt-Fi-emsQJvJAAShlR6hM\"",
         "{'kind': 'youtube#videoCategory', 'etag': '\"m2yskBQFythfE4irbTIeOgYYfBU/9GQMSRjrZdHeb1OEM1XVQ9zbGec\"', 'id': '17', 'snippet': {'channelId': 'UCBR8-60-B28hp2BmDPdntcQ', 'title': 'Sports', 'assignable': True}}"
        ],
        [
         "5",
         "youtube#videoCategoryListResponse",
         "\"m2yskBQFythfE4irbTIeOgYYfBU/S730Ilt-Fi-emsQJvJAAShlR6hM\"",
         "{'kind': 'youtube#videoCategory', 'etag': '\"m2yskBQFythfE4irbTIeOgYYfBU/FJwVpGCVZ1yiJrqZbpqe68Sy_OE\"', 'id': '18', 'snippet': {'channelId': 'UCBR8-60-B28hp2BmDPdntcQ', 'title': 'Short Movies', 'assignable': False}}"
        ],
        [
         "6",
         "youtube#videoCategoryListResponse",
         "\"m2yskBQFythfE4irbTIeOgYYfBU/S730Ilt-Fi-emsQJvJAAShlR6hM\"",
         "{'kind': 'youtube#videoCategory', 'etag': '\"m2yskBQFythfE4irbTIeOgYYfBU/M-3iD9dwK7YJCafRf_DkLN8CouA\"', 'id': '19', 'snippet': {'channelId': 'UCBR8-60-B28hp2BmDPdntcQ', 'title': 'Travel & Events', 'assignable': True}}"
        ],
        [
         "7",
         "youtube#videoCategoryListResponse",
         "\"m2yskBQFythfE4irbTIeOgYYfBU/S730Ilt-Fi-emsQJvJAAShlR6hM\"",
         "{'kind': 'youtube#videoCategory', 'etag': '\"m2yskBQFythfE4irbTIeOgYYfBU/WmA0qYEfjWsAoyJFSw2zinhn2wM\"', 'id': '20', 'snippet': {'channelId': 'UCBR8-60-B28hp2BmDPdntcQ', 'title': 'Gaming', 'assignable': True}}"
        ],
        [
         "8",
         "youtube#videoCategoryListResponse",
         "\"m2yskBQFythfE4irbTIeOgYYfBU/S730Ilt-Fi-emsQJvJAAShlR6hM\"",
         "{'kind': 'youtube#videoCategory', 'etag': '\"m2yskBQFythfE4irbTIeOgYYfBU/EapFaGYG7K0StIXVf8aba249tdM\"', 'id': '21', 'snippet': {'channelId': 'UCBR8-60-B28hp2BmDPdntcQ', 'title': 'Videoblogging', 'assignable': False}}"
        ],
        [
         "9",
         "youtube#videoCategoryListResponse",
         "\"m2yskBQFythfE4irbTIeOgYYfBU/S730Ilt-Fi-emsQJvJAAShlR6hM\"",
         "{'kind': 'youtube#videoCategory', 'etag': '\"m2yskBQFythfE4irbTIeOgYYfBU/xId8RX7vRN8rqkbYZbNIytUQDRo\"', 'id': '22', 'snippet': {'channelId': 'UCBR8-60-B28hp2BmDPdntcQ', 'title': 'People & Blogs', 'assignable': True}}"
        ],
        [
         "10",
         "youtube#videoCategoryListResponse",
         "\"m2yskBQFythfE4irbTIeOgYYfBU/S730Ilt-Fi-emsQJvJAAShlR6hM\"",
         "{'kind': 'youtube#videoCategory', 'etag': '\"m2yskBQFythfE4irbTIeOgYYfBU/G9LHzQmx44rX2S5yaga_Aqtwz8M\"', 'id': '23', 'snippet': {'channelId': 'UCBR8-60-B28hp2BmDPdntcQ', 'title': 'Comedy', 'assignable': True}}"
        ],
        [
         "11",
         "youtube#videoCategoryListResponse",
         "\"m2yskBQFythfE4irbTIeOgYYfBU/S730Ilt-Fi-emsQJvJAAShlR6hM\"",
         "{'kind': 'youtube#videoCategory', 'etag': '\"m2yskBQFythfE4irbTIeOgYYfBU/UVB9oxX2Bvqa_w_y3vXSLVK5E_s\"', 'id': '24', 'snippet': {'channelId': 'UCBR8-60-B28hp2BmDPdntcQ', 'title': 'Entertainment', 'assignable': True}}"
        ],
        [
         "12",
         "youtube#videoCategoryListResponse",
         "\"m2yskBQFythfE4irbTIeOgYYfBU/S730Ilt-Fi-emsQJvJAAShlR6hM\"",
         "{'kind': 'youtube#videoCategory', 'etag': '\"m2yskBQFythfE4irbTIeOgYYfBU/QiLK0ZIrFoORdk_g2l_XR_ECjDc\"', 'id': '25', 'snippet': {'channelId': 'UCBR8-60-B28hp2BmDPdntcQ', 'title': 'News & Politics', 'assignable': True}}"
        ],
        [
         "13",
         "youtube#videoCategoryListResponse",
         "\"m2yskBQFythfE4irbTIeOgYYfBU/S730Ilt-Fi-emsQJvJAAShlR6hM\"",
         "{'kind': 'youtube#videoCategory', 'etag': '\"m2yskBQFythfE4irbTIeOgYYfBU/r6Ck6Z0_L0rG37VJQR200SGNA_w\"', 'id': '26', 'snippet': {'channelId': 'UCBR8-60-B28hp2BmDPdntcQ', 'title': 'Howto & Style', 'assignable': True}}"
        ],
        [
         "14",
         "youtube#videoCategoryListResponse",
         "\"m2yskBQFythfE4irbTIeOgYYfBU/S730Ilt-Fi-emsQJvJAAShlR6hM\"",
         "{'kind': 'youtube#videoCategory', 'etag': '\"m2yskBQFythfE4irbTIeOgYYfBU/EoYkczo9I3RCf96RveKTOgOPkUM\"', 'id': '27', 'snippet': {'channelId': 'UCBR8-60-B28hp2BmDPdntcQ', 'title': 'Education', 'assignable': True}}"
        ],
        [
         "15",
         "youtube#videoCategoryListResponse",
         "\"m2yskBQFythfE4irbTIeOgYYfBU/S730Ilt-Fi-emsQJvJAAShlR6hM\"",
         "{'kind': 'youtube#videoCategory', 'etag': '\"m2yskBQFythfE4irbTIeOgYYfBU/w5HjcTD82G_XA3xBctS30zS-JpQ\"', 'id': '28', 'snippet': {'channelId': 'UCBR8-60-B28hp2BmDPdntcQ', 'title': 'Science & Technology', 'assignable': True}}"
        ],
        [
         "16",
         "youtube#videoCategoryListResponse",
         "\"m2yskBQFythfE4irbTIeOgYYfBU/S730Ilt-Fi-emsQJvJAAShlR6hM\"",
         "{'kind': 'youtube#videoCategory', 'etag': '\"m2yskBQFythfE4irbTIeOgYYfBU/SalkJoBWq_smSEqiAx_qyri6Wa8\"', 'id': '29', 'snippet': {'channelId': 'UCBR8-60-B28hp2BmDPdntcQ', 'title': 'Nonprofits & Activism', 'assignable': True}}"
        ],
        [
         "17",
         "youtube#videoCategoryListResponse",
         "\"m2yskBQFythfE4irbTIeOgYYfBU/S730Ilt-Fi-emsQJvJAAShlR6hM\"",
         "{'kind': 'youtube#videoCategory', 'etag': '\"m2yskBQFythfE4irbTIeOgYYfBU/lL7uWDr_071CHxifjYG1tJrp4Uo\"', 'id': '30', 'snippet': {'channelId': 'UCBR8-60-B28hp2BmDPdntcQ', 'title': 'Movies', 'assignable': False}}"
        ],
        [
         "18",
         "youtube#videoCategoryListResponse",
         "\"m2yskBQFythfE4irbTIeOgYYfBU/S730Ilt-Fi-emsQJvJAAShlR6hM\"",
         "{'kind': 'youtube#videoCategory', 'etag': '\"m2yskBQFythfE4irbTIeOgYYfBU/WnuVfjO-PyFLO7NTRQIbrGE62nk\"', 'id': '31', 'snippet': {'channelId': 'UCBR8-60-B28hp2BmDPdntcQ', 'title': 'Anime/Animation', 'assignable': False}}"
        ],
        [
         "19",
         "youtube#videoCategoryListResponse",
         "\"m2yskBQFythfE4irbTIeOgYYfBU/S730Ilt-Fi-emsQJvJAAShlR6hM\"",
         "{'kind': 'youtube#videoCategory', 'etag': '\"m2yskBQFythfE4irbTIeOgYYfBU/ctpH2hGA_UZ3volJT_FTlOg9M00\"', 'id': '32', 'snippet': {'channelId': 'UCBR8-60-B28hp2BmDPdntcQ', 'title': 'Action/Adventure', 'assignable': False}}"
        ],
        [
         "20",
         "youtube#videoCategoryListResponse",
         "\"m2yskBQFythfE4irbTIeOgYYfBU/S730Ilt-Fi-emsQJvJAAShlR6hM\"",
         "{'kind': 'youtube#videoCategory', 'etag': '\"m2yskBQFythfE4irbTIeOgYYfBU/L0kR3-g1BAo5UD1PLVbQ7LkkDtQ\"', 'id': '33', 'snippet': {'channelId': 'UCBR8-60-B28hp2BmDPdntcQ', 'title': 'Classics', 'assignable': False}}"
        ],
        [
         "21",
         "youtube#videoCategoryListResponse",
         "\"m2yskBQFythfE4irbTIeOgYYfBU/S730Ilt-Fi-emsQJvJAAShlR6hM\"",
         "{'kind': 'youtube#videoCategory', 'etag': '\"m2yskBQFythfE4irbTIeOgYYfBU/pUZOAC_s9sfiwar639qr_wAB-aI\"', 'id': '34', 'snippet': {'channelId': 'UCBR8-60-B28hp2BmDPdntcQ', 'title': 'Comedy', 'assignable': False}}"
        ],
        [
         "22",
         "youtube#videoCategoryListResponse",
         "\"m2yskBQFythfE4irbTIeOgYYfBU/S730Ilt-Fi-emsQJvJAAShlR6hM\"",
         "{'kind': 'youtube#videoCategory', 'etag': '\"m2yskBQFythfE4irbTIeOgYYfBU/Xb5JLhtyNRN3AQq021Ds-OV50Jk\"', 'id': '35', 'snippet': {'channelId': 'UCBR8-60-B28hp2BmDPdntcQ', 'title': 'Documentary', 'assignable': False}}"
        ],
        [
         "23",
         "youtube#videoCategoryListResponse",
         "\"m2yskBQFythfE4irbTIeOgYYfBU/S730Ilt-Fi-emsQJvJAAShlR6hM\"",
         "{'kind': 'youtube#videoCategory', 'etag': '\"m2yskBQFythfE4irbTIeOgYYfBU/u8WXzF4HIhtEi805__sqjuA4lEk\"', 'id': '36', 'snippet': {'channelId': 'UCBR8-60-B28hp2BmDPdntcQ', 'title': 'Drama', 'assignable': False}}"
        ],
        [
         "24",
         "youtube#videoCategoryListResponse",
         "\"m2yskBQFythfE4irbTIeOgYYfBU/S730Ilt-Fi-emsQJvJAAShlR6hM\"",
         "{'kind': 'youtube#videoCategory', 'etag': '\"m2yskBQFythfE4irbTIeOgYYfBU/D04PP4Gr7wc4IV_O9G66Z4A8KWQ\"', 'id': '37', 'snippet': {'channelId': 'UCBR8-60-B28hp2BmDPdntcQ', 'title': 'Family', 'assignable': False}}"
        ],
        [
         "25",
         "youtube#videoCategoryListResponse",
         "\"m2yskBQFythfE4irbTIeOgYYfBU/S730Ilt-Fi-emsQJvJAAShlR6hM\"",
         "{'kind': 'youtube#videoCategory', 'etag': '\"m2yskBQFythfE4irbTIeOgYYfBU/i5-_AceGXQCEEMWU0V8CcQm_vLQ\"', 'id': '38', 'snippet': {'channelId': 'UCBR8-60-B28hp2BmDPdntcQ', 'title': 'Foreign', 'assignable': False}}"
        ],
        [
         "26",
         "youtube#videoCategoryListResponse",
         "\"m2yskBQFythfE4irbTIeOgYYfBU/S730Ilt-Fi-emsQJvJAAShlR6hM\"",
         "{'kind': 'youtube#videoCategory', 'etag': '\"m2yskBQFythfE4irbTIeOgYYfBU/rtlxd0zOixA9QHdIZB26-St5qgQ\"', 'id': '39', 'snippet': {'channelId': 'UCBR8-60-B28hp2BmDPdntcQ', 'title': 'Horror', 'assignable': False}}"
        ],
        [
         "27",
         "youtube#videoCategoryListResponse",
         "\"m2yskBQFythfE4irbTIeOgYYfBU/S730Ilt-Fi-emsQJvJAAShlR6hM\"",
         "{'kind': 'youtube#videoCategory', 'etag': '\"m2yskBQFythfE4irbTIeOgYYfBU/N1TrDFLRppxZgBowCJfJCvh0Dpg\"', 'id': '40', 'snippet': {'channelId': 'UCBR8-60-B28hp2BmDPdntcQ', 'title': 'Sci-Fi/Fantasy', 'assignable': False}}"
        ],
        [
         "28",
         "youtube#videoCategoryListResponse",
         "\"m2yskBQFythfE4irbTIeOgYYfBU/S730Ilt-Fi-emsQJvJAAShlR6hM\"",
         "{'kind': 'youtube#videoCategory', 'etag': '\"m2yskBQFythfE4irbTIeOgYYfBU/7UMGi6zRySqXopr_rv4sZq6Za2E\"', 'id': '41', 'snippet': {'channelId': 'UCBR8-60-B28hp2BmDPdntcQ', 'title': 'Thriller', 'assignable': False}}"
        ],
        [
         "29",
         "youtube#videoCategoryListResponse",
         "\"m2yskBQFythfE4irbTIeOgYYfBU/S730Ilt-Fi-emsQJvJAAShlR6hM\"",
         "{'kind': 'youtube#videoCategory', 'etag': '\"m2yskBQFythfE4irbTIeOgYYfBU/RScXhi324h8usyIetreAVb-uKeM\"', 'id': '42', 'snippet': {'channelId': 'UCBR8-60-B28hp2BmDPdntcQ', 'title': 'Shorts', 'assignable': False}}"
        ],
        [
         "30",
         "youtube#videoCategoryListResponse",
         "\"m2yskBQFythfE4irbTIeOgYYfBU/S730Ilt-Fi-emsQJvJAAShlR6hM\"",
         "{'kind': 'youtube#videoCategory', 'etag': '\"m2yskBQFythfE4irbTIeOgYYfBU/0n9MJVCDLpA8q7aiGVrFsuFsd0A\"', 'id': '43', 'snippet': {'channelId': 'UCBR8-60-B28hp2BmDPdntcQ', 'title': 'Shows', 'assignable': False}}"
        ],
        [
         "31",
         "youtube#videoCategoryListResponse",
         "\"m2yskBQFythfE4irbTIeOgYYfBU/S730Ilt-Fi-emsQJvJAAShlR6hM\"",
         "{'kind': 'youtube#videoCategory', 'etag': '\"m2yskBQFythfE4irbTIeOgYYfBU/x5NxSf5fz8hn4loSN4rvhwzD_pY\"', 'id': '44', 'snippet': {'channelId': 'UCBR8-60-B28hp2BmDPdntcQ', 'title': 'Trailers', 'assignable': False}}"
        ]
       ],
       "shape": {
        "columns": 3,
        "rows": 32
       }
      },
      "text/html": [
       "<div>\n",
       "<style scoped>\n",
       "    .dataframe tbody tr th:only-of-type {\n",
       "        vertical-align: middle;\n",
       "    }\n",
       "\n",
       "    .dataframe tbody tr th {\n",
       "        vertical-align: top;\n",
       "    }\n",
       "\n",
       "    .dataframe thead th {\n",
       "        text-align: right;\n",
       "    }\n",
       "</style>\n",
       "<table border=\"1\" class=\"dataframe\">\n",
       "  <thead>\n",
       "    <tr style=\"text-align: right;\">\n",
       "      <th></th>\n",
       "      <th>kind</th>\n",
       "      <th>etag</th>\n",
       "      <th>items</th>\n",
       "    </tr>\n",
       "  </thead>\n",
       "  <tbody>\n",
       "    <tr>\n",
       "      <th>0</th>\n",
       "      <td>youtube#videoCategoryListResponse</td>\n",
       "      <td>\"m2yskBQFythfE4irbTIeOgYYfBU/S730Ilt-Fi-emsQJv...</td>\n",
       "      <td>{'kind': 'youtube#videoCategory', 'etag': '\"m2...</td>\n",
       "    </tr>\n",
       "    <tr>\n",
       "      <th>1</th>\n",
       "      <td>youtube#videoCategoryListResponse</td>\n",
       "      <td>\"m2yskBQFythfE4irbTIeOgYYfBU/S730Ilt-Fi-emsQJv...</td>\n",
       "      <td>{'kind': 'youtube#videoCategory', 'etag': '\"m2...</td>\n",
       "    </tr>\n",
       "    <tr>\n",
       "      <th>2</th>\n",
       "      <td>youtube#videoCategoryListResponse</td>\n",
       "      <td>\"m2yskBQFythfE4irbTIeOgYYfBU/S730Ilt-Fi-emsQJv...</td>\n",
       "      <td>{'kind': 'youtube#videoCategory', 'etag': '\"m2...</td>\n",
       "    </tr>\n",
       "    <tr>\n",
       "      <th>3</th>\n",
       "      <td>youtube#videoCategoryListResponse</td>\n",
       "      <td>\"m2yskBQFythfE4irbTIeOgYYfBU/S730Ilt-Fi-emsQJv...</td>\n",
       "      <td>{'kind': 'youtube#videoCategory', 'etag': '\"m2...</td>\n",
       "    </tr>\n",
       "    <tr>\n",
       "      <th>4</th>\n",
       "      <td>youtube#videoCategoryListResponse</td>\n",
       "      <td>\"m2yskBQFythfE4irbTIeOgYYfBU/S730Ilt-Fi-emsQJv...</td>\n",
       "      <td>{'kind': 'youtube#videoCategory', 'etag': '\"m2...</td>\n",
       "    </tr>\n",
       "    <tr>\n",
       "      <th>5</th>\n",
       "      <td>youtube#videoCategoryListResponse</td>\n",
       "      <td>\"m2yskBQFythfE4irbTIeOgYYfBU/S730Ilt-Fi-emsQJv...</td>\n",
       "      <td>{'kind': 'youtube#videoCategory', 'etag': '\"m2...</td>\n",
       "    </tr>\n",
       "    <tr>\n",
       "      <th>6</th>\n",
       "      <td>youtube#videoCategoryListResponse</td>\n",
       "      <td>\"m2yskBQFythfE4irbTIeOgYYfBU/S730Ilt-Fi-emsQJv...</td>\n",
       "      <td>{'kind': 'youtube#videoCategory', 'etag': '\"m2...</td>\n",
       "    </tr>\n",
       "    <tr>\n",
       "      <th>7</th>\n",
       "      <td>youtube#videoCategoryListResponse</td>\n",
       "      <td>\"m2yskBQFythfE4irbTIeOgYYfBU/S730Ilt-Fi-emsQJv...</td>\n",
       "      <td>{'kind': 'youtube#videoCategory', 'etag': '\"m2...</td>\n",
       "    </tr>\n",
       "    <tr>\n",
       "      <th>8</th>\n",
       "      <td>youtube#videoCategoryListResponse</td>\n",
       "      <td>\"m2yskBQFythfE4irbTIeOgYYfBU/S730Ilt-Fi-emsQJv...</td>\n",
       "      <td>{'kind': 'youtube#videoCategory', 'etag': '\"m2...</td>\n",
       "    </tr>\n",
       "    <tr>\n",
       "      <th>9</th>\n",
       "      <td>youtube#videoCategoryListResponse</td>\n",
       "      <td>\"m2yskBQFythfE4irbTIeOgYYfBU/S730Ilt-Fi-emsQJv...</td>\n",
       "      <td>{'kind': 'youtube#videoCategory', 'etag': '\"m2...</td>\n",
       "    </tr>\n",
       "    <tr>\n",
       "      <th>10</th>\n",
       "      <td>youtube#videoCategoryListResponse</td>\n",
       "      <td>\"m2yskBQFythfE4irbTIeOgYYfBU/S730Ilt-Fi-emsQJv...</td>\n",
       "      <td>{'kind': 'youtube#videoCategory', 'etag': '\"m2...</td>\n",
       "    </tr>\n",
       "    <tr>\n",
       "      <th>11</th>\n",
       "      <td>youtube#videoCategoryListResponse</td>\n",
       "      <td>\"m2yskBQFythfE4irbTIeOgYYfBU/S730Ilt-Fi-emsQJv...</td>\n",
       "      <td>{'kind': 'youtube#videoCategory', 'etag': '\"m2...</td>\n",
       "    </tr>\n",
       "    <tr>\n",
       "      <th>12</th>\n",
       "      <td>youtube#videoCategoryListResponse</td>\n",
       "      <td>\"m2yskBQFythfE4irbTIeOgYYfBU/S730Ilt-Fi-emsQJv...</td>\n",
       "      <td>{'kind': 'youtube#videoCategory', 'etag': '\"m2...</td>\n",
       "    </tr>\n",
       "    <tr>\n",
       "      <th>13</th>\n",
       "      <td>youtube#videoCategoryListResponse</td>\n",
       "      <td>\"m2yskBQFythfE4irbTIeOgYYfBU/S730Ilt-Fi-emsQJv...</td>\n",
       "      <td>{'kind': 'youtube#videoCategory', 'etag': '\"m2...</td>\n",
       "    </tr>\n",
       "    <tr>\n",
       "      <th>14</th>\n",
       "      <td>youtube#videoCategoryListResponse</td>\n",
       "      <td>\"m2yskBQFythfE4irbTIeOgYYfBU/S730Ilt-Fi-emsQJv...</td>\n",
       "      <td>{'kind': 'youtube#videoCategory', 'etag': '\"m2...</td>\n",
       "    </tr>\n",
       "    <tr>\n",
       "      <th>15</th>\n",
       "      <td>youtube#videoCategoryListResponse</td>\n",
       "      <td>\"m2yskBQFythfE4irbTIeOgYYfBU/S730Ilt-Fi-emsQJv...</td>\n",
       "      <td>{'kind': 'youtube#videoCategory', 'etag': '\"m2...</td>\n",
       "    </tr>\n",
       "    <tr>\n",
       "      <th>16</th>\n",
       "      <td>youtube#videoCategoryListResponse</td>\n",
       "      <td>\"m2yskBQFythfE4irbTIeOgYYfBU/S730Ilt-Fi-emsQJv...</td>\n",
       "      <td>{'kind': 'youtube#videoCategory', 'etag': '\"m2...</td>\n",
       "    </tr>\n",
       "    <tr>\n",
       "      <th>17</th>\n",
       "      <td>youtube#videoCategoryListResponse</td>\n",
       "      <td>\"m2yskBQFythfE4irbTIeOgYYfBU/S730Ilt-Fi-emsQJv...</td>\n",
       "      <td>{'kind': 'youtube#videoCategory', 'etag': '\"m2...</td>\n",
       "    </tr>\n",
       "    <tr>\n",
       "      <th>18</th>\n",
       "      <td>youtube#videoCategoryListResponse</td>\n",
       "      <td>\"m2yskBQFythfE4irbTIeOgYYfBU/S730Ilt-Fi-emsQJv...</td>\n",
       "      <td>{'kind': 'youtube#videoCategory', 'etag': '\"m2...</td>\n",
       "    </tr>\n",
       "    <tr>\n",
       "      <th>19</th>\n",
       "      <td>youtube#videoCategoryListResponse</td>\n",
       "      <td>\"m2yskBQFythfE4irbTIeOgYYfBU/S730Ilt-Fi-emsQJv...</td>\n",
       "      <td>{'kind': 'youtube#videoCategory', 'etag': '\"m2...</td>\n",
       "    </tr>\n",
       "    <tr>\n",
       "      <th>20</th>\n",
       "      <td>youtube#videoCategoryListResponse</td>\n",
       "      <td>\"m2yskBQFythfE4irbTIeOgYYfBU/S730Ilt-Fi-emsQJv...</td>\n",
       "      <td>{'kind': 'youtube#videoCategory', 'etag': '\"m2...</td>\n",
       "    </tr>\n",
       "    <tr>\n",
       "      <th>21</th>\n",
       "      <td>youtube#videoCategoryListResponse</td>\n",
       "      <td>\"m2yskBQFythfE4irbTIeOgYYfBU/S730Ilt-Fi-emsQJv...</td>\n",
       "      <td>{'kind': 'youtube#videoCategory', 'etag': '\"m2...</td>\n",
       "    </tr>\n",
       "    <tr>\n",
       "      <th>22</th>\n",
       "      <td>youtube#videoCategoryListResponse</td>\n",
       "      <td>\"m2yskBQFythfE4irbTIeOgYYfBU/S730Ilt-Fi-emsQJv...</td>\n",
       "      <td>{'kind': 'youtube#videoCategory', 'etag': '\"m2...</td>\n",
       "    </tr>\n",
       "    <tr>\n",
       "      <th>23</th>\n",
       "      <td>youtube#videoCategoryListResponse</td>\n",
       "      <td>\"m2yskBQFythfE4irbTIeOgYYfBU/S730Ilt-Fi-emsQJv...</td>\n",
       "      <td>{'kind': 'youtube#videoCategory', 'etag': '\"m2...</td>\n",
       "    </tr>\n",
       "    <tr>\n",
       "      <th>24</th>\n",
       "      <td>youtube#videoCategoryListResponse</td>\n",
       "      <td>\"m2yskBQFythfE4irbTIeOgYYfBU/S730Ilt-Fi-emsQJv...</td>\n",
       "      <td>{'kind': 'youtube#videoCategory', 'etag': '\"m2...</td>\n",
       "    </tr>\n",
       "    <tr>\n",
       "      <th>25</th>\n",
       "      <td>youtube#videoCategoryListResponse</td>\n",
       "      <td>\"m2yskBQFythfE4irbTIeOgYYfBU/S730Ilt-Fi-emsQJv...</td>\n",
       "      <td>{'kind': 'youtube#videoCategory', 'etag': '\"m2...</td>\n",
       "    </tr>\n",
       "    <tr>\n",
       "      <th>26</th>\n",
       "      <td>youtube#videoCategoryListResponse</td>\n",
       "      <td>\"m2yskBQFythfE4irbTIeOgYYfBU/S730Ilt-Fi-emsQJv...</td>\n",
       "      <td>{'kind': 'youtube#videoCategory', 'etag': '\"m2...</td>\n",
       "    </tr>\n",
       "    <tr>\n",
       "      <th>27</th>\n",
       "      <td>youtube#videoCategoryListResponse</td>\n",
       "      <td>\"m2yskBQFythfE4irbTIeOgYYfBU/S730Ilt-Fi-emsQJv...</td>\n",
       "      <td>{'kind': 'youtube#videoCategory', 'etag': '\"m2...</td>\n",
       "    </tr>\n",
       "    <tr>\n",
       "      <th>28</th>\n",
       "      <td>youtube#videoCategoryListResponse</td>\n",
       "      <td>\"m2yskBQFythfE4irbTIeOgYYfBU/S730Ilt-Fi-emsQJv...</td>\n",
       "      <td>{'kind': 'youtube#videoCategory', 'etag': '\"m2...</td>\n",
       "    </tr>\n",
       "    <tr>\n",
       "      <th>29</th>\n",
       "      <td>youtube#videoCategoryListResponse</td>\n",
       "      <td>\"m2yskBQFythfE4irbTIeOgYYfBU/S730Ilt-Fi-emsQJv...</td>\n",
       "      <td>{'kind': 'youtube#videoCategory', 'etag': '\"m2...</td>\n",
       "    </tr>\n",
       "    <tr>\n",
       "      <th>30</th>\n",
       "      <td>youtube#videoCategoryListResponse</td>\n",
       "      <td>\"m2yskBQFythfE4irbTIeOgYYfBU/S730Ilt-Fi-emsQJv...</td>\n",
       "      <td>{'kind': 'youtube#videoCategory', 'etag': '\"m2...</td>\n",
       "    </tr>\n",
       "    <tr>\n",
       "      <th>31</th>\n",
       "      <td>youtube#videoCategoryListResponse</td>\n",
       "      <td>\"m2yskBQFythfE4irbTIeOgYYfBU/S730Ilt-Fi-emsQJv...</td>\n",
       "      <td>{'kind': 'youtube#videoCategory', 'etag': '\"m2...</td>\n",
       "    </tr>\n",
       "  </tbody>\n",
       "</table>\n",
       "</div>"
      ],
      "text/plain": [
       "                                 kind  \\\n",
       "0   youtube#videoCategoryListResponse   \n",
       "1   youtube#videoCategoryListResponse   \n",
       "2   youtube#videoCategoryListResponse   \n",
       "3   youtube#videoCategoryListResponse   \n",
       "4   youtube#videoCategoryListResponse   \n",
       "5   youtube#videoCategoryListResponse   \n",
       "6   youtube#videoCategoryListResponse   \n",
       "7   youtube#videoCategoryListResponse   \n",
       "8   youtube#videoCategoryListResponse   \n",
       "9   youtube#videoCategoryListResponse   \n",
       "10  youtube#videoCategoryListResponse   \n",
       "11  youtube#videoCategoryListResponse   \n",
       "12  youtube#videoCategoryListResponse   \n",
       "13  youtube#videoCategoryListResponse   \n",
       "14  youtube#videoCategoryListResponse   \n",
       "15  youtube#videoCategoryListResponse   \n",
       "16  youtube#videoCategoryListResponse   \n",
       "17  youtube#videoCategoryListResponse   \n",
       "18  youtube#videoCategoryListResponse   \n",
       "19  youtube#videoCategoryListResponse   \n",
       "20  youtube#videoCategoryListResponse   \n",
       "21  youtube#videoCategoryListResponse   \n",
       "22  youtube#videoCategoryListResponse   \n",
       "23  youtube#videoCategoryListResponse   \n",
       "24  youtube#videoCategoryListResponse   \n",
       "25  youtube#videoCategoryListResponse   \n",
       "26  youtube#videoCategoryListResponse   \n",
       "27  youtube#videoCategoryListResponse   \n",
       "28  youtube#videoCategoryListResponse   \n",
       "29  youtube#videoCategoryListResponse   \n",
       "30  youtube#videoCategoryListResponse   \n",
       "31  youtube#videoCategoryListResponse   \n",
       "\n",
       "                                                 etag  \\\n",
       "0   \"m2yskBQFythfE4irbTIeOgYYfBU/S730Ilt-Fi-emsQJv...   \n",
       "1   \"m2yskBQFythfE4irbTIeOgYYfBU/S730Ilt-Fi-emsQJv...   \n",
       "2   \"m2yskBQFythfE4irbTIeOgYYfBU/S730Ilt-Fi-emsQJv...   \n",
       "3   \"m2yskBQFythfE4irbTIeOgYYfBU/S730Ilt-Fi-emsQJv...   \n",
       "4   \"m2yskBQFythfE4irbTIeOgYYfBU/S730Ilt-Fi-emsQJv...   \n",
       "5   \"m2yskBQFythfE4irbTIeOgYYfBU/S730Ilt-Fi-emsQJv...   \n",
       "6   \"m2yskBQFythfE4irbTIeOgYYfBU/S730Ilt-Fi-emsQJv...   \n",
       "7   \"m2yskBQFythfE4irbTIeOgYYfBU/S730Ilt-Fi-emsQJv...   \n",
       "8   \"m2yskBQFythfE4irbTIeOgYYfBU/S730Ilt-Fi-emsQJv...   \n",
       "9   \"m2yskBQFythfE4irbTIeOgYYfBU/S730Ilt-Fi-emsQJv...   \n",
       "10  \"m2yskBQFythfE4irbTIeOgYYfBU/S730Ilt-Fi-emsQJv...   \n",
       "11  \"m2yskBQFythfE4irbTIeOgYYfBU/S730Ilt-Fi-emsQJv...   \n",
       "12  \"m2yskBQFythfE4irbTIeOgYYfBU/S730Ilt-Fi-emsQJv...   \n",
       "13  \"m2yskBQFythfE4irbTIeOgYYfBU/S730Ilt-Fi-emsQJv...   \n",
       "14  \"m2yskBQFythfE4irbTIeOgYYfBU/S730Ilt-Fi-emsQJv...   \n",
       "15  \"m2yskBQFythfE4irbTIeOgYYfBU/S730Ilt-Fi-emsQJv...   \n",
       "16  \"m2yskBQFythfE4irbTIeOgYYfBU/S730Ilt-Fi-emsQJv...   \n",
       "17  \"m2yskBQFythfE4irbTIeOgYYfBU/S730Ilt-Fi-emsQJv...   \n",
       "18  \"m2yskBQFythfE4irbTIeOgYYfBU/S730Ilt-Fi-emsQJv...   \n",
       "19  \"m2yskBQFythfE4irbTIeOgYYfBU/S730Ilt-Fi-emsQJv...   \n",
       "20  \"m2yskBQFythfE4irbTIeOgYYfBU/S730Ilt-Fi-emsQJv...   \n",
       "21  \"m2yskBQFythfE4irbTIeOgYYfBU/S730Ilt-Fi-emsQJv...   \n",
       "22  \"m2yskBQFythfE4irbTIeOgYYfBU/S730Ilt-Fi-emsQJv...   \n",
       "23  \"m2yskBQFythfE4irbTIeOgYYfBU/S730Ilt-Fi-emsQJv...   \n",
       "24  \"m2yskBQFythfE4irbTIeOgYYfBU/S730Ilt-Fi-emsQJv...   \n",
       "25  \"m2yskBQFythfE4irbTIeOgYYfBU/S730Ilt-Fi-emsQJv...   \n",
       "26  \"m2yskBQFythfE4irbTIeOgYYfBU/S730Ilt-Fi-emsQJv...   \n",
       "27  \"m2yskBQFythfE4irbTIeOgYYfBU/S730Ilt-Fi-emsQJv...   \n",
       "28  \"m2yskBQFythfE4irbTIeOgYYfBU/S730Ilt-Fi-emsQJv...   \n",
       "29  \"m2yskBQFythfE4irbTIeOgYYfBU/S730Ilt-Fi-emsQJv...   \n",
       "30  \"m2yskBQFythfE4irbTIeOgYYfBU/S730Ilt-Fi-emsQJv...   \n",
       "31  \"m2yskBQFythfE4irbTIeOgYYfBU/S730Ilt-Fi-emsQJv...   \n",
       "\n",
       "                                                items  \n",
       "0   {'kind': 'youtube#videoCategory', 'etag': '\"m2...  \n",
       "1   {'kind': 'youtube#videoCategory', 'etag': '\"m2...  \n",
       "2   {'kind': 'youtube#videoCategory', 'etag': '\"m2...  \n",
       "3   {'kind': 'youtube#videoCategory', 'etag': '\"m2...  \n",
       "4   {'kind': 'youtube#videoCategory', 'etag': '\"m2...  \n",
       "5   {'kind': 'youtube#videoCategory', 'etag': '\"m2...  \n",
       "6   {'kind': 'youtube#videoCategory', 'etag': '\"m2...  \n",
       "7   {'kind': 'youtube#videoCategory', 'etag': '\"m2...  \n",
       "8   {'kind': 'youtube#videoCategory', 'etag': '\"m2...  \n",
       "9   {'kind': 'youtube#videoCategory', 'etag': '\"m2...  \n",
       "10  {'kind': 'youtube#videoCategory', 'etag': '\"m2...  \n",
       "11  {'kind': 'youtube#videoCategory', 'etag': '\"m2...  \n",
       "12  {'kind': 'youtube#videoCategory', 'etag': '\"m2...  \n",
       "13  {'kind': 'youtube#videoCategory', 'etag': '\"m2...  \n",
       "14  {'kind': 'youtube#videoCategory', 'etag': '\"m2...  \n",
       "15  {'kind': 'youtube#videoCategory', 'etag': '\"m2...  \n",
       "16  {'kind': 'youtube#videoCategory', 'etag': '\"m2...  \n",
       "17  {'kind': 'youtube#videoCategory', 'etag': '\"m2...  \n",
       "18  {'kind': 'youtube#videoCategory', 'etag': '\"m2...  \n",
       "19  {'kind': 'youtube#videoCategory', 'etag': '\"m2...  \n",
       "20  {'kind': 'youtube#videoCategory', 'etag': '\"m2...  \n",
       "21  {'kind': 'youtube#videoCategory', 'etag': '\"m2...  \n",
       "22  {'kind': 'youtube#videoCategory', 'etag': '\"m2...  \n",
       "23  {'kind': 'youtube#videoCategory', 'etag': '\"m2...  \n",
       "24  {'kind': 'youtube#videoCategory', 'etag': '\"m2...  \n",
       "25  {'kind': 'youtube#videoCategory', 'etag': '\"m2...  \n",
       "26  {'kind': 'youtube#videoCategory', 'etag': '\"m2...  \n",
       "27  {'kind': 'youtube#videoCategory', 'etag': '\"m2...  \n",
       "28  {'kind': 'youtube#videoCategory', 'etag': '\"m2...  \n",
       "29  {'kind': 'youtube#videoCategory', 'etag': '\"m2...  \n",
       "30  {'kind': 'youtube#videoCategory', 'etag': '\"m2...  \n",
       "31  {'kind': 'youtube#videoCategory', 'etag': '\"m2...  "
      ]
     },
     "execution_count": 32,
     "metadata": {},
     "output_type": "execute_result"
    }
   ],
   "source": [
    "# Load JSON file containing category ID mappings\n",
    "json_df = pd.read_json(os.path.join(\"..\", \"data\", \"additional_data\", \"US_category_id.json\"))\n",
    "json_df"
   ]
  },
  {
   "cell_type": "code",
   "execution_count": 33,
   "id": "1df809f2",
   "metadata": {},
   "outputs": [
    {
     "data": {
      "text/plain": [
       "{'kind': 'youtube#videoCategory',\n",
       " 'etag': '\"m2yskBQFythfE4irbTIeOgYYfBU/Xy1mB4_yLrHy_BmKmPBggty2mZQ\"',\n",
       " 'id': '1',\n",
       " 'snippet': {'channelId': 'UCBR8-60-B28hp2BmDPdntcQ',\n",
       "  'title': 'Film & Animation',\n",
       "  'assignable': True}}"
      ]
     },
     "execution_count": 33,
     "metadata": {},
     "output_type": "execute_result"
    }
   ],
   "source": [
    "# Sample items column\n",
    "json_df[\"items\"][0]"
   ]
  },
  {
   "cell_type": "code",
   "execution_count": 34,
   "id": "328b3aef",
   "metadata": {},
   "outputs": [],
   "source": [
    "# Create a dictionary to map category IDs to category names\n",
    "category_dict = {}\n",
    "\n",
    "for item in json_df[\"items\"].values:\n",
    "    category_dict[int(item[\"id\"])] = item[\"snippet\"][\"title\"]"
   ]
  },
  {
   "cell_type": "code",
   "execution_count": 35,
   "id": "c4304a81",
   "metadata": {},
   "outputs": [
    {
     "data": {
      "text/plain": [
       "{1: 'Film & Animation',\n",
       " 2: 'Autos & Vehicles',\n",
       " 10: 'Music',\n",
       " 15: 'Pets & Animals',\n",
       " 17: 'Sports',\n",
       " 18: 'Short Movies',\n",
       " 19: 'Travel & Events',\n",
       " 20: 'Gaming',\n",
       " 21: 'Videoblogging',\n",
       " 22: 'People & Blogs',\n",
       " 23: 'Comedy',\n",
       " 24: 'Entertainment',\n",
       " 25: 'News & Politics',\n",
       " 26: 'Howto & Style',\n",
       " 27: 'Education',\n",
       " 28: 'Science & Technology',\n",
       " 29: 'Nonprofits & Activism',\n",
       " 30: 'Movies',\n",
       " 31: 'Anime/Animation',\n",
       " 32: 'Action/Adventure',\n",
       " 33: 'Classics',\n",
       " 34: 'Comedy',\n",
       " 35: 'Documentary',\n",
       " 36: 'Drama',\n",
       " 37: 'Family',\n",
       " 38: 'Foreign',\n",
       " 39: 'Horror',\n",
       " 40: 'Sci-Fi/Fantasy',\n",
       " 41: 'Thriller',\n",
       " 42: 'Shorts',\n",
       " 43: 'Shows',\n",
       " 44: 'Trailers'}"
      ]
     },
     "execution_count": 35,
     "metadata": {},
     "output_type": "execute_result"
    }
   ],
   "source": [
    "category_dict"
   ]
  },
  {
   "cell_type": "code",
   "execution_count": 36,
   "id": "1eaf3183",
   "metadata": {},
   "outputs": [
    {
     "data": {
      "application/vnd.microsoft.datawrangler.viewer.v0+json": {
       "columns": [
        {
         "name": "index",
         "rawType": "int64",
         "type": "integer"
        },
        {
         "name": "video_id",
         "rawType": "object",
         "type": "string"
        },
        {
         "name": "trending_date",
         "rawType": "object",
         "type": "string"
        },
        {
         "name": "title",
         "rawType": "object",
         "type": "string"
        },
        {
         "name": "channel_title",
         "rawType": "object",
         "type": "string"
        },
        {
         "name": "category_id",
         "rawType": "int64",
         "type": "integer"
        },
        {
         "name": "publish_time",
         "rawType": "object",
         "type": "string"
        },
        {
         "name": "tags",
         "rawType": "object",
         "type": "string"
        },
        {
         "name": "views",
         "rawType": "int64",
         "type": "integer"
        },
        {
         "name": "likes",
         "rawType": "int64",
         "type": "integer"
        },
        {
         "name": "dislikes",
         "rawType": "int64",
         "type": "integer"
        },
        {
         "name": "comment_count",
         "rawType": "int64",
         "type": "integer"
        },
        {
         "name": "thumbnail_link",
         "rawType": "object",
         "type": "string"
        },
        {
         "name": "comments_disabled",
         "rawType": "bool",
         "type": "boolean"
        },
        {
         "name": "ratings_disabled",
         "rawType": "bool",
         "type": "boolean"
        },
        {
         "name": "video_error_or_removed",
         "rawType": "bool",
         "type": "boolean"
        },
        {
         "name": "description",
         "rawType": "object",
         "type": "unknown"
        },
        {
         "name": "category_name",
         "rawType": "object",
         "type": "string"
        }
       ],
       "ref": "d5011b2b-64a5-4710-895f-8ef91b80f216",
       "rows": [
        [
         "0",
         "SbOwzAl9ZfQ",
         "17.14.11",
         "CapÃ­tulo 12 | MasterChef 2017",
         "MasterChef 2017",
         "24",
         "2017-11-13T06:06:22.000Z",
         "MasterChef Junior 2017|\"TV Azteca\"|\"recetas\"|\"cocina\"|\"Anette Michel\"|\"Betty VÃ¡zquez\"|\"Benito Molina\"|\"AdriÃ¡n Herrera\"|\"master chef mexico\"|\"masterchef\"|\"master chef\"|\"master chef mexico 2017\"|\"masterchef mexico jueces\"|\"la cocina mÃ¡s famosa de mÃ©xico\"|\"reality de cocina mÃ¡s famoso de mÃ©xico\"|\"capÃ­tulo 12\"|\"episodio 12\"|\"capitulo masterchef\"|\"capitulo masterchef mexico 2017\"|\"programa masterchef de hoy\"",
         "310130",
         "4182",
         "361",
         "1836",
         "https://i.ytimg.com/vi/SbOwzAl9ZfQ/default.jpg",
         "False",
         "False",
         "False",
         "Disfruta la presencia del Chef Torreblanca en MasterChef, el duelo de pasteles, las mesas regionales de los chefs Benito, Betty y Herrera, la preparaciÃ³n de un tamal  artesanal y la salida del Padre Beto.\\n\\nMasterChef 2017\\nVisita nuestro sitio oficial:\\nhttp://www.aztecatrece.com/masterchef\\n\\nMasterChef regresa este 2017 mÃ¡s exigente que nunca. Descubre quiÃ©n serÃ¡ el mejor cocinero de MÃ©xico en la cocina mÃ¡s famosa del mundo. Tv Azteca",
         "Entertainment"
        ],
        [
         "1",
         "klOV6Xh-DnI",
         "17.14.11",
         "ALEXA EX-INTEGRANTE DEL GRUPO TIMBIRICHE RENUNCIA A Â¨La Voz Mexico 7Â¨TELEVISA 11/11/2017",
         "Micky Contreras Martinez",
         "22",
         "2017-11-13T05:11:58.000Z",
         "La Voz Mexico 7",
         "104972",
         "271",
         "174",
         "369",
         "https://i.ytimg.com/vi/klOV6Xh-DnI/default.jpg",
         "False",
         "False",
         "False",
         "ALEXA EX-INTEGRANTE DEL GRUPO TIMBIRICHE RENUNCIA A Â¨La Voz Mexico 7Â¨TELEVISA 11/11/2017",
         "People & Blogs"
        ],
        [
         "2",
         "6L2ZF7Qzsbk",
         "17.14.11",
         "LOUIS CKAGÃ - EL PULSO DE LA REPÃBLICA",
         "El Pulso De La RepÃºblica",
         "25",
         "2017-11-13T17:00:02.000Z",
         "Chumel Torres|\"El Pulso de la Republica\"|\"noticias\"|\"news\"|\"mexico\"|\"pri\"|\"pan\"|\"prd\"|\"morena\"|\"louis ck\"|\"carstens\"|\"acoso\"|\"qatar\"|\"chicharito\"|\"premio nacional del deporte\"|\"carlos slim\"|\"carlos vergara\"|\"chivas\"|\"angelica fuentes\"",
         "136064",
         "10105",
         "266",
         "607",
         "https://i.ytimg.com/vi/6L2ZF7Qzsbk/default.jpg",
         "False",
         "False",
         "False",
         "La canciÃ³n del principio se llama âEste espÃ­rituâ de nuestros carnales de nuestros carnales de Corona en colaboraciÃ³n con La Banda BastÃ³n y Sotomayor, escÃºchala completa aquÃ­:\\nhttps://youtu.be/pQI70NAgN-I\\nO en Spotify \\nhttps://open.spotify.com/track/1tg4Sm0RY0HMReaI0YmJuM\\n\\nEl Pulso de La RepÃºblica. El InIn (Informativo Informal) que sale todos los LUNES y JUEVES a las 11 A.M. estÃ¡ tambiÃ©n disponible en todas las plataformas:\\n\\nPara la fresada: https://itunes.apple.com/mx/app/el-pulso/id916281976?mt=8\\nPara la pelusa: https://play.google.com/store/apps/details?id=com.iktwo.elpulso&hl=es_419:\\nPara tus tÃ­as: https://www.facebook.com/ElPulsoDeLaRepublica/\\n\\nLa Lista Oficial de toda la mÃºsica no oficial de El Pulso:\\nhttps://open.spotify.com/user/12161104895/playlist/3yI4U05btr0MmNIn2etRKH\\n\\nY tambiÃ©n, si quieres tener un cachito de nosotros, estÃ¡ la tienda de productos oficiales:\\n\\nhttps://www.kichink.com/stores/maquina\\n\\nEl Pulso de la RepÃºblica somos:\\n\\nhttp://twitter.com/ChumelTorres\\nhttp://twitter.com/Durden\\nhttp://twitter.com/ZomVieck\\nhttp://twitter.com/rikymoreno\\nhttp://twitter.com/Kaizzer\\nhttps://twitter.com/elgab\\n\\nNo olvides suscribirte al canal y darnos tus pulgares arriba. Somos El Pulso de La RepÃºblica y nos despedimos no sin antes decirles queâ¦ Los amamos, estupeds.",
         "News & Politics"
        ],
        [
         "3",
         "hcY52MFWMDM",
         "17.14.11",
         "Sismo de 6.7 sacude Costa Rica 12 Noviembre 2017",
         "Casanare",
         "25",
         "2017-11-13T03:47:10.000Z",
         "temblor|\"costa rica\"|\"sismo en costa rica\"",
         "96153",
         "378",
         "171",
         "208",
         "https://i.ytimg.com/vi/hcY52MFWMDM/default.jpg",
         "False",
         "False",
         "False",
         "El video es de un Walmart en el pais centroamericano en el momento del temblor\\n\\nEl movimiento telÃºrico se produjo a las 20:28 (hora local) y tuvo su epicentro en el ocÃ©ano PacÃ­fico a 19 kilÃ³metros al sur de JacÃ³, ciudad playera de la provincia de Puntarenas, segÃºn la Red SismolÃ³gica Nacional.\\n\\nHasta el momento no hay reportes de personas heridas ni daÃ±os materiales.",
         "News & Politics"
        ],
        [
         "4",
         "_OXDcGPVAa4",
         "17.14.11",
         "DOG HACKS | MUSAS LESSLIE LOS POLINESIOS",
         "Musas",
         "26",
         "2017-11-13T19:17:48.000Z",
         "MUSAS|\"lesslie\"|\"karen\"|\"hacks\"|\"perros\"|\"dogs\"|\"trucos\"|\"los polinesios\"|\"aria\"|\"kler\"|\"manualidades\"|\"snaks de perros\"|\"dulces para perros\"|\"jueguetes\"|\"jueguetes de perro\"|\"can\"|\"diy dogs\"|\"diy hacks\"",
         "499965",
         "57781",
         "681",
         "7428",
         "https://i.ytimg.com/vi/_OXDcGPVAa4/default.jpg",
         "False",
         "False",
         "False",
         "MI HERMANO NARRA MI RUTINA DE MAQUILLAJE\\nhttps://youtu.be/Ge4wYu90Q2A\\n------------------------------------------------------------------------------------\\n\\nNUESTROS CANALES:\\nBromas: http://www.youtube.com/platicapolinesa\\nRetos: http://www.youtube.com/ppextras\\nVlogs: http://www.youtube.com/lospolinesios\\nVideojuegos: http://www.youtube.com/ppjuxiis\\n\\n------------------------------------------------------------------------------------\\n\\nMIS REDES SOCIALES:\\n***Mi Facebook: http://www.facebook.com/TeamLesslie\\n***Mi Twitter: http://www.twitter.com/PPTeamLesslie\\n***Mi Instagram: http://www.instagram.com/PPTeamLesslie\\n\\n------------------------------------------------------------------------------------\\n\\n\\n***SUSCRIBETE: http://www.youtube.com/subscription_center?add_user=ppmussas\\n\\nCONTACTO: contacto@platicapolinesia.com\\n\\n\\n____________________________________________\\n\\nCanal Musas | Platica Polinesia | PP",
         "Howto & Style"
        ],
        [
         "5",
         "Q9kK6NWZR1U",
         "17.14.11",
         "Asi se sintio Terremoto en iraq al bordo de iran 7.6",
         "MÃSICA & ENTRETENIMIENTO",
         "10",
         "2017-11-12T20:17:38.000Z",
         "[none]",
         "129645",
         "506",
         "67",
         "239",
         "https://i.ytimg.com/vi/Q9kK6NWZR1U/default.jpg",
         "False",
         "False",
         "False",
         "Un fuerte sismo ha afectado en la noche de este domingo a IrÃ¡n e Iraq, con una profundidad de 10 kilÃ³metros, informa el Centro SismolÃ³gico Europeo MediterrÃ¡neo (EMSC, por sus siglas en inglÃ©s).\\n\\nMedios internacionales reportan que se trata del mayor terremoto en Oriente Medio, que se ha sentido en toda la regiÃ³n, desde el LÃ­bano hasta Kuwait.\\n\\nEl terremoto se registrÃ³ a 204 kilÃ³metros al noreste de Bagdad, y a 104 kilÃ³metros al oeste de la ciudad iranÃ­ de Kermanshaj.\\n\\nEl Servicio GeolÃ³gico de Estados Unidos (USGS, por sus siglas en inglÃ©s), seÃ±ala que el terremoto ha sido de magnitud 7,2 y que el epicentro se registrÃ³ a una profundidad de 33 kilÃ³metros a unos 32 kilÃ³metros de la ciudad iraquÃ­ de Halabja.",
         "Music"
        ],
        [
         "6",
         "c9VTD3n_IDs",
         "17.14.11",
         "La Resolana con el Capi | Programa 12 noviembre  2017",
         "La Resolana",
         "22",
         "2017-11-13T07:00:03.000Z",
         "la resolana|\"la resolana con el capi\"|\"tv azteca\"|\"la resolana capitulos completos\"|\"el capi\"|\"la resolana 2017\"|\"el capi perez\"|\"carlos perez\"|\"carlos perez el capi\"",
         "75197",
         "2277",
         "69",
         "164",
         "https://i.ytimg.com/vi/c9VTD3n_IDs/default.jpg",
         "False",
         "False",
         "False",
         "Hoy en La Resolana vamos a divertirnos con nuestra clÃ¡sica asoleada a MasterChef, pero ademÃ¡s hablamos de Venga a AlegrÃ­a, ExatlÃ³n, y recibimos a un invitado muy irreverente y especial.\\n\\nLa Resolana con El Capi es un programa de crÃ­tica televisiva que te harÃ¡ reÃ­r a carcajadas",
         "People & Blogs"
        ],
        [
         "7",
         "XzULSsZYMRc",
         "17.14.11",
         "M6.7 Costa Rica AnÃ¡lisis de Terremotos en (((ALERTA SÃSMICA))) con Alex Backman",
         "concienciaradio",
         "25",
         "2017-11-13T06:18:23.000Z",
         "terremoto|\"costa rica\"|\"nicaragua\"|\"alex backman\"|\"reporte solar sismico y volcanico\"|\"2017\"|\"noviembre\"|\"12\"|\"volcanes\"|\"turrialba\"|\"alerta sismica\"|\"conciencia radio\"|\"cr noticias\"",
         "142522",
         "7745",
         "659",
         "0",
         "https://i.ytimg.com/vi/XzULSsZYMRc/default.jpg",
         "True",
         "False",
         "False",
         "(CR NOTICIAS NOV 12, 2017) UN FUERTE TERREMOTO M6.7 sacudiÃ³ Costa Rica hoy 12 de noviembre, 2017, a una profundiad de menos de km. El evento sucediÃ³ dentro de la alerta sÃ­smica que emitiÃ³ Aklex Backman del 12 al 16 de noviembre, 2017 en su Reprote Solar SÃ­smico y VolcÃ¡nico el 11 de noviembre, donde advirtiÃ³ de potenciales terremotos de magnitud M6.0 a M6.9 o mayores por dos factores, la alineaciÃ³n planetaria entre la conjunciÃ³n de menos de 1Â° entre Venus y JÃºpiter,  y la Tierra, y tambiÃ©n la influencia del Hoyo Coronal #40 en el hemisferi norte del sol.\\nInformaciÃ³n del evento del EMSC:\\nhttps://www.emsc-csem.org/Earthquake/earthquake.php?id=629779# \\nOVSICORI\\nhttp://www.ovsicori.una.ac.cr/index.php/sismologia/sistemas-consulta/sismos-sentidos \\nUSGS\\nhttps://earthquake.usgs.gov/earthquakes/eventpage/us2000bmhe#executive \\n\\nPÃ¡gina Oficial del Reporte Solar SÃ­smico y VolcÃ¡nico: \\nreportesolar.com\\nAlertas a la Salud por el Clima Espacial:\\nreportesolar.com/alertas\\nMapa de Regiones SÃ­smicas en Riesgo:\\nreportesolar.com/mapa\\nChecando Niveles: \\nreportesolar.com/niveles\\n\\n**Alertas: (((Alerta T)))** suscrÃ­bete en http://alertat.com y recibe alertas al momento en tu dispositivo mÃ³vil a travÃ©s de la app de Telegram. \\n\\nInstala TELEGRAM en tu mÃ³vil y bÃºscanos como 'crnoticias', e ingresa a la siguiente liga http://t.me/concienciaradio para recibir noticias de Conciencia Radio. \\n\\n\\nEsta informaciÃ³n es presentada gracias a tu patrocinio. \\nApÃ³yanos  con lo que puedas usando los siguientes medios:\\nPaypal: https://paypal.me/concienciardio\\nOXXO BANAMEX SALDAZO 4766 8404 4986 2593 (sin comisiÃ³n)\\n\\nPÃ¡gina Oficial: concienciaradio.com\\nCorreo: info@concienciaradio.com \\nFacebook:  no participamos en esta Deep Web\\nYoutube: youtube.com/concienciaradio \\nTwitter: @concienciaradio | @crnalexander\\n\\nEnvÃ­a tus preguntas a #crpreguntas\\n\\nGracias por apoyar el periodismo independiente. \\n\\nConciencia Radio y CR Noticias es patrocinado por quienes ven nuestros videos investigaciones y reportajes.",
         "News & Politics"
        ],
        [
         "8",
         "uijjYNtl_UM",
         "17.14.11",
         "7 NiÃ±os Famosos Que No Supieron Adaptarse a La Fama - Los mejores Top 10",
         "Los mejores Top 10",
         "24",
         "2017-11-12T19:54:12.000Z",
         "los mejores top 10|\"top 10 niÃ±os\"|\"top 10\"|\"top\"|\"tops\"|\"niÃ±os famosos que no supieron adaptarse a la fama\"|\"niÃ±os famosos antes y despues\"|\"niÃ±os famosos que acabaron mal\"|\"niÃ±os\"|\"famosos\"|\"victimas\"|\"fama\"|\"noÃ±os famosos que se volvieron horribles\"|\"asi lucen hoy estos niÃ±os famosos\"|\"niÃ±os famosos\"|\"actor\"|\"actores\"|\"niÃ±os famosos que no creeras lo que hacen hoy\"|\"los niÃ±os mas ricos del mundo\"|\"niÃ±os famosos que no se adaptaron a la fama\"|\"top 5\"|\"youtubers famosos\"|\"niÃ±os que crecieron en la carcel\"",
         "371110",
         "20155",
         "912",
         "766",
         "https://i.ytimg.com/vi/uijjYNtl_UM/default.jpg",
         "False",
         "False",
         "False",
         "7 NiÃ±os Famosos Que No Supieron Adaptarse a La Fama - Los mejores Top 10\\n\\nSi le preguntan a cualquiera si quiere ser famoso probablemente te dirÃ¡ que si, sin embargo la fama conlleva una serie de cosas y psicologicamente no es tan fÃ¡cil de llevar como algunos podemos creer. hoy vamos a ver top 7 NiÃ±os Famosos Que No Supieron Adaptarse a La Fama Los mejores Top 10\\n\\nð¥ Â¡SUSCRÃBETE! Y ConviÃ©rtete en un Tener!\\n\\nÂ¡SÃ­gueme!\\nTwitter: https://twitter.com/LosMejoresTop\\nInstagram: https://www.instagram.com/LosMejoresTopOficial\\nFacebook: https://www.fb.com/LosMejoresTopOficial\\n\\nSi tienes alguna pregunta puedes ponerme un comentario o decÃ­rmelo por mis redes sociales en las que siempre estoy muy activo.\\n\\nE-m@il para sugerencias y negocios: losmejorestop10contacto@gmail.com\\n\\nMuchas Gracias #TENERS ð STodos los dÃ­as un vÃ­deo nuevo en forma de listas y Top 10, Top 7 o Top 5. Entra y descubre algo increible e interesante en el mundo de los tops todos los dÃ­as. Datos interesantes del mundo y otras curiosidades. Suscribete al canal, deja un like y activa las notificaciones. No olvides dejar en los comentarios tus ideas para prÃ³ximos vÃ­deos listas y Top",
         "Entertainment"
        ],
        [
         "9",
         "cOJ68MQm2ac",
         "17.14.11",
         "TOP: Los 7 libros infantiles mÃ¡s perturbadores | Angel David Revilla (Dross)",
         "DrossRotzank",
         "24",
         "2017-11-12T21:14:44.000Z",
         "libros infantiles|\"Dross\"|\"terror\"|\"horror\"|\"miedo\"",
         "1111314",
         "83582",
         "2194",
         "9106",
         "https://i.ytimg.com/vi/cOJ68MQm2ac/default.jpg",
         "False",
         "False",
         "False",
         "Actualizo 3 veces por semana. Si el video te gusta, tu suscripciÃ³n y pulgar arriba son bienvenidos. Â¡Abrazos, audiencia!",
         "Entertainment"
        ],
        [
         "10",
         "rZZEeeAVgog",
         "17.14.11",
         "Franco Escamilla.- Tradiciones y Faitelson",
         "Franco Escamilla",
         "23",
         "2017-11-12T19:30:02.000Z",
         "La|\"mesa\"|\"reÃ±oÃ±a\"|\"Franco\"|\"Escamilla\"|\"Comedia\"|\"Diablo\"|\"Squad\"|\"noticias\"|\"Faitelson\"|\"monÃ³logo\"|\"humor\"|\"comediante\"|\"stand up en espaÃ±ol\"",
         "471516",
         "23279",
         "270",
         "494",
         "https://i.ytimg.com/vi/rZZEeeAVgog/default.jpg",
         "False",
         "False",
         "False",
         "Si, el Ã¡ngulo de la cÃ¡mara estÃ¡ raro.\\nNo, no se podÃ­a de otra manera.\\n\\nRecuerda descargar la aplicaciÃ³n oficial de Franco Escamilla\\nPara iOS                   https://goo.gl/jXQoeE\\nPara Google Play   https://goo.gl/3T6vvU\\nhttps://www.francoescamillaoficial.com\\nhttps://www.facebook.com/francoescaoficial\\nhttps://twitter.com/franco_esca",
         "Comedy"
        ],
        [
         "11",
         "kTT472QeJGg",
         "17.14.11",
         "Juanpa Zurita Â¿Se clavÃ³ el dinero de las donaciones? | Viral Team le tira a Dosogas",
         "maurg1",
         "22",
         "2017-11-13T01:16:16.000Z",
         "Maurg|\"chismes\"|\"maurg1\"|\"maur\"|\"maur g\"|\"mau r g\"|\"youtubers\"|\"escandalos\"|\"can can can can\"|\"ventaneando\"|\"yuya\"|\"werever\"|\"video oculto\"|\"video privado\"|\"top\"|\"tops\"|\"salseo\"|\"no sabÃ­as de\"|\"secretos\"|\"secreto\"|\"reuniÃ³n\"|\"problemas\"|\"ex\"|\"exnovio\"|\"besos\"|\"youtubers en\"|\"#lovearmymexico\"|\"lovearmymexico\"|\"juan pablo zurita\"|\"pepeproblemas\"|\"pepe problemas se cae\"|\"viral vs dosogas\"|\"dosbros\"|\"dosogas\"",
         "220315",
         "17070",
         "7718",
         "1895",
         "https://i.ytimg.com/vi/kTT472QeJGg/default.jpg",
         "False",
         "False",
         "False",
         "El pasado 24 de septiembre @juanpazurita junto con varias celebridades iniciÃ³ el #LoveArmyMexico una campaÃ±a de donaciones que pretende juntar 1 millÃ³n de dÃ³lares para reconstruir las casas de los damnificados tras el pasado sismo; Viral le responde a Dosogas con un fuerte video musical Â¿QuiÃ©n gana la batalla? y finalmente Pepeproblemas se cae en un evento durante una presentaciÃ³n que tuvo lugar en Sinaloa.\\n\\nVideo recomendado: https://www.youtube.com/watch?v=-0QbpH4-tz4&t=257s\\n\\nDESCARGA UBER Y TE REGALO $150 CON EL CÃDIGO: MAURG1\\nhttps://goo.gl/rSzQHH - Android\\nhttps://goo.gl/F9078p - iPhone\\n\\nDESCARGA UBER EATS Y TE REGALO $150 PESOS CON EL CÃDIGO EATSMAURG1\\nhttps://goo.gl/BucSwN - Android\\nhttps://goo.gl/IiUxMj - iOS\\n\\nYOUNOW: \\n\\nhttp://www.younow.com/maurg1\\n\\nFACEBOOK:\\n\\nhttps://goo.gl/uEXAix\\n\\nTWITTER:\\n\\n@maurg1 https://www.twitter.com/maurg1\\n\\nINSTAGRAM:\\n\\n@maurg1 http://www.instagram.com/maurg1",
         "People & Blogs"
        ],
        [
         "12",
         "yhdI98_O-Xc",
         "17.14.11",
         "Disney Challenge - feat. Luis Angel Gomez / Miguel en Coco/ Memo Aponte",
         "Memo Aponte",
         "22",
         "2017-11-13T01:50:12.000Z",
         "memo aponte coco|\"memo aponte voces\"|\"memo aponte disney\"|\"memo aponte carrera\"|\"memo aponte fandub\"|\"memo aponte doblaje\"|\"memo aponte y la bala\"|\"memo aponte phineas\"|\"memo aponte actores de doblaje\"|\"memo aponte abuelita\"|\"memo aponte acapella\"|\"memo aponte aladdin\"|\"memo aponte antes y despues\"|\"memo aponte buscando novia en disney\"|\"memo aponte comercial\"|\"memo aponte fandub moana\"|\"memo aponte japon\"|\"memo aponte ibero\"|\"memo aponte introduccion al doblaje\"|\"memo aponte hiro\"",
         "127796",
         "13293",
         "216",
         "2318",
         "https://i.ytimg.com/vi/yhdI98_O-Xc/default.jpg",
         "False",
         "False",
         "False",
         "Fui hasta Leon, Guanajuato para conocer y competir contra Luis Angel Gomez Jaramillo, la voz de Miguel en COCO, la nueva pelÃ­cula de Disney y Pixar inspirada en el DÃ­a de Muertos!!!",
         "People & Blogs"
        ],
        [
         "13",
         "7jmJtdqI6YE",
         "17.14.11",
         "Sismo sacude Costa Rica la noche del 12 de Noviembre de 2017",
         "Harrison",
         "24",
         "2017-11-13T04:44:51.000Z",
         "terremoto costa rica|\"Primeras imagenes sismo 6.7 en Costa Rica\"|\"sismo costa rica\"|\"terremotos irak\"|\"TERREMOTO FUERTE M6.7 COSTA RICA\"|\"Momento Exacto Sismo de 6.5 Grados\"|\"Terremoto en Costa Rica\"|\"Tiembla en costa rica\"|\"imagenes sismo costa rica\"|\"sismo en costa rica 2017\"|\"sismo en costa rica hoy\"",
         "53265",
         "194",
         "41",
         "90",
         "https://i.ytimg.com/vi/7jmJtdqI6YE/default.jpg",
         "False",
         "False",
         "False",
         "Un sismo de magnitud 6.5 sacudiÃ³ el domingo por la noche la costa de Costa Rica cerca de la capital, San JosÃ©, reportÃ³ el Servicio GeolÃ³gico de Estados Unidos.",
         "Entertainment"
        ],
        [
         "14",
         "Dhhp8M5K3UI",
         "17.14.11",
         "Deleted video",
         "Harrison",
         "24",
         "2017-11-13T04:44:51.000Z",
         "terremoto costa rica|\"Primeras imagenes sismo 6.7 en Costa Rica\"|\"sismo costa rica\"|\"terremotos irak\"|\"TERREMOTO FUERTE M6.7 COSTA RICA\"|\"Momento Exacto Sismo de 6.5 Grados\"|\"Terremoto en Costa Rica\"|\"Tiembla en costa rica\"|\"imagenes sismo costa rica\"|\"sismo en costa rica 2017\"|\"sismo en costa rica hoy\"",
         "53265",
         "194",
         "41",
         "90",
         "https://i.ytimg.com/vi/7jmJtdqI6YE/default.jpg",
         "False",
         "False",
         "True",
         "Un sismo de magnitud 6.5 sacudiÃ³ el domingo por la noche la costa de Costa Rica cerca de la capital, San JosÃ©, reportÃ³ el Servicio GeolÃ³gico de Estados Unidos.",
         "Entertainment"
        ],
        [
         "15",
         "M16Usa8oqDg",
         "17.14.11",
         "TERREMOTO 7,2 SACUDE IRAK E IRÃN 12.11.17 PRIMERAS IMÃGENES",
         "EnigmAnÃ³nimo Mundo de Hoy",
         "25",
         "2017-11-13T04:21:34.000Z",
         "Terremoto|\"Earthquake\"|\"terremoto en Irak e Iran\"|\"terremoto 7.2 Irak e Iran 12.11.17\"|\"Earthquake Irak Iran 2017\"|\"Earthquake 7.2 Iark Iran 11.12.17\"|\"Earthquake 2017\"",
         "66073",
         "399",
         "39",
         "109",
         "https://i.ytimg.com/vi/M16Usa8oqDg/default.jpg",
         "False",
         "False",
         "False",
         "un terremoto sacudio la noche del domingo en la frontera entre IrÃ¡n e Irak, a una profundidad de 10 kilÃ³metros, informo el Centro SismolÃ³gico Europeo MediterrÃ¡neo EMSC; El terremoto ha dejado hasta el momento, 100 muertos y unos 1000 heridos,  informa la agencia FARS citando a fuentes oficiales. El terremoto se registrÃ³ a 204 kilÃ³metros al noreste de Bagdad, y a 104 kilÃ³metros al oeste de la ciudad iranÃ­ de Kermanshah. SegÃºn medios internacionales, se trata de uno de los mayores terremotos que hayan tenido lugar en Oriente Medio.",
         "News & Politics"
        ],
        [
         "16",
         "OFXU_vrye9w",
         "17.14.11",
         "Â¡Se acabÃ³ la espera! El Privilegio de Mandar | CapÃ­tulo 01",
         "El Privilegio de Mandar",
         "23",
         "2017-11-12T23:20:42.000Z",
         "Televisa|\"El privilegio de mandar\"|\"segunda temporada\"|\"aÃ±o electoral 2018\"|\"PeÃ±a Nieto en zona de sismo\"|\"Barra de comedia\"|\"Lalo EspaÃ±a\"|\"Pierre Angelo\"|\"HÃ©ctor Sandarti\"|\"Alfonso Villalpando\"|\"Dalilah Polanco\"|\"Claudio Herrera\"|\"Christian Ahumada\"|\"Yekaterina Kiev\"|\"Mariana EcheverrÃ­a\"|\"Herson Andrade\"|\"Juan Frese\"|\"Hugo AlcÃ¡ntara\"|\"Reynado LÃ³pez\"|\"Manuel Ajenjo\"|\"CÃ©sar GonzÃ¡lez\"|\"#ELPrivilegioDeMandar\"|\"el peje\"|\"parodia\"|\"El privilegio de mandar 2018\"",
         "30274",
         "705",
         "199",
         "125",
         "https://i.ytimg.com/vi/OFXU_vrye9w/default.jpg",
         "False",
         "False",
         "False",
         "Cierra las ventanas, abre los ojos, suelta la risa... El Privilegio de Mandar ya estÃ¡ aquÃ­. Disfruta el primer capÃ­tulo. (No apto para consejeros del INE). \\n\\nFacebook: facebook.com/privdemandar\\nTwitter: twitter.com/privdemandar\\nInstagram: instagram.com/privdemandar",
         "Comedy"
        ],
        [
         "17",
         "238T-LaO_IM",
         "17.14.11",
         "Termina Telenovela  Las Malcriadas sin Pena ni Gloria",
         "Chacaleo. Com",
         "24",
         "2017-11-13T14:00:01.000Z",
         "Telenovela malcriadas final|\"Telenovela malcriadas ultimos capitulos\"|\"Telenovela malcriadas rebeca jones\"|\"Telenovela malcriadas Ernesto Laguardia\"|\"Telenovela malcriadas Ivonne Montero\"|\"Telenovela malcriadas Sara Maldonado\"|\"Telenovela malcriadas tv azteca\"|\"Telenovela malcriadas decpeciona\"",
         "47789",
         "776",
         "143",
         "308",
         "https://i.ytimg.com/vi/238T-LaO_IM/default.jpg",
         "False",
         "False",
         "False",
         "Finalmente, las grabaciones de la telenovela âLas Malcriadasâ terminaron esta semana, dejando un mal sabor de boca, a pesar de que la televisora del Ajusco tenÃ­a todo para que esa producciÃ³n fuera exitosa. \\n\\nâ¦â¦â¦â¦â¦â¦â¦â¦â¦â¦â¦â¦â¦â¦â¦â¦.\\nWeb: http://chacaleo.com\\nFacebook: https://www.facebook.com/Chacaleo-577...\\nTwitter: https://twitter.com/Chacaleocom\\nYoutube: https://www.youtube.com/c/ChacaleoCom\\n..............................................................\\n\\nChacaleo.com sostiene y difunde sus investigaciones con base al artÃ­culo 19Âº de la DeclaraciÃ³n Universal de los Derechos Humanos de 1948, en la Primera Enmienda de la ConstituciÃ³n de los Estados Unidos de AmÃ©rica, y en los artÃ­culos 6Âº y 7Âº de la ConstituciÃ³n PolÃ­tica de los Estados Unidos Mexicanos. \\nSus reseÃ±as vÃ­deo-editoriales y/o noticiosas pretenden difundir lo mÃ¡s fielmente posible la realidad activa del mundo de la farÃ¡ndula, con base a fuentes fidedignas, en la mayor parte de las ocasiones de primera mano y de testigos presenciales de lo acontecimientos. \\nPendientes y atentos a los comentarios de nuestros lectores y personajes involucrados, nos mantenemos abiertos a cualquier aclaraciÃ³n o derecho de rÃ©plica, en caso de ser necesario o justificado.",
         "Entertainment"
        ],
        [
         "18",
         "KO-QO5QQAyM",
         "17.14.11",
         "Mexico vs Polonia 1-0 RESUMEN GOLES [Goals-Highlights] Amistoso Friendly-Match 13/11/2017",
         "Central de notÃ­cias e esportes CNE",
         "17",
         "2017-11-13T20:40:53.000Z",
         "MÃ©xico vs Poland 1-0 All Goals & Highlights 2017|\"Poland vs MÃ©xico 0-1 All Goals & Highlights 2017\"|\"Poland vs MÃ©xico 0-1 Goals\"|\"Mexico vs Polonia 1-0\"|\"MÃ©xico vs Poland 1-0\"|\"Mexico 1-0 Polonia goles 2017\"",
         "39857",
         "233",
         "45",
         "324",
         "https://i.ytimg.com/vi/KO-QO5QQAyM/default.jpg",
         "False",
         "False",
         "False",
         "Mexico vs Polonia 1-0 RESUMEN GOLES [Goals-Highlights] Amistoso Friendly-Match 13/11/2017\\n\\nMexico vs Polonia 1-0 - Resumen Completo y Goles 13/11/2017 HD\\n\\nPolonia vs Mexico 1-0 Penale\\n\\nPolonia vs Mexico 2017\\n \\nMÃ©xico vs Polonia 1-0 - Resumen Completo y Goles 13/11/2017 HD \\nMexico vs Polonia 1-0 EXTENDED Highlights - Resumen y Goles \\nMexico vs Polonia 1-0 - Resumen Completo y Goles 13/11/2017 HD vs Polonia 1-0 RESUMEN & GOLES 21-01-0117\\nMexico x Polonia goles 2017\\nMexico x Polonia goleada\\nMexico vs Polonia 1-0 RESUMEN & GOLES 111\\nMexico vs Polonia 1-0 2017 - All Goals & EXTENDED Highlights / RESUMEN & GOLES 11.11.2017 HD \\nMexico vs Polonia 1-0 2017 RESUMEN & GOLES / ALL GOALS 20.20.2017 HD 711p Video \\nMexico vs Polonia 1-0 | Match Preview 13/11/2017 HD 711p\\nMexico vs Polonia 1-0 | Match Preview 13/11/2017 HD 711p\\nMexico vs Polonia 1-0 | Match Preview 13/11/2017 HD 711p\\nMexico vs Polonia 1-0 GOAL RaÃºl JimÃ©nez [HD]\\nMexico vs Polonia 1-0 gol RaÃºl JimÃ©nez [2017 ] 2017\\nGoal RaÃºl JimÃ©nez - Mexico vs Polonia 1-0\\nGoal RaÃºl JimÃ©nez - Mexico vs Polonia 1-0\\nMexico vs Polonia 1-0  \\nGoal RaÃºl JimÃ©nez - Mexico vs Polonia 1-0 - Resumen Completo y Goles 13/11/2017 HD vs Polonia 1-0\\nGol RaÃºl JimÃ©nez Mexico vs Polonia 1-0 2017 HD\\nMexico vs Polonia 1-0 20.11 .2017\\nMexico vs Polonia 1-0  (2017 ) 2017 HD\\nPoland vs Mexico 0-1 All Goals & Highlights 2017 HD\\nMÃ©xico vs Poland 1-0 All Goals & Highlights\\nPoland vs Mexico 0-1 HIGHLIGHTS & ALL GOALS  [HD]\\nPoland vs MÃ©xico 0-1 HIGHLIGHTS 2017\\nPoland vs Mexico 0-1- all Goals & Highlights 2017  \\nPoland vs MÃ©xico 0-1 Goals\\nPoland vs MÃ©xico 0-1 Goals\\nPoland vs MÃ©xico 0-1 Goals\\nMexico vs Poland 1-0 Goals 13/11/2017\\nMÃ©xico vs Poland 1-0 All Goals & Highlights 2017  \\nMÃ©xico vs Poland 1-0 All Goals & Highlights 2017   \\nPoland vs MÃ©xico 0-1 All Goals & Highlights 2017  \\nPoland vs MÃ©xico 0-1 - Resumen Completo y Goles 13/11/2017 HD vs Polonia 1-0 2017 Goals\\nMexico vs Polonia 1-0 2017 Goals\\nMexico vs Polonia 1-0 2017 Goals\\nMexico vs Polonia 1-0 2017 Goals\\nMexico vs Polonia 1-0 Goals\\nMÃ©xico vs Poland 1-0 (13/11/2017) Goals\\nMexico vs Polonia 1-0 (13/11/2017) Goals\\nMexico vs Polonia 1-0 (13/11/2017) Goals\\nMexico vs Polonia 1-0 17 11 Goals\\nMexico 1x0 Polonia \\nPoland 1-0 Polonia\\nMÃ©xico 1-0 Poland 2017  \\nMexico 1-0 Polonia 2017\\nMexico 1-0 Polonia\\nMexico 1-0 Polonia gols 2017  \\nMexico 1-0 Polonia gols\\nMexico vs Polonia 1-0 - Resumen Completo y Goles 13/11/2017 HD 1-0 Polonia goles\\nMexico 1-0 Polonia goles 2017\\nMexico 1-0 Polonia goleada\\nPolonia 0 x 1 Mexico - Gols & Melhores Momentos Amistoso 2017\\nPolonia 0X1 Mexico - Melhores Momentos  13/11/2017 \\n\\n\\nMexico vs Polonia 1-0 Goal RaÃºl JimÃ©nez!  -  13/11/2017\\n\\nGoal RaÃºl JimÃ©nez  - Mexico vs Polonia 1-0 -  13/11/2017 HD 2017. \\nBy CNE.\\n\\nMexico vs Polonia, Mexico vs Polonia , Mexico vs Polonia 2017, Mexico vs Polonia all goals, Mexico vs Polonia all goals 2017, Mexico vs Polonia Highlights, Mexico vs Polonia Highlights 2017, Mexico vs Polonia Extended Highlights.\\nMexico vs Polonia 1-0",
         "Sports"
        ],
        [
         "19",
         "7D-swI6qNLM",
         "17.14.11",
         "HACKS CON SILICÃN CALIENTE",
         "MaireWink",
         "24",
         "2017-11-13T18:00:01.000Z",
         "[none]",
         "217025",
         "26934",
         "201",
         "1277",
         "https://i.ytimg.com/vi/7D-swI6qNLM/default.jpg",
         "False",
         "False",
         "False",
         "CANAL DE HISTORIAS:\\nhttps://www.youtube.com/HistoriasWink\\n\\nCANAL PERSONAL QUE LES JURO QUE YA VOY A USAR (ALGÃN DÃA(TAL VEZ))\\nhttps://www.youtube.com/mairewink\\n\\nInstagram: maire_wink\\ntwitter: @maire_wink\\nhttps://www.facebook.com/maireguinc",
         "Entertainment"
        ],
        [
         "20",
         "WflHonz04Uc",
         "17.14.11",
         "Terremoto de irak 7.3 Momento exacto",
         "noaseify",
         "24",
         "2017-11-12T21:12:07.000Z",
         "terremoto|\"irak\"|\"irak 7.3\"|\"terremoto 7.3\"",
         "29667",
         "20",
         "53",
         "10",
         "https://i.ytimg.com/vi/WflHonz04Uc/default.jpg",
         "False",
         "False",
         "False",
         "Terremoto de magnitud 7,3 en la escala de Richter ha sacudido este domingo la frontera entre IrÃ¡n y el norte de Irak, en la regiÃ³n autÃ³noma del KurdistÃ¡n, segÃºn el Servicio GeolÃ³gico de Estados Unidos. El seÃ­smo, que ha dejado al menos 14 muertos en IrÃ¡n y uno en el KurdistÃ¡n iraquÃ­, se ha producido a las 21.18 horas (18.18, en la EspaÃ±a peninsular) a 32 kilÃ³metros de la ciudad de Halabjah, administrada por el Gobierno regional del KurdistÃ¡n, en la regiÃ³n fronteriza entre estos dos paÃ­ses asiÃ¡ticos, y a una profundidad de 33,9 kilÃ³metros.",
         "Entertainment"
        ],
        [
         "21",
         "d1oYTRYmNHs",
         "17.14.11",
         "**SI TE RÃES, PIERDES** Â¡Â¡(911% IMPOSIBLE)!! ð RecopilaciÃ³n de los Mejores VÃ­deos de Risa 2017",
         "THE YOLO",
         "23",
         "2017-11-12T23:53:41.000Z",
         "SI TE RÃES|\"PIERDES\"|\"si te ries pierdes\"|\"THE YOLO\"|\"si te ries pierdes muy dificil\"|\"SI TE\"|\"RÃES\"|\"Si Te RÃ­es Pierdes\"|\"videos graciosos\"|\"RÃES PIERDES\"|\"videos de risa 2017\"|\"911% IMPOSIBLE\"|\"si te ries pierdes 2017\"|\"SITERÃESPIERDES\"|\"risas\"|\"si te ries pierdes imposible\"|\"risa\"|\"risa 2017\"|\"RecopilaciÃ³n\"|\"SI TE RÃES PIERDES THE YOLO\"|\"YOLO\"|\"pierdes si te rÃes\"|\"THE YOLO 2\"|\"609% IMPOSIBLE\"|\"SI\"|\"EHT YOLO\"|\"VÃ­deos de Risa\"|\"Mejores VÃ­deos de Risa\"|\"RIES PIERDES\"|\"CaÃ­das\"|\"Fails\"|\"si te ries\"|\"TE RÃES\"|\"Viral\"",
         "667216",
         "28782",
         "1770",
         "3892",
         "https://i.ytimg.com/vi/d1oYTRYmNHs/default.jpg",
         "False",
         "False",
         "False",
         "ð SUSCRIBETE PARA MAS VÃDEOS ð\\n\\nâFACEBOOK\\nâhttp://bit.ly/2rEoFMN\\n\\nâTWITTER\\nâhttp://bit.ly/2etzgW8\\n\\nâINSTAGRAM\\nâhttp://bit.ly/2lPpZya\\n\\nâVÃDEO ANTERIOR\\nâhttps://youtu.be/g9F9MelSQy4\\n\\nâCANAL SECUNDARIO (THE YOLO 2)\\nâhttp://bit.ly/2sUsJNf\\n\\nâCANCIONES USADAS EN EL VÃDEO\\nâhttp://bit.ly/2pXlKTe\\n\\n\\nâTAGS\\n#extremo #nivel #dios #dificil #vines #divertido #imposible ,si te ries o sonries pierdes, intenta no reir con este video, si te ries pierdes (difÃ­cil), si te ries pierdes (609% imposible), videos para morirse de la risa, si te ries pierdes muy dificil, THE YOLO, vines de risa, videos random sdlg, videos random, mejores bromas, si cantas pierdes, SI TE RÃES GANAS, si te ries ganas, YOLO, SDLG, VIDEOS RANDOM SDLG, Videos de risa 2017,(Caidas y Fails), asiaticos, VIDEOS CHISTOSOS, caidas de risa, videos de risa de caidas, videos de risa, caidas, videos de caidas, chistoso, EHT YOLO, Caidas y videos graciosos, RecopilaciÃ³n de los mejores fails\\nâ\\nÂ¡Â¡(911% IMPOSIBLE)!!\\nSi te rÃ­es pierdes imposible\\nsi te rÃ­es pierdes muy difÃ­cil\\nsi te rÃ­es pierdes nivel dios\\nsi te rÃ­es pierdes nivel extremo\\nRecopilaciÃ³n de los Mejores VÃ­deos de Risa 2017\\nâ\\n**SI TE RÃES, PIERDES** Â¡Â¡(911% IMPOSIBLE)!! ð RecopilaciÃ³n de los Mejores VÃ­deos de Risa 2017\\n**SI TE RÃES, PIERDES** Â¡Â¡(911% IMPOSIBLE)!!\\nsi te rÃ­es pierdes (911% imposible)\\nCuando tu amigo revela tus trucos de magia (AsiÃ¡tico) THE YOLO",
         "Comedy"
        ],
        [
         "22",
         "GR1Af3ZG-lE",
         "17.14.11",
         "The Walking Dead 8 Temporada EpisÃ³dio 4 (LEGENDADO)",
         "#Victor Daniel",
         "22",
         "2017-11-13T12:14:20.000Z",
         "The Walking Dead|\"Dublado\"|\"Legendado\"|\"TWD\"|\"Episodio 4\"|\"The walking dead\"|\"Fox Walker BR\"|\"Dom Brz\"|\"#Halisson Ferraz\"|\"2017\"",
         "194758",
         "4085",
         "182",
         "531",
         "https://i.ytimg.com/vi/GR1Af3ZG-lE/default.jpg",
         "False",
         "False",
         "False",
         "SEGUNDO CANAL VÃO LÃ  CASO PERCO ESSE : \\nhttps://www.youtube.com/channel/UC9cjefbwL_RUCv-8Tblb2Lg\\n\\nAcompanhe o canal do Lucas lÃ¡ mostra a morte dos personagens de The Walking Dead na HQ !\\nCanal do Lucas : https://m.youtube.com/channel/UCusor_RS5xKEcsL7iop2rhg\\n\\nInscreva-se e      \\native o sininho das notificaÃ§Ãµes...                                                                                                                                                   \\nâ¢ Facebook: https://www.facebook.com/victordaniel.daniel.90\\nâ¢ Snapchat: Vitormlkchavoso\\nâ¢ PagÃ­na: https://www.facebook.com/TheWalkingDeadTwdTwd/?pnref=lhc\\n \\nEntre em contato:\\nvitordaniel-vzt@hotmail.com                                                                                                                                                                                                                      \\nCREDITOS AMC: http://www.amc.com/shows/the-walk                                                                                                                                                                                                         TAGS : The Walking Dead 8 Temporada EpisÃ³dio 3 Legendado HD, The Walking Dead 8 Temporada Episodio 03 Legendado, The Walking Dead 8 Temporada EpisÃ³dio 03 Legendado HD, The Walking Dead 8 Temporada Episodio 03 Dublado\\n#Novo episÃ³dio ,The Walking Dead 8Âª Temporada Ep 03 The First Day of the Rest of Your Life\\nThe Walking Dead S08E3 Temporada 8 Episodio 03 Legendado Completo HD\\nThe Walking Dead 8Âª Temporada EpisÃ³dio 03\\nThe Walking Dead Temporada 8 Capitulo 04 Subtitulado HD\\nthe walking dead episodio 03 dublado,the walking dead episodio 03 dublado completo em hd episÃ³dio 03 the walking dead episÃ³dio 03\\nvlw a todos que assistirÃ£o!!! the walking dead episÃ³dio 03\\nASSISTIR EPISÃDIO 03 DA 8Â° TEMPORADA\\nthe walking dead episodio 04 AMC                                                                                                                                                                                                                                     \\n                                                                                                                  \\n The Walking Dead 8x04 Super Trailer Season 8 Episode 4 Promo/Preview HD some Guy \\nThe Walking Dead 8x04 -Trailer Official - Temporada 8 EpisÃ³dio The walking dead 8x04 Super Trailer 8 Temporada EpisÃ³dio 4 Promo/PrÃ©via HD",
         "People & Blogs"
        ],
        [
         "23",
         "y_6rR8yKONo",
         "17.14.11",
         "Porque Carlos Vela no QuerÃ­a ir a la SelecciÃ³n y se perdiÃ³ el Mundial del 2014 Boser Salseo",
         "Boser Salseo Futbolero",
         "17",
         "2017-11-12T22:10:13.000Z",
         "carlos vela seleccion nacional|\"carlos salcido carlos vela\"|\"carlos vela skills\"|\"carlos vela 2017\"|\"carlos vela dice no al tri\"|\"vela rechaza a la seleccion\"|\"rechaza a la seleccion mexicana\"|\"historias boser\"|\"boser salseo\"",
         "227651",
         "5532",
         "213",
         "662",
         "https://i.ytimg.com/vi/y_6rR8yKONo/default.jpg",
         "False",
         "False",
         "False",
         "EN CALIENTE.MX APOYA A TU EQUIPO, ENTRA YA: http://bit.ly/2wTgSR4\\nJERSEY BARATOS EN http://bit.ly/2niJwGk USA CODIGO SALSEO PARA 15% DE DESCUENTO\\nPorque Carlos Vela no QuerÃ­a ir a la SelecciÃ³n y se perdiÃ³ el Mundial del 2014 Boser Salseo carlos vela se nego y rechazo a la seleccion mexicana pese a su buen momento y sus skills  goles carlos vela dijo no a la seleccion la razon fue carlos salcido\\nS U S C R I B E T E: https://goo.gl/XvVWzY\\nBoser GEEK:  https://goo.gl/WxwIAJ\\nEnlaces\\nTwitter: https://goo.gl/U8qU1V\\nFacebook: https://goo.gl/LbRsMW\\nInstagram: https://goo.gl/XV59oE",
         "Sports"
        ],
        [
         "24",
         "Wi3nAYFigpQ",
         "17.14.11",
         "Iraq/Iran Earthquake felt in Kuwait !",
         "Sandra Official",
         "2",
         "2017-11-12T19:36:40.000Z",
         "Earthquake|\"Iraq Earthquake\"|\"Iran Earthquake\"|\"Kuwait\"|\"Scary\"|\"Earthquake 2017\"|\"Earthquake November 12\"|\"Earthquake November 12 2017\"",
         "28186",
         "15",
         "9",
         "5",
         "https://i.ytimg.com/vi/Wi3nAYFigpQ/default.jpg",
         "False",
         "False",
         "False",
         "Everyone out in the streets in Kuwait after feeling the 7.3 magnitude earthquake that just occured in the border or Iran and Iraq.\\nWe were on the 19th floor and it was really scary !!",
         "Autos & Vehicles"
        ],
        [
         "25",
         "nEAMm3nGxpM",
         "17.14.11",
         "El valiente ve la muerte solo una vez - Teaser",
         "Agencia Bengala",
         "1",
         "2017-11-13T13:32:23.000Z",
         "[none]",
         "7127",
         "37",
         "3",
         "13",
         "https://i.ytimg.com/vi/nEAMm3nGxpM/default.jpg",
         "False",
         "False",
         "False",
         "A lo largo de su vida, Alejo Garza Tamez ha cuidado una familia y un rancho cerca de la frontera con Texas, hasta que la barbarie que azota MÃ©xico desde hace varios aÃ±os decide visitarlo. A partir de los recuerdos registrados por el propio protagonista con una cÃ¡mara, âEl valiente ve la muerte solo una vez es un antiwestern que muestra de forma Ã­ntima el arraigo, la sensibilidad y las contradicciones de un hombre que se volviÃ³ leyenda por darse a respetar en una Ã©poca en la que reina el miedo y la impunidad.",
         "Film & Animation"
        ],
        [
         "26",
         "3RITF3vm-KE",
         "17.14.11",
         "Larry sube a Kenia al escenario | LarrymanÃ­a | Universo",
         "UNIVERSO",
         "24",
         "2017-11-13T13:05:36.000Z",
         "Universo|\"Larry\"|\"Larry Hernandez\"|\"caso Larry Hernandez\"|\"larry y kenia\"|\"larry y su esposa\"|\"arresto de larry hernandez\"|\"cantante\"|\"singer\"|\"mexican\"|\"inmigrante\"|\"immigrant\"|\"arrested\"|\"criminal charges\"",
         "17316",
         "246",
         "21",
         "8",
         "https://i.ytimg.com/vi/3RITF3vm-KE/default.jpg",
         "False",
         "False",
         "False",
         "En pleno concierto, Larry pide a Kenia que se acerque a donde estÃ¡ Ã©l para agradecerle su apoyo incondicional y su amor hacia Ã©l y sus hijas. Nuevos episodios de Larrymania: Domingos a las 9/8c por UNIVERSO.\\n\\nSUBSCRIBE: http://bit.ly/2nsQXKN\\n\\nUniverso\\nEs una cadena de televisiÃ³n por suscripciÃ³n en Estados Unidos, que emite en inglÃ©s y espaÃ±ol para la comunidad hispana del paÃ­s.\\n\\nEn sus inicios fue propiedad de COX Communications y Empresas 1BC (dueÃ±os de RCTV de Venezuela) y TV Azteca de MÃ©xico desde 1993, llamÃ¡ndose entonces GEMS TelevisiÃ³n y enfocada al pÃºblico femenino, pero Telemundo adquiriÃ³ la cadena en mayo de 2000, y la programaciÃ³n se empezÃ³ a combinar con los idiomas de espaÃ±ol e inglÃ©s (antes sÃ³lo se hablaba espaÃ±ol), y la cadena cambiÃ³ a su nombre actual.\\n\\nSUBSCRIBE: http://bit.ly/2nsQXKN\\n\\nLarry sube a Kenia al escenario | LarrymanÃ­a | Universo\\nhttp://www.youtube.com/c/nbcuniverso",
         "Entertainment"
        ],
        [
         "27",
         "1i71glG1P5s",
         "17.14.11",
         "LO ÃLTIMO: Muere la actriz Maru DueÃ±as y productor en accidente vial en la MÃ©xico-Cuernavaca",
         "ExcÃ©lsior TV",
         "25",
         "2017-11-11T18:15:04.000Z",
         "maru dueÃ±a|\"muere maru dueÃ±as\"|\"claudia reyes rubio\"|\"accidente vial en la mexico-cuernavaca\"|\"actriz y productor mueren por choque en la mexico-cuernavaca\"|\"muere actriz en choque\"|\"muere maru dueÃ±as en choque\"|\"maru dueÃ±a muere en choque\"|\"actriz maru dueÃ±as\"|\"choque en la mexico-cuernavaca\"|\"noticias de ultima hora de hoy en mexico\"|\"noticias de ultima hora\"|\"noticias de hoy\"|\"noticias de mexico\"|\"noticias recientes\"|\"excelsior tv\"|\"excelsior tv noticias\"",
         "504940",
         "1001",
         "290",
         "232",
         "https://i.ytimg.com/vi/1i71glG1P5s/default.jpg",
         "False",
         "False",
         "False",
         "La actriz Maru DueÃ±as y el productor de telenovelas de Televisa, Claudio Reyes, y una persona mÃ¡s perecieron en un accidente vial en la autopista MÃ©xico-Cuernavaca.  11 noviembre de 2017 \\n\\n\\nTe invitamos a ver el siguiente video: \\n\\nCOMENTA ESTE VIDEO Y COMPARTELO CON TUS AMIGOS\\n\\nPara mÃ¡s informaciÃ³n entra: http://www.youtube.com/excelsiortv\\n\\nNo olvides dejarnos tus comentarios y visitarnos en\\nFacebook: https://www.facebook.com/ExcelsiorMex\\nTwitter: https://twitter.com/Excelsior_Mex\\nSitio: http://www.excelsior.com.mx/tv\\n\\n\\nSuscrÃ­bete a nuestro canal: https://www.youtube.com/channel/UClqo4ZAAZ01HQdCTlovCgkA",
         "News & Politics"
        ],
        [
         "28",
         "6YHkNTRMUL8",
         "17.14.11",
         "Terremoto de magnitud 7,2 sacude IrÃ¡n e Irak. (VIDEOS)",
         "El Arte De Servir",
         "25",
         "2017-11-12T20:36:59.000Z",
         "el arte de servir|\"formaciÃ³n\"|\"tutoriales\"|\"informacion\"|\"apoyo\"|\"arte\"|\"comunidad\"|\"Terremoto\"|\"IrÃ¡n e Irak\"|\"terremoto IRAN\"|\"teremoto irÃ¡n e irak\"|\"VIDÃOS\"|\"noreste de Bagdad\"|\"el mayor terremoto en Oriente Medio\"|\"Centro SismolÃ³gico Europeo MediterrÃ¡neo (EMSC\"",
         "58827",
         "486",
         "35",
         "78",
         "https://i.ytimg.com/vi/6YHkNTRMUL8/default.jpg",
         "False",
         "False",
         "False",
         "Terremoto de magnitud 7,2 sacude IrÃ¡n e Irak. (VIDÃOS)\\nEl sismo se ha registrado la noche de este domingo en la frontera entre IrÃ¡n e Irak, a una profundidad de 10 kilÃ³metros, segÃºn el Centro SismolÃ³gico Europeo MediterrÃ¡neo (EMSC, por sus siglas en inglÃ©s).\\nEl terremoto se registrÃ³ a 204 kilÃ³metros al noreste de Bagdad, y a 104 kilÃ³metros al oeste de la ciudad iranÃ­ de Kermanshaj. SegÃºn medios internacionales, se trata del mayor terremoto en Oriente Medio, que se ha sentido en toda la regiÃ³n, desde el LÃ­bano hasta Kuwait.\\n\\n\\nTambiÃ©n sÃ­ desea descargar materiales gratis ingresÃ¡ a nuestra pÃ¡gina web y encontrarÃ¡s muchos recursos, esperamos que te sean de utilidad. Gracias por mantenerse informado con El Arte De Servir\\nwww.elartedeservir.org\\nwww.facebook.com/elartedeservircr\\ncompaÃ±Ã­a  para ganar ingresos desde youtube \\n https://www.freedom.tm/via/elartedeservircr\\n\\nNota: No pedimos ni cobramos dinero por  ninguno de los servicios que brindamos  a nuestros seguidores, si alguna persona pide en nuestro nombre por favor reportarlo.\\nOtras servicios http://www.elartedeservir.org/\\nOdd News de Twin Musicom estÃ¡ sujeta a una licencia de Creative Commons Attribution News Theme 1 de Audionautix estÃ¡ sujeta a una licencia de Creative Commons Attribution (https://creativecommons.org/licenses/by/4.0/)\\nArtista: http://audionautix.com/",
         "News & Politics"
        ],
        [
         "29",
         "1ZAPwfrtAFY",
         "17.14.11",
         "The Trump Presidency: Last Week Tonight with John Oliver (HBO)",
         "LastWeekTonight",
         "24",
         "2017-11-13T07:30:00.000Z",
         "last week tonight trump presidency|\"last week tonight donald trump\"|\"john oliver trump\"|\"donald trump\"",
         "2418783",
         "97202",
         "6148",
         "12711",
         "https://i.ytimg.com/vi/1ZAPwfrtAFY/default.jpg",
         "False",
         "False",
         "False",
         "One year after the presidential election, John Oliver discusses what we've learned so far and enlists our catheter cowboy to teach Donald Trump what he hasn't.\\n\\nConnect with Last Week Tonight online...\\n\\nSubscribe to the Last Week Tonight YouTube channel for more almost news as it almost happens: www.youtube.com/user/LastWeekTonight\\n\\nFind Last Week Tonight on Facebook like your mom would: http://Facebook.com/LastWeekTonight\\n\\nFollow us on Twitter for news about jokes and jokes about news: http://Twitter.com/LastWeekTonight\\n\\nVisit our official site for all that other stuff at once: http://www.hbo.com/lastweektonight",
         "Entertainment"
        ],
        [
         "30",
         "VVHWFZqV_mU",
         "17.14.11",
         "Se revela el sexo del bebÃ© de Aislinn Derbez",
         "Alejandra MorÃ³n",
         "24",
         "2017-11-12T18:23:34.000Z",
         "aislinn derbez|\"mauricio ochamann\"|\"eugenio derbez\"|\"bebes famosos\"|\"famosas embarazadas\"|\"famosos\"|\"mexicanos\"|\"actrices mexicanas\"",
         "18980",
         "42",
         "86",
         "14",
         "https://i.ytimg.com/vi/VVHWFZqV_mU/default.jpg",
         "False",
         "False",
         "False",
         "Lorenza, la hija de Mauricio Ochamann, revelÃ³ sin querer el  sexo del bebÃ© que espera su papÃ¡ con la actriz.",
         "Entertainment"
        ],
        [
         "31",
         "O1v0F5-Xv68",
         "17.14.11",
         "Temblor en Costa Rica | temblor 6.5  12 de noviembre del 2017",
         "EL CASCANUECES",
         "24",
         "2017-11-13T02:58:55.000Z",
         "Temblor en Costa Rica",
         "16066",
         "78",
         "20",
         "56",
         "https://i.ytimg.com/vi/O1v0F5-Xv68/default.jpg",
         "False",
         "False",
         "False",
         "Temblor la noche de este domingo en costa Rica con una magnitud de 6.5\\nCon una profundidad de 10 kilÃ³metros\\nA las 8:28pm\\n\\nGracias a Dios el movimiento fue horizontal lo que evitÃ³ mÃ¡s daÃ±os",
         "Entertainment"
        ],
        [
         "32",
         "RkTi5_hu-kY",
         "17.14.11",
         "YURI puso en su lugar a EX TIMBIRICHE en La Voz MÃ©xico y se desatÃ³ el caos.",
         "EXPRESS NOTICIAS",
         "24",
         "2017-11-13T14:56:24.000Z",
         "hoy|\"venga la alegria\"|\"telemundo\"|\"chismes\"|\"famosas\"|\"famosos\"|\"television\"|\"entretenimiento\"|\"espectaculos\"|\"actualidad\"|\"ventaneando\"|\"noticias\"|\"suelta la sopa\"|\"tv azteca\"|\"daniel bisogno\"|\"univision\"|\"paty chapoy\"|\"un nuevo dÃ­a\"|\"capi perez\"|\"tania\"|\"rincon\"|\"vanessa claudio\"|\"pato borguetti\"|\"sergio sepulveda\"|\"andrea legarreta\"|\"galilea montijo\"|\"series\"|\"novelas\"|\"espectaculos hoy\"|\"noticias de hoy\"|\"alexa\"|\"extimbiriche\"|\"la voz mexico\"|\"yuri\"|\"carlos vives\"",
         "28098",
         "0",
         "0",
         "22",
         "https://i.ytimg.com/vi/RkTi5_hu-kY/default.jpg",
         "False",
         "True",
         "False",
         "Â¡SUSCRÃBETE!\\nEvidentemente nadie podÃ­a entender lo que Alexa estaba haciendo, asÃ­ que Yuri tomÃ³ cartas en el asunto y le lanzÃ³ fuerte comentario que hizo enojar a la concursante.\\n \\n\\nTe voy a decir una cosa, la gente que estÃ¡ en su casa va a decir: âQuÃ© bÃ¡rbara de verdad esta sÃ­ que se la baÃ±Ã³â. Cuando una persona tiene la fortaleza y los pantalones de decir lo que tÃº estÃ¡s diciendo ahÃ­ por lo menos canta y demuestraâ.\\n \\nJacky volviÃ³ a preguntar a Alexa si estaba segura de su decisiÃ³n, a lo que ella contestÃ³ que estaba muy segura y contenta de hacerlo.\\n \\nFinalmente Yuri dio carpetazo al lamentable asunto con una frase que provocÃ³ disgusto en la misma Alexa.\\n- Twitter ---  https://goo.gl/2WFz94\\n- Facebook --- https://goo.gl/5Ey6T8",
         "Entertainment"
        ],
        [
         "33",
         "AvIh646qPg8",
         "17.14.11",
         "DEMON BOY Creepy Pasta  ð - Draw My Life en EspaÃ±ol",
         "Draw My Life en EspaÃ±ol",
         "24",
         "2017-11-13T16:59:58.000Z",
         "demonboy|\"demon boy\"|\"creepypasta\"|\"demonboy creepypasta\"|\"historias de miedo\"|\"el chico demonio\"|\"el demonio\"|\"terror\"|\"slenderman\"|\"jeff the killer\"|\"Draw\"|\"My\"|\"Life\"|\"Draw My Life\"|\"Draw my life espaÃ±ol\"|\"draw my life en espaÃ±ol\"|\"dibujos\"|\"dibujos mi vida\"|\"drawing\"|\"tiktak\"|\"tik tak draw\"|\"Tiktak draw\"|\"creepy draw\"|\"miedo\"|\"creepy\"",
         "100349",
         "10699",
         "156",
         "996",
         "https://i.ytimg.com/vi/AvIh646qPg8/default.jpg",
         "False",
         "False",
         "False",
         "En este Draw My Life os contamos la historia de Demonboy, un chico atormentado que hizo un pacto con el diablo... \\n\\nSuscrÃ­bete para mÃ¡s vÃ­deos: http://bit.ly/1M7U2rH\\n\\nâ Â¡SÃGUENOS AQUÃ! â\\n\\nâ Facebook: http://on.fb.me/1RVN08o\\nâ Twitter: http://bit.ly/1ZWPVmi\\nâ Instagram: http://bit.ly/23Ul9ws\\n\\n\\nProducido por 2btube\\nTo license this video contact dml@2btube.com\\n\\nY si te gusta el fÃºtbol suscrÃ­bete a CAMPEONES: http://bit.ly/1zVZfXc",
         "Entertainment"
        ],
        [
         "34",
         "b_U9i0vSZnQ",
         "17.14.11",
         "CONDUCTORES DE UBER COMPARTEN EXPERIENCIAS PARANORMALES",
         "Relatosdelanoche",
         "24",
         "2017-11-13T01:40:54.000Z",
         "veladores|\"taxistas\"|\"choferes\"|\"policias\"|\"guardias\"|\"historias paranormales\"|\"fantasmas\"|\"cuentos de terror\"|\"relatos\"|\"relatos de la noche\"|\"la mujer maniqui\"|\"stranger things\"|\"opinion\"|\"reseÃ±a\"|\"la mano peluda\"|\"la historia mas aterradora\"|\"sacerdote\"|\"conservatorio\"|\"monja\"|\"la rumorosa\"|\"tijuana\"|\"ciudad de mexico\"|\"guadalajara\"|\"argentina\"|\"buenos aires\"|\"ecuador\"|\"espaÃ±a\"",
         "43151",
         "2438",
         "58",
         "193",
         "https://i.ytimg.com/vi/b_U9i0vSZnQ/default.jpg",
         "False",
         "False",
         "False",
         "SuscrÃ­bete al segundo canal: https://bit.ly/jackalopetv\\n\\nSÃ­gueme en twitter: https://twitter.com/ur8_\\nhttps://www.facebook.com/RelatosDeLaNoche/\\nhttps://www.facebook.com/groups/relatosdelanoche/",
         "Entertainment"
        ],
        [
         "35",
         "GZGdFRttWDI",
         "17.14.11",
         "Â¡Top 10 Bromas LOCAS de Jackass!",
         "WatchMojo EspaÃ±ol",
         "1",
         "2017-11-13T18:00:01.000Z",
         "top 10|\"jackass\"|\"jackass 2\"|\"jackass 3d\"|\"bromas\"|\"loco\"|\"intenso\"|\"increÃ­ble\"|\"johnny knoxville\"|\"ehren\"|\"bam margera\"|\"wee man\"|\"steve-o\"|\"steve o\"|\"ryan dunn\"|\"dave england\"|\"taxi del terror\"|\"taxi\"|\"bocina en el campo de golf\"|\"desfile de belleza\"|\"alto cinco\"|\"pasillo\"|\"ponche de san valentÃ­n\"|\"protector solar\"|\"mal abuelo\"|\"ponche\"|\"lociÃ³n\"|\"semen de caballo\"|\"hotel gorila\"|\"pozo de serpientes\"|\"taburete elÃ©ctrico\"|\"cocodrilo en casa\"|\"april\"|\"margera\"|\"watchmojo espaÃ±ol\"",
         "142325",
         "12027",
         "165",
         "362",
         "https://i.ytimg.com/vi/GZGdFRttWDI/default.jpg",
         "False",
         "False",
         "False",
         "Â¡Top 10 Bromas LOCAS de Jackass!\\nSuscrÃ­bete: https://www.youtube.com/user/watchmojoespanol\\n\\n\\n\\nJohnny Knoxville y su escuadrÃ³n de alborotadores profesionales han estado haciendo bromas durante aÃ±os, Â¡y cada una resulta en grandes cantidades de dolor, lÃ¡grimas y risas! Â¡WatchMojo EspaÃ±ol presenta el Top 10 de bromas LOCAS de Jackass de todos los tiempos! Pero, Â¿cuÃ¡l tomarÃ¡ el primer lugar en nuestra lista? Â¿SerÃ¡ Taxi del Terror, Dame los Cinco o la Bocina en el Campo de Golf? Â¡Mira para descubrirlo!\\n\\n\\n\\nSugiere tus ideas: http://watchmojo.com/sugerencias \\nFacebook: http://www.facebook.com/WatchMojoEspanol\\nTwitter: http://www.twitter.com/WatchMojoEs",
         "Film & Animation"
        ],
        [
         "36",
         "lHJLYWwzphw",
         "17.14.11",
         "Sismo de 7,3 grados richter sacude la frontera entre IrÃ¡n e Irak Video Al menos 129 muertos",
         "Tuitealo",
         "25",
         "2017-11-13T02:32:26.000Z",
         "Noticias",
         "29887",
         "106",
         "10",
         "18",
         "https://i.ytimg.com/vi/lHJLYWwzphw/default.jpg",
         "False",
         "False",
         "False",
         "VisÃ­tanos tambiÃ©n en:\\nâ© FaceBook - http://bit.ly/2jZ5N6Z",
         "News & Politics"
        ],
        [
         "37",
         "0zYvsH3IzTw",
         "17.14.11",
         "Evangelio del Dia- Lunes 13 Novimebre 2017- Salmo 139 Sangre y Agua",
         "Sangre yAgua",
         "10",
         "2017-11-13T15:17:45.000Z",
         "Musica|\"hoy\"|\"de\"|\"catolica\"|\"cristiana\"|\"cantos\"|\"catolicos\"|\"cristianos\"|\"evangelio\"|\"del\"|\"dia\"|\"lecturas\"|\"oracion\"|\"reflexion\"|\"alabanzas\"|\"movidas\"|\"con\"|\"letra\"|\"letras\"|\"lyrics\"|\"escuchar\"|\"gratis\"|\"predicador\"|\"cantante\"|\"catolico\"|\"meditacion\"|\"misa\"|\"canciones\"|\"canto\"|\"cancion\"|\"dios\"|\"jesus\"|\"maria\"|\"jesucristo\"|\"Iglesia\"|\"religioso\"|\"religiosos\"|\"religiosa\"|\"cumbia\"|\"cumbias\"|\"renovacion\"|\"carismatica\"|\"gozo\"|\"alegres\"|\"motivacion\"|\"ambientacion\"|\"dinamicas\"|\"religion\"|\"movimiento\"",
         "28342",
         "1132",
         "63",
         "113",
         "https://i.ytimg.com/vi/0zYvsH3IzTw/default.jpg",
         "False",
         "False",
         "False",
         "Grupo Sangre y Agua. www.sangreyagua.com  Recuerda que JESUS ES MISERICORDIOSO Y TE AMA INMENSAMENTE!!! SUSCRIBETE a Nuestro Canal para que Veas nuestros Videos Mas Recientes. Muchas Gracias!",
         "Music"
        ],
        [
         "38",
         "cgYhR-3QfhM",
         "17.14.11",
         "NOTICIAS DE HOY NUEVAS 13 DE OCTUBRE 2017",
         "Las Ultimas de HOY",
         "22",
         "2017-11-12T21:00:01.000Z",
         "[none]",
         "195613",
         "929",
         "238",
         "92",
         "https://i.ytimg.com/vi/cgYhR-3QfhM/default.jpg",
         "False",
         "False",
         "False",
         "NOTICIAS DE HOY NUEVAS 13 DE OCTUBRE 2017",
         "People & Blogs"
        ],
        [
         "39",
         "N5Ss8TbYnec",
         "17.14.11",
         "Evangelio de Hoy Lunes 13 Noviembre 2017  Si tuvierais fe como un granito de mostaza",
         "Oraciones en video",
         "22",
         "2017-11-12T23:07:51.000Z",
         "Evangelio del dia|\"Oraciones para facebook\"|\"Oraciones en video\"|\"santos\"|\"San Benito\"|\"oraciones\"|\"Dios\"|\"Biblia\"|\"Oracion poderosa\"|\"sanaciÃ³n\"|\"espiritualidad\"|\"rezos\"|\"salud\"|\"amor\"|\"dinero\"|\"virgen\"|\"angeles\"|\"holistico\"|\"protecciÃ³n\"|\"trabajo\"|\"hogar\"|\"familia\"|\"luz\"|\"espÃ­ritus\"|\"sabidurÃ­a\"|\"religion\"|\"catolico\"|\"reflexiones\"|\"reflexiones de Dios\"|\"evangelio de hoy\"",
         "166050",
         "6820",
         "188",
         "157",
         "https://i.ytimg.com/vi/N5Ss8TbYnec/default.jpg",
         "False",
         "False",
         "False",
         "Lucas (17,1-6):\\n\\nEn aquel tiempo, JesÃºs dijo a sus discÃ­pulos: Es inevitable que sucedan escÃ¡ndalos; pero Â¡ay del que los provoca! Al que escandaliza a uno de estos pequeÃ±os, mÃ¡s le valdrÃ­a que le encajaran en el cuello una piedra de molino y lo arrojasen al mar. Tened cuidado. Si tu hermano te ofende, reprÃ©ndelo; si se arrepiente, perdÃ³nalo; si te ofende siete veces en un dÃ­a, y siete veces vuelve a decirte: Lo siento, lo perdonarÃ¡s.\\nLos apÃ³stoles le pidieron al SeÃ±or: AumÃ©ntanos la fe.\\nEl SeÃ±or contestÃ³: Si tuvierais fe como un granito de mostaza, dirÃ­ais a esa morera: ArrÃ¡ncate de raÃ­z y plÃ¡ntate en el mar. Y os obedecerÃ­a.",
         "People & Blogs"
        ],
        [
         "40",
         "RQMvpa4V2hM",
         "17.14.11",
         "La Peor Pedida de Matrimonio ! *Sale Muy Mal ð±",
         "whatdafaqshow",
         "24",
         "2017-11-13T01:00:01.000Z",
         "watafak show|\"wdf\"|\"wadafak show\"|\"pornosotros\"|\"mox\"|\"wath da faq\"|\"el\"|\"venado\"|\"drogadicto\"|\"youtube peru\"|\"youtuber peruano\"|\"Videos Graciosos\"|\"Fails\"|\"Epic Fails\"|\"Mox wtf\"|\"Programa de youtube\"|\"Youtube Mexico\"|\"Trending\"|\"Pranks\"|\"Bromas\"|\"comedia\"|\"Videos de comedia\"|\"Risas\"|\"Creador\"|\"Ifluencer\"|\"Creator\"|\"top peru\"|\"matrimonio fail\"|\"pedida de matrimonio\"|\"casamiento\"|\"super fail\"|\"videos divertidos\"|\"el amor\"|\"perros graciosos\"|\"cooper wdf\"|\"cooper\"",
         "251933",
         "19078",
         "751",
         "799",
         "https://i.ytimg.com/vi/RQMvpa4V2hM/default.jpg",
         "False",
         "False",
         "False",
         "Instagram de Cooper: https://www.instagram.com/cooper_wdf/\\n\\nEsta pedida de matrimonio es la Peor en mucho tiempo! tienes que verla\\n-------------------------------------------------------------------------\\n- Canal Personal: http://bit.ly/2sMIANY\\n- Facebook: http://bit.ly/2rtFBWH\\n- Twitter: http://bit.ly/iytacG\\n- Instagram :http://bit.ly/2sEgnIG\\n-------------------------------------------------------------------\\nFuentes de Video:\\n\\nJukin Media\\nElrellano.com\\nBreak\\nViraltrend\\nLiveLeak",
         "Entertainment"
        ],
        [
         "41",
         "cU2FFwy0eKI",
         "17.14.11",
         "â¨ARREGLATE CONMIGO completo! 0  a 100/â¨ PROM GRWM full process !| auroramakeup",
         "Aurora AmorPorElMaquillaje",
         "26",
         "2017-11-13T15:01:45.000Z",
         "Makeup|\"Makeup tutorials\"|\"auroramakeup\"|\"maquillateconaurora\"|\"aurora_amorporelmaquillaje\"|\"maquillaje de ojos\"|\"tutorial de maquillaje\"|\"makeup tutorials\"|\"como maquillarse los ojos\"|\"o to 100\"|\"GRWM\"|\"arreglate\"|\"conmigo\"|\"completo\"|\"evento\"|\"prom\"|\"elegant\"|\"elegante\"|\"graduacion\"|\"fiesta\"|\"noche\"|\"maquillaje\"|\"peinado\"|\"neutral\"|\"nude\"|\"smokey eye\"|\"ahumado\"|\"neutro\"|\"look\"|\"0 a 100\"|\"boda\"|\"wedding\"|\"especial\"|\"NUESTRO SECRETO\"|\"MAC\"|\"lime crime\"|\"vorana\"|\"juvia's place\"|\"lilly lashes\"|\"dermacol\"|\"stop\"|\"dior\"|\"lure\"|\"becca\"|\"bissu\"|\"mary kay\"",
         "14723",
         "2059",
         "24",
         "208",
         "https://i.ytimg.com/vi/cU2FFwy0eKI/default.jpg",
         "False",
         "False",
         "False",
         "Amores les comparto este look que hice desde CERO -0  hasta para el evento de BELLISIMA en Plaza Galerias de Guadalajra.\\nOjala les guste es un look que puedes usar para tu graduacion, un evento especial, invitada de boda o una noche especial.\\n\\n\\nâ BUSINESS ( negocios)  : auroraglez78@gmail.com\\nð Subscribe /suscribete aqui: http://bit.ly/auro_subscribe\\nð» SNAPCHAT: http://bit.ly/aurosnapping\\nð· INSTAGRAM: http://bit.ly/auroramakeupinstagram\\nð¦ TWITTER: http://bit.ly/AuroraTwitter\\nFACEBOOK: http://bit.ly/AuroraFacebookPage\\n\\nð TuTorial COMO DIFUMINAR SOMBRAS \\nhttps://youtu.be/1QEiof09j3Q\\n\\n\\nðTutorial CEJAS Actualizado/ EYEBROW tutorial UPDATED \\nhttps://youtu.be/TDl3CbFEWVw\\n\\nð101 Eyeliner Tutorial /TUTORIAL DE DELINEADO ! \\nhttps://youtu.be/WUPWZ9xo5Xc\\n\\n\\nðComo aplicar pestanas POSTIZAS  tutorial\\nhttps://youtu.be/MCOR8kIxml8\\n\\nð RUTINA DE BASE DE MAQUILLAJE Y PERFILACION\\nhttps://youtu.be/gmdyea8gg18\\n\\nðµDESCUENTOS EN PRODUCTOS !!!\\n\\nðLabiales y Cosmeticos de GERARD COSMETICS (Codigo : Aurora25 / Code: Aurora25)\\nhttp://bit.ly/GerardCosmetics_Productos\\n\\n\\nâ´Pinceles SIGMA BEAUTY (Codigo: AURORASB / Codigo : AURORASB)\\nhttp://www.sigmabeauty.com/c/317\\n\\nPRODUCTOS USADOS:\\n-Prebase de maquillaje hidratante  PRIMER PLUS HYDRATION de GOSH\\nhttps://bellisima.mx/collections/gosh/products/primer-plus-hydration\\n\\n-Paches de Hidratacion de Ojera  Petitfee, Black Pearl & Gold Hydrogel Eye Patch, 60 Patches\\n\\n-Primer para zona grasa  SUPER MATTE ANTISHINE  de FACE to FACE \\nhttps://nuestrosecreto.com.mx/collections/face-to-face\\n\\n-Lapiz delineador de CEJAS Brett Freedman- Laser Brow Pencil.\\nhttps://nuestrosecreto.com.mx/collections/ojos-cejas/products/brett-freedman-laser-brow-pencil-1?variant=629720514588\\n\\n-Base de maquillaje liquida NATURAL FINISH de BODYOGRAPHY  tono #240 \\n\\n-Base de maquillaje liquida de Laura Mercier SILK CRÃME OIL FREE TONO 3W1 SAND BEIGE \\n\\n-Corrector Pro Longwear Concealer NC30 de MAC Cosmetics\\nhttps://www.maccosmetics.com.mx/product/13844/10181/productos/maquillaje/rostro/correctores/pro-longwear-concealer#/shade/NC30\\n\\n-Paleta  Venus The Grunge Palette de LIME CRIME\\nhttps://www.vorana.mx/products/lime-crime-paleta-de-sombras-venus-compra-online\\n\\n-Paleta  Juvia's Place The Nubian By JuviaÂ´S  \\nhttps://nuestrosecreto.com.mx/collections/juvias-place/products/juvias-place-the-nubian-by-juvia-s\\n\\n-Plumin delineador  MATTE INK LINER de Lure Cosmetics\\nhttps://bellisima.mx/collections/ojos/products/matte-ink-liner\\n\\n-Pestanas  CARMEL de Lilly Lashes\\nhttps://lillylashes.com/products/carmel?variant=11224595457\\n\\n-Base de maquillaje Dermacol foundation 218 \\n\\n-Polvo suelto  DIORSKIN NUDE AIR LOOSE POWDER\\nHEALTHY GLOW INVISIBLE LOOSE POWDER tono 020\\nhttps://www.dior.com/beauty/en_us/fragrance-beauty/makeup/face/powders/pr-powders-y0720350-healthy-glow-invisible-loose-powder.html\\n\\n-Paleta de contorno CONTOUR PALETTE de Lure Cosmetics\\nhttps://lurecosmetics.com/collections/maquillaje-para-la-cara/products/contour-palette\\n\\n-Rubor Mineral Blush tono TERRACOTA de Lure cosmetics\\nhttps://lurecosmetics.com/collections/maquillaje-para-la-cara/products/mineral-blush?variant=4586865027\\n\\n-Iluminadores de BECCA Moonstone Glow on the Go Kit\\nhttps://www.beccacosmetics.com/shop/best-sellers/moonstone-glow-on-the-go-kit.html\\n\\n-Lapiz delineador de ojos EYe LINER  en tono BROWN de Lure Cosmetics\\nhttps://lurecosmetics.com/collections/maquillaje-para-ojos/products/eyeliner-pencil?variant=4593751299\\n\\n-Mascara Extended Play Gigablack lash de MAC \\nhttps://www.maccosmetics.com.mx/product/13839/24962/productos/maquillaje/ojos/mascaras/extended-play-gigablack-lash\\n\\n-Fijador de Maquillaje en Spray Mary Kay\\nhttps://www.marykay.com.mx/es-mx/productos/maquillaje/mary-kay-makeup-finishing-spray-111800\\n\\n-Labial MATTE de Victor Guadarrama  tono 11\\n\\n-Dose of Colors Over the Top Lip Gloss \\n\\n-Jumpsuit de Forever21\\nhttp://www.forever21.com/IN/Product/Category.aspx?br=f21&category=jumpsuit_romper\\n\\n-Kit  Para UÃ±as de SAlly Beauty Supply\\n\\n-Zapatos  tacones dorados de STOP\\nhttps://www.facebook.com/STOPCatalogo/\\n\\n-Abrigo blanco de STOP\\nhttp://stopcatalogo.com.mx/\\n\\nMUSIC provided by nocopyrightsounds.co.uk/\\nWaysons - Eternal Minds\\nhttps://www.youtube.com/watch?v=ZhECyz85FMc\\n\\n\\nVISUAL EFFECTS:  https://www.videezy.com/",
         "Howto & Style"
        ],
        [
         "42",
         "cTRJYA6dibU",
         "17.14.11",
         "Changey Din | Kambi | Sukh E | Sukh Sanghera | Latest Punjabi Song 2017 | Speed Records",
         "Speed Records",
         "10",
         "2017-11-12T08:30:01.000Z",
         "punjabi songs|\"punjabi bhangra\"|\"punjabi music\"|\"punjabi bhangra music\"|\"punjabi latest songs\"|\"punjabi romantic songs\"|\"punjabi sad songs\"|\"punjabi\"|\"bhangra\"|\"latest punjabi songs 2017\"|\"punjab\"|\"desi\"|\"speed records\"|\"Changey Din\"|\"Kambi\"|\"Kambi new song\"|\"Changey Din full video\"|\"Changey Din video\"",
         "2529472",
         "56054",
         "1547",
         "3584",
         "https://i.ytimg.com/vi/cTRJYA6dibU/default.jpg",
         "False",
         "False",
         "False",
         "Song - Changey Din \\nSinger & Lyrics - Kambi \\nMusic - Sukh E ( Muzical Doctorz ) \\nVideo - Sukh Sanghera \\nProduced By - Golden Sanghera \\nVFX - Diljot Garcha\\nOnline Promotion - Gold Media Entertainment\\nLabel - Speed Records\\n\\nItunes - http://abc.digital/chd1\\nApple Music - http://abc.digital/chd2\\n\\nLike || Share || Spread || Love \\n \\nEnjoy & stay connected with us!\\nâº Subscribe to Speed Records : http://bit.ly/SpeedRecords\\nâº Like us on Facebook: https://www.facebook.com/SpeedRecords\\nâº Follow us on Twitter: https://twitter.com/Speed_Records\\nâº Follow us on Instagram: https://instagram.com/Speed_Records\\nâº Follow on Snapchat : https://www.snapchat.com/add/speedrecords\\n  \\nVirasat Facebook Link - https://m.facebook.com/Virasat-152196...\\nOops TV Facebook Link - https://m.facebook.com/oopstvfun/\\n\\nFoodies -\\nInstagram - http://instagram.com/speedfoodies\\nFacebook - http://bit.ly/2yvcBB9\\nSnapchat - https://www.snapchat.com/add/officialfoodies\\n\\nPoon Poon - \\nSnapchat- https://www.snapchat.com/add/poonpoon0001\\nYoutube-  youtube.com/channel/UC82dRFIxmjA293G7tYunPWQ\\nFacebook - https://www.facebook.com/officialpoonpoon\\nInstagram - https://instagram.com/poonpoonofficial",
         "Music"
        ],
        [
         "43",
         "O_jDNNEvvJo",
         "17.14.11",
         "Programa Completo 13 Noviembre 2017",
         "ÃisÏÎ±rÎ±ron, MÎ±nigÃ¼is, ÃisÏÎ±rÎ±ron",
         "22",
         "2017-11-13T18:23:39.000Z",
         "dispara margot|\"en vivo\"|\"al aire\"|\"en linea\"|\"en directo\"",
         "8088",
         "118",
         "34",
         "99",
         "https://i.ytimg.com/vi/O_jDNNEvvJo/default.jpg",
         "False",
         "False",
         "False",
         "Lunes a Viernes de 10:05 am - 12:00 pm\\n\\nTransmitido en vivo el 13 de Noviembre de 2017",
         "People & Blogs"
        ],
        [
         "44",
         "sBmvgi-gd2M",
         "17.14.11",
         "AsÃ­ lucen los dobles de estos famosos",
         "Badabun",
         "24",
         "2017-11-13T20:00:05.000Z",
         "FAMOSOS|\"Dwayne Johnson\"|\"La Roca\"|\"Andrew Garfield\"|\"Brad Pitt\"|\"Tom Cruz\"|\"Tom Hardy\"|\"Megan Fox\"|\"Johnny Deep\"|\"Chris Hemsworth\"|\"mujer\"|\"hombre\"|\"pelÃ­cula\"|\"taquillera\"|\"cine\"|\"doble\"|\"piratas del caribe\"|\"tortugas ninja\"|\"personas\"|\"valor\"|\"talento\"|\"destreza\"|\"entretenimiento\"|\"lazo\"|\"amistad\"|\"famosos\"|\"actores\"|\"sustituir\"|\"tomas\"|\"peligrosas\"|\"producciÃ³n\"|\"relaciÃ³n\"|\"diversiÃ³n\"|\"spider man\"|\"camara\"|\"filmaciÃ³n\"|\"consejos\"|\"musculos\"",
         "53340",
         "5266",
         "68",
         "178",
         "https://i.ytimg.com/vi/sBmvgi-gd2M/default.jpg",
         "False",
         "False",
         "False",
         "Mira cÃ³mo lucen los dobles de estos 8 famosos actores\\n\\nDetrÃ¡s de cada uno de tus actores favoritos, existe un desconocido que lo sustituye en las escenas de acciÃ³n, arriesgando su vida durante las tomas mÃ¡s peligrosas, sin recibir el mÃ¡s mÃ­nimo reconocimiento. AsÃ­ es, estamos hablando de los dobles de acciÃ³n. \\n\\n8.- Dwayne Johnson, La Roca\\n\\nAunque muchos piensan que los dobles son solo una persona mas de la produccion, la verdad es que estas personas suelen tener una hermosa relaciÃ³n con sus actores, y en algunos casos, se convierten hasta en compadres, tal y como Tanoai Reed, el doble de Dwayne Johnson, La Roca, quiÃ©n ha trabajado al lado de esta estrella desde los inicios de su carrera. \\n\\n7.- Andrew Garfield\\n\\nWilliam R. Spencer, es el nombre de este chico especialista en parkour cuyo talento lo llevÃ³ a ser el doble de Andrew Garfield en la pelÃ­cula de âEl IncreÃ­ble Spider-Man 2â\\n\\n6.- Brad Pitt\\n\\nPero hay algunos otros dobles de cine que no se especializan en acrobacias ni actos peligrosos, sino que sÃ³lo se encargan de realizar todas aquellas escenas que los actores se niegan a hacer, tal es el caso de Brad Pitt y su doble conocido como Phil Ball, quiÃ©n lo ha acompaÃ±ado en muchas de sus pelÃ­culas, convirtiÃ©ndose en muy buenos amigos.\\n\\n5.- Tom Cruz\\ndespuÃ©s de intentar realizar por sÃ­ mismo algunas escenas peligrosas, y despuÃ©s de sufrir una que otra lesiÃ³n decidiÃ³ que lo mejor es dejar que los profesionales se encargan de las escenas de acciÃ³n.\\n\\n4.- Tom Hardy\\nquien a pesar de parecer un hombre rudo y atrevido, capaz de realizar cualquier acrobacia, prefiere apoyarse de su doble de acciÃ³n y asÃ­ evitar cualquier riesgo durante una filmaciÃ³n. \\n\\n3.- Megan Fox\\n\\nPero esta bella mujer no se queda atras, pues despues de trabajar en la pelÃ­cula de las âLas Tortugas Ninjaâ, se convirtiÃ³ en gran amiga de Maria Papathanasiou, modelo de origen griego y  quien por cierto, fue su doble durante la cinta \\n\\n2.- Johnny Deep\\n\\nY con tanto trabajo,  no es sorpresa que este gran actor haya terminado siendo un excelente amigo de Theo Kypri, su doble de acciÃ³n en todas las pelÃ­culas de âPiratas del Caribeâ.\\n\\n1.- Chris Hemsworth\\n\\n Este hombre tambiÃ©n ha creado un estrecho lazo de amistad con su doble de acciÃ³n  Bobby Holland Hanton. Durante la filmaciÃ³n de âLos Vengadoresâ, estos dos chicos entrenaban juntos e incluso Chris asegura que Bobby le diÃ³ excelentes consejos para aumentar su musculatura. \\n\\nUn aplauso por estas increibles personas que gracias a su valor, talento y destreza, logran regalarnos horas y horas de diversion y entretenimiento.\\n\\nVOZ por Victor GonzÃ¡lez\\nFacebookâº https://www.facebook.com/VictorGonzalezOficial\\nYoutubeâº https://www.youtube.com/c/victorgonzalezoficial\\nTwitterâº https://twitter.com/VictorGOfficial \\nInstagramâº https://instagram.com/VictorGOfficial\\n\\nGoogle+âº https://plus.google.com/+badabunOficial\\nSuscrÃ­beteâº https://www.youtube.com/user/badabunOficial?sub_confirmation=1\\nFacebookâº https://www.facebook.com/BadabunOficial\\nTwitterâº https://twitter.com/BadabunOficial\\nInstagram https://instagram.com/badabunoficial\\nSitio Webâº http://www.badabun.net/\\n\\nCONTACTOâº contacto@badabun.com\\n\\nBADABUN NETWORK Â©",
         "Entertainment"
        ],
        [
         "45",
         "eyskwaltDLs",
         "17.14.11",
         "Terremoto interrumpe una entrevista de TV en directo en Irak",
         "RT en EspaÃ±ol",
         "25",
         "2017-11-13T11:29:54.000Z",
         "rt|\"rt espaÃ±ol\"|\"irak\"|\"iraq\"|\"entrevista\"|\"tv\"|\"television\"|\"terremoto\"|\"sismo\"|\"tragedia\"|\"destruccion\"|\"devastacion\"|\"muertos\"|\"fallecidos\"|\"heridos\"|\"directo\"|\"interrumpe\"|\"movimiento\"|\"temblor\"",
         "18206",
         "227",
         "2",
         "38",
         "https://i.ytimg.com/vi/eyskwaltDLs/default.jpg",
         "False",
         "False",
         "False",
         "Una entrevista de una televisiÃ³n iraquÃ­ fue interrumpida en directo por el terremoto de magnitud 7.3 que sacudiÃ³ la regiÃ³n fronteriza entre Irak e IrÃ¡n. MÃ¡s info: https://es.rt.com/5gs0\\n\\nSuscrÃ­bete a nuestro canal de eventos en vivo: https://www.youtube.com/user/ActualidadRT?sub_confirmation=1\\n\\nRT en Twitter: https://twitter.com/ActualidadRT\\nRT en Facebook: https://www.facebook.com/ActualidadRT\\nRT en Google+: https://plus.google.com/+RTenEspanol/posts\\nRT en Vkontakte: http://vk.com/actualidadrt\\n\\nVea nuestra seÃ±al en vivo: http://actualidad.rt.com/en_vivo\\n\\nRT EN ESPAÃOL: DESDE RUSIA CON INFORMACIÃN",
         "News & Politics"
        ],
        [
         "46",
         "p-EupRWaX9E",
         "17.14.11",
         "Â¡Las reglas cambian en el Sin Palabras! | Venga la AlegrÃ­a",
         "Venga La AlegrÃ­a",
         "24",
         "2017-11-13T17:57:53.000Z",
         "venga la alegria|\"juego sin palabras\"|\"juego sin palabras de venga la alegrÃ­a\"|\"equipo del pueblo venga la alegrÃ­a\"|\"equipo favorito venga la alegrÃ­a\"|\"juego sin palabras de venga la alegria 2017\"|\"juego sin palabras vla\"|\"el juego sin palabras\"|\"juego sin palabras reglas\"|\"tania rincÃ³n\"|\"ricardo casares\"|\"patricio borghetti\"|\"tabata jalil\"|\"vanessa claudio\"|\"los destrampados\"|\"el equipo del pueblo\"|\"el equipo favorito\"|\"carlos quirarte\"|\"muerte sÃºbita\"|\"bombo radioactivo del sin palabras\"",
         "23635",
         "329",
         "164",
         "343",
         "https://i.ytimg.com/vi/p-EupRWaX9E/default.jpg",
         "False",
         "False",
         "False",
         "Todos los turnos son robos y ya no tienen 30 segundos, ahora tienen 20 segundos los equipos en el Juego Sin Palabras. Â¡Por cierto Joss estÃ¡ de regreso!\\n\\nVenga La AlegrÃ­a \\nhttp://www.aztecatrece.com/vengalaalegria\\n\\nEs un divertido programa de entretenimiento transmitido por Azteca Trece, diseÃ±ado para llevar diversiÃ³n a la familia mexicana de manera desenfadada y sencilla.  IniciÃ³ el 2 de enero del 2006. Su transmisiÃ³n va dirigida a todo pÃºblico, hay temas de interÃ©s personal como cocina, belleza, sexualidad, reflexiones, consejos, etc.\\n\\nTalento:\\nTania RincÃ³n, Sergio SepÃºlveda, Vanessa Claudio, Patricio Borghetti, Ingrid Coronado, El Capi PÃ©rez, Los Destrampados, TÃ¡bata Jalil, Ricardo Casares, Carlos Quirarte.\\n\\nDisfrÃºtalo de lunes a viernes 8:55 am por Azteca trece o en  http://www.aztecatrece.com/vengalaalegria",
         "Entertainment"
        ],
        [
         "47",
         "vawBoPTwFeY",
         "17.14.11",
         "FRASES DE BORRACHOS | MARIO AGUILAR | BERTH OH",
         "Mario Aguilar",
         "23",
         "2017-11-13T19:30:53.000Z",
         "Mario|\"Aguilar\"|\"videos\"|\"MarioAguilarMG\"|\"Mario Aguilar videos\"|\"MarioAguilar-videos\"|\"comedia\"|\"sketch\"|\"frases\"|\"de borrachos\"|\"frases de borrachos\"|\"mario\"|\"tijuana\"|\"mexico\"|\"frases tipicas de los borrachos\"|\"frases para borrachos\"|\"las mejores frases de borrachos\"|\"videos de borrachos\"",
         "44056",
         "5489",
         "52",
         "244",
         "https://i.ytimg.com/vi/vawBoPTwFeY/default.jpg",
         "False",
         "False",
         "False",
         "SUSCRIBETE AQUI ES GRATIS aqui: http://bit.ly/2cRVOSr \\n\\nBERTH OH!\\nâºFACEBOOK\\nhttps://www.facebook.com/Juan-Berthea...\\nâºTWITTER\\nhttps://twitter.com/JuanBertheau\\nâºINSTAGRAM\\nhttps://www.instagram.com/juanbertheau/\\n\\nya saben que los amo mucho, nos vemos en un prÃ³ximo video. \\n===============================================\\nCONTACTO | CONTRATACIÃN | PATROCINIO:\\nâº marioaguilarmg@hotmail.com â\\n===============================================\\nSIGUEME EN MIS REDES PARA ESTAR MAS EN CONTACTO\\nâº FACEBOOK: Mario Aguilar - videos\\nhttp://bit.ly/2bzzmrR â\\n\\nâº PERFIL: Mario Aguilar \\nhttp://bit.ly/2cmX0hb â\\n\\nâº INSTAGRAM:@MarioAguilarMG\\n http://bit.ly/2bxvN55 â\\n\\nâº TWITTER: @MarioAguilarMG\\nhttp://bit.ly/1NW7YPQ â\\n\\nLos quiero muchisimo, siempre sonrÃ­an.",
         "Comedy"
        ],
        [
         "48",
         "Mr2G7PcfXis",
         "17.14.11",
         "Feliz y Bendecido LUNES ð ABRELO TIENE UN HERMOSO MENSAJE PARA TI ð",
         "CristianasVEVO",
         "24",
         "2017-11-13T09:33:19.000Z",
         "OraciÃ³n|\"noche\"|\"dÃ­a\"|\"cristiana\"|\"poder\"|\"bendiciÃ³n\"|\"Dios\"|\"oraciÃ³n cristiana\"|\"oraciÃ³n por la familia\"|\"oraciÃ³n de fe\"|\"oraciones cristianas\"|\"oraciÃ³n del dÃ­a\"|\"oraciÃ³n de la maÃ±ana\"|\"oraciÃ³n de la noche\"|\"buenos dÃ­as\"|\"buenas noches\"|\"oraciones\"|\"oraciÃ³n a dios\"|\"oraciÃ³n antes de dormir\"|\"oraciÃ³n bÃ­blica\"|\"oraciÃ³n de sanaciÃ³n\"|\"oraciÃ³n fuerte\"|\"oraciÃ³n hermosa\"|\"oraciones en vÃ­deo\"|\"oraciÃ³n por los hijos\"|\"oraciÃ³n por los padres\"|\"mÃºsica cristiana\"|\"canciones cristianas\"|\"mÃºsica romÃ¡ntica\"",
         "36157",
         "1237",
         "49",
         "52",
         "https://i.ytimg.com/vi/Mr2G7PcfXis/default.jpg",
         "False",
         "False",
         "False",
         "ðð¤ð\\nÂ¡Hola mis amig@s! â¥\\nEste vÃ­deo se realizÃ³ con un bonito Mensaje de Feliz y Bendecido LUNES para Ti ðð Esta ReflexiÃ³n es muy especial para recitarla ð buscando agradecer y dar las Gracias al seÃ±or por ser tan bueno y misericordioso y nunca soltarnos de su mano a pesar de a veces fallarle ðð Ãl nunca nos desampara, si lo buscamos de corazÃ³n y lo recibimos en nuestros corazones â¥ð Esta ReflexiÃ³n tambiÃ©n es la ideal para Dedicar y Compartir con esa personita tan especial que tanto quieres.\\nÃÃÃÃÃÃÃÃÃÃÃÃÃÃÃÃÃÃÃÃÃÃÃ\\n\\nEsperamos que este hermoso vÃ­deo haya sido de tu agrado, por favor no olvides apoyarnos con tu hermoso Like = (Me gusta) ð Suscribirte para no perderte de las Oraciones Diarias que se traerÃ¡n al canal Â©CristianasVEVO Â¡Subimos vÃ­deos todos los dÃ­as! ðð Compartir con tu amig@s, familiares y allegados este vÃ­deo y los demÃ¡s del canal ðð Que de seguro, Ellos se sentirÃ¡n muy contentos al verlo, y mas aÃºn... Con esta mÃºsica de fondo que inspira.\\nÃÃÃÃÃÃÃÃÃÃÃÃÃÃÃÃÃÃÃÃÃÃÃ\\n\\nCanal Oficial +\\nÂ©CristianasVEVO\\nAll Copyright Reserved 2017\\nÃÃÃÃÃÃÃÃÃÃÃÃÃÃÃÃÃÃÃÃÃÃÃ\\n\\nImÃ¡genes NO me pertenecen\\nÂ¡CrÃ©ditos a sus respectivos DueÃ±os!\\nÃÃÃÃÃÃÃÃÃÃÃÃÃÃÃÃÃÃÃÃÃÃÃ\\n\\nÃÃÃÃÃÃÃÃÃÃÃÃÃÃÃÃÃÃÃÃÃÃÃ\\nDeseas ponerte en contacto con Â©CristianasVEVO, Lo puedes hacer a la siguiente direcciÃ³n de correo electrÃ³nico:\\n[Contacto.cristianasVEVO1@gmail.com]\\nÃÃÃÃÃÃÃÃÃÃÃÃÃÃÃÃÃÃÃÃÃÃÃ",
         "Entertainment"
        ],
        [
         "49",
         "9w6dJzxsDD8",
         "17.14.11",
         "Joan Sebastian, Juan Gabriel, Vicente FernÃ¡ndez, Marco Antonio SolÃ­s EXITOS Sus Mejores Canciones",
         "Mix Bandas",
         "22",
         "2017-11-13T11:30:00.000Z",
         "PERO BONITAS|\"Viejitas\"|\"Viejitas Pero Bonitas\"|\"amor\"|\"baladas del recuerdo\"|\"canciones romanticas\"|\"exitos\"|\"exitos sus mejores\"|\"musica romantica\"|\"pero bonitas canciones\"|\"Joan Sebastian canciones\"|\"Juan Gabriel canciones\"|\"Vicente FernÃ¡ndez canciones\"|\"Marco Antonio SolÃ­s canciones\"|\"Juan Gabriel sus mejores exitos\"|\"Vicente FernÃ¡ndez sus mejores exitos\"|\"Marco Antonio SolÃ­s sus mejores exitos\"|\"Joan Sebastian sus mejores exitos\"|\"Joan Sebastian grandes exitos\"|\"Juan Gabriel grandes exitos\"",
         "16437",
         "105",
         "19",
         "5",
         "https://i.ytimg.com/vi/9w6dJzxsDD8/default.jpg",
         "False",
         "False",
         "False",
         "Joan Sebastian, Juan Gabriel, Vicente FernÃ¡ndez, Marco Antonio SolÃ­s EXITOS Sus Mejores Canciones",
         "People & Blogs"
        ]
       ],
       "shape": {
        "columns": 17,
        "rows": 339525
       }
      },
      "text/html": [
       "<div>\n",
       "<style scoped>\n",
       "    .dataframe tbody tr th:only-of-type {\n",
       "        vertical-align: middle;\n",
       "    }\n",
       "\n",
       "    .dataframe tbody tr th {\n",
       "        vertical-align: top;\n",
       "    }\n",
       "\n",
       "    .dataframe thead th {\n",
       "        text-align: right;\n",
       "    }\n",
       "</style>\n",
       "<table border=\"1\" class=\"dataframe\">\n",
       "  <thead>\n",
       "    <tr style=\"text-align: right;\">\n",
       "      <th></th>\n",
       "      <th>video_id</th>\n",
       "      <th>trending_date</th>\n",
       "      <th>title</th>\n",
       "      <th>channel_title</th>\n",
       "      <th>category_id</th>\n",
       "      <th>publish_time</th>\n",
       "      <th>tags</th>\n",
       "      <th>views</th>\n",
       "      <th>likes</th>\n",
       "      <th>dislikes</th>\n",
       "      <th>comment_count</th>\n",
       "      <th>thumbnail_link</th>\n",
       "      <th>comments_disabled</th>\n",
       "      <th>ratings_disabled</th>\n",
       "      <th>video_error_or_removed</th>\n",
       "      <th>description</th>\n",
       "      <th>category_name</th>\n",
       "    </tr>\n",
       "  </thead>\n",
       "  <tbody>\n",
       "    <tr>\n",
       "      <th>0</th>\n",
       "      <td>SbOwzAl9ZfQ</td>\n",
       "      <td>17.14.11</td>\n",
       "      <td>CapÃ­tulo 12 | MasterChef 2017</td>\n",
       "      <td>MasterChef 2017</td>\n",
       "      <td>24</td>\n",
       "      <td>2017-11-13T06:06:22.000Z</td>\n",
       "      <td>MasterChef Junior 2017|\"TV Azteca\"|\"recetas\"|\"...</td>\n",
       "      <td>310130</td>\n",
       "      <td>4182</td>\n",
       "      <td>361</td>\n",
       "      <td>1836</td>\n",
       "      <td>https://i.ytimg.com/vi/SbOwzAl9ZfQ/default.jpg</td>\n",
       "      <td>False</td>\n",
       "      <td>False</td>\n",
       "      <td>False</td>\n",
       "      <td>Disfruta la presencia del Chef Torreblanca en ...</td>\n",
       "      <td>Entertainment</td>\n",
       "    </tr>\n",
       "    <tr>\n",
       "      <th>1</th>\n",
       "      <td>klOV6Xh-DnI</td>\n",
       "      <td>17.14.11</td>\n",
       "      <td>ALEXA EX-INTEGRANTE DEL GRUPO TIMBIRICHE RENUN...</td>\n",
       "      <td>Micky Contreras Martinez</td>\n",
       "      <td>22</td>\n",
       "      <td>2017-11-13T05:11:58.000Z</td>\n",
       "      <td>La Voz Mexico 7</td>\n",
       "      <td>104972</td>\n",
       "      <td>271</td>\n",
       "      <td>174</td>\n",
       "      <td>369</td>\n",
       "      <td>https://i.ytimg.com/vi/klOV6Xh-DnI/default.jpg</td>\n",
       "      <td>False</td>\n",
       "      <td>False</td>\n",
       "      <td>False</td>\n",
       "      <td>ALEXA EX-INTEGRANTE DEL GRUPO TIMBIRICHE RENUN...</td>\n",
       "      <td>People &amp; Blogs</td>\n",
       "    </tr>\n",
       "    <tr>\n",
       "      <th>2</th>\n",
       "      <td>6L2ZF7Qzsbk</td>\n",
       "      <td>17.14.11</td>\n",
       "      <td>LOUIS CKAGÃ - EL PULSO DE LA REPÃBLICA</td>\n",
       "      <td>El Pulso De La RepÃºblica</td>\n",
       "      <td>25</td>\n",
       "      <td>2017-11-13T17:00:02.000Z</td>\n",
       "      <td>Chumel Torres|\"El Pulso de la Republica\"|\"noti...</td>\n",
       "      <td>136064</td>\n",
       "      <td>10105</td>\n",
       "      <td>266</td>\n",
       "      <td>607</td>\n",
       "      <td>https://i.ytimg.com/vi/6L2ZF7Qzsbk/default.jpg</td>\n",
       "      <td>False</td>\n",
       "      <td>False</td>\n",
       "      <td>False</td>\n",
       "      <td>La canciÃ³n del principio se llama âEste esp...</td>\n",
       "      <td>News &amp; Politics</td>\n",
       "    </tr>\n",
       "    <tr>\n",
       "      <th>3</th>\n",
       "      <td>hcY52MFWMDM</td>\n",
       "      <td>17.14.11</td>\n",
       "      <td>Sismo de 6.7 sacude Costa Rica 12 Noviembre 2017</td>\n",
       "      <td>Casanare</td>\n",
       "      <td>25</td>\n",
       "      <td>2017-11-13T03:47:10.000Z</td>\n",
       "      <td>temblor|\"costa rica\"|\"sismo en costa rica\"</td>\n",
       "      <td>96153</td>\n",
       "      <td>378</td>\n",
       "      <td>171</td>\n",
       "      <td>208</td>\n",
       "      <td>https://i.ytimg.com/vi/hcY52MFWMDM/default.jpg</td>\n",
       "      <td>False</td>\n",
       "      <td>False</td>\n",
       "      <td>False</td>\n",
       "      <td>El video es de un Walmart en el pais centroame...</td>\n",
       "      <td>News &amp; Politics</td>\n",
       "    </tr>\n",
       "    <tr>\n",
       "      <th>4</th>\n",
       "      <td>_OXDcGPVAa4</td>\n",
       "      <td>17.14.11</td>\n",
       "      <td>DOG HACKS | MUSAS LESSLIE LOS POLINESIOS</td>\n",
       "      <td>Musas</td>\n",
       "      <td>26</td>\n",
       "      <td>2017-11-13T19:17:48.000Z</td>\n",
       "      <td>MUSAS|\"lesslie\"|\"karen\"|\"hacks\"|\"perros\"|\"dogs...</td>\n",
       "      <td>499965</td>\n",
       "      <td>57781</td>\n",
       "      <td>681</td>\n",
       "      <td>7428</td>\n",
       "      <td>https://i.ytimg.com/vi/_OXDcGPVAa4/default.jpg</td>\n",
       "      <td>False</td>\n",
       "      <td>False</td>\n",
       "      <td>False</td>\n",
       "      <td>MI HERMANO NARRA MI RUTINA DE MAQUILLAJE\\nhttp...</td>\n",
       "      <td>Howto &amp; Style</td>\n",
       "    </tr>\n",
       "    <tr>\n",
       "      <th>...</th>\n",
       "      <td>...</td>\n",
       "      <td>...</td>\n",
       "      <td>...</td>\n",
       "      <td>...</td>\n",
       "      <td>...</td>\n",
       "      <td>...</td>\n",
       "      <td>...</td>\n",
       "      <td>...</td>\n",
       "      <td>...</td>\n",
       "      <td>...</td>\n",
       "      <td>...</td>\n",
       "      <td>...</td>\n",
       "      <td>...</td>\n",
       "      <td>...</td>\n",
       "      <td>...</td>\n",
       "      <td>...</td>\n",
       "      <td>...</td>\n",
       "    </tr>\n",
       "    <tr>\n",
       "      <th>375937</th>\n",
       "      <td>l884wKofd54</td>\n",
       "      <td>18.14.06</td>\n",
       "      <td>Enrique Iglesias - MOVE TO MIAMI (Official Vid...</td>\n",
       "      <td>EnriqueIglesiasVEVO</td>\n",
       "      <td>10</td>\n",
       "      <td>2018-05-09T07:00:01.000Z</td>\n",
       "      <td>Enrique Iglesias feat. Pitbull|\"MOVE TO MIAMI\"...</td>\n",
       "      <td>25066952</td>\n",
       "      <td>268088</td>\n",
       "      <td>12783</td>\n",
       "      <td>9933</td>\n",
       "      <td>https://i.ytimg.com/vi/l884wKofd54/default.jpg</td>\n",
       "      <td>False</td>\n",
       "      <td>False</td>\n",
       "      <td>False</td>\n",
       "      <td>NEW SONG - MOVE TO MIAMI feat. Pitbull (Click ...</td>\n",
       "      <td>Music</td>\n",
       "    </tr>\n",
       "    <tr>\n",
       "      <th>375938</th>\n",
       "      <td>IP8k2xkhOdI</td>\n",
       "      <td>18.14.06</td>\n",
       "      <td>Jacob Sartorius - Up With It (Official Music V...</td>\n",
       "      <td>Jacob Sartorius</td>\n",
       "      <td>10</td>\n",
       "      <td>2018-05-11T17:09:16.000Z</td>\n",
       "      <td>jacob sartorius|\"jacob\"|\"up with it\"|\"jacob sa...</td>\n",
       "      <td>1492219</td>\n",
       "      <td>61998</td>\n",
       "      <td>13781</td>\n",
       "      <td>24330</td>\n",
       "      <td>https://i.ytimg.com/vi/IP8k2xkhOdI/default.jpg</td>\n",
       "      <td>False</td>\n",
       "      <td>False</td>\n",
       "      <td>False</td>\n",
       "      <td>THE OFFICIAL UP WITH IT MUSIC VIDEO!Get my new...</td>\n",
       "      <td>Music</td>\n",
       "    </tr>\n",
       "    <tr>\n",
       "      <th>375939</th>\n",
       "      <td>Il-an3K9pjg</td>\n",
       "      <td>18.14.06</td>\n",
       "      <td>Anne-Marie - 2002 [Official Video]</td>\n",
       "      <td>Anne-Marie</td>\n",
       "      <td>10</td>\n",
       "      <td>2018-05-08T11:05:08.000Z</td>\n",
       "      <td>anne|\"marie\"|\"anne-marie\"|\"2002\"|\"two thousand...</td>\n",
       "      <td>29641412</td>\n",
       "      <td>394830</td>\n",
       "      <td>8892</td>\n",
       "      <td>19988</td>\n",
       "      <td>https://i.ytimg.com/vi/Il-an3K9pjg/default.jpg</td>\n",
       "      <td>False</td>\n",
       "      <td>False</td>\n",
       "      <td>False</td>\n",
       "      <td>Get 2002 by Anne-Marie HERE â¶ http://ad.gt/2...</td>\n",
       "      <td>Music</td>\n",
       "    </tr>\n",
       "    <tr>\n",
       "      <th>375940</th>\n",
       "      <td>-DRsfNObKIQ</td>\n",
       "      <td>18.14.06</td>\n",
       "      <td>Eleni Foureira - Fuego - Cyprus - LIVE - First...</td>\n",
       "      <td>Eurovision Song Contest</td>\n",
       "      <td>24</td>\n",
       "      <td>2018-05-08T20:32:32.000Z</td>\n",
       "      <td>Eurovision Song Contest|\"2018\"|\"Lisbon\"|\"Cypru...</td>\n",
       "      <td>14317515</td>\n",
       "      <td>151870</td>\n",
       "      <td>45875</td>\n",
       "      <td>26766</td>\n",
       "      <td>https://i.ytimg.com/vi/-DRsfNObKIQ/default.jpg</td>\n",
       "      <td>False</td>\n",
       "      <td>False</td>\n",
       "      <td>False</td>\n",
       "      <td>Eleni Foureira represented Cyprus at the first...</td>\n",
       "      <td>Entertainment</td>\n",
       "    </tr>\n",
       "    <tr>\n",
       "      <th>375941</th>\n",
       "      <td>4YFo4bdMO8Q</td>\n",
       "      <td>18.14.06</td>\n",
       "      <td>KYLE - Ikuyo feat.  2 Chainz &amp; Sophia Black [A...</td>\n",
       "      <td>SuperDuperKyle</td>\n",
       "      <td>10</td>\n",
       "      <td>2018-05-11T04:06:35.000Z</td>\n",
       "      <td>Kyle|\"SuperDuperKyle\"|\"Ikuyo\"|\"2 Chainz\"|\"Soph...</td>\n",
       "      <td>607552</td>\n",
       "      <td>18271</td>\n",
       "      <td>274</td>\n",
       "      <td>1423</td>\n",
       "      <td>https://i.ytimg.com/vi/4YFo4bdMO8Q/default.jpg</td>\n",
       "      <td>False</td>\n",
       "      <td>False</td>\n",
       "      <td>False</td>\n",
       "      <td>Debut album 'Light of Mine' out now: http://ky...</td>\n",
       "      <td>Music</td>\n",
       "    </tr>\n",
       "  </tbody>\n",
       "</table>\n",
       "<p>339525 rows × 17 columns</p>\n",
       "</div>"
      ],
      "text/plain": [
       "           video_id trending_date  \\\n",
       "0       SbOwzAl9ZfQ      17.14.11   \n",
       "1       klOV6Xh-DnI      17.14.11   \n",
       "2       6L2ZF7Qzsbk      17.14.11   \n",
       "3       hcY52MFWMDM      17.14.11   \n",
       "4       _OXDcGPVAa4      17.14.11   \n",
       "...             ...           ...   \n",
       "375937  l884wKofd54      18.14.06   \n",
       "375938  IP8k2xkhOdI      18.14.06   \n",
       "375939  Il-an3K9pjg      18.14.06   \n",
       "375940  -DRsfNObKIQ      18.14.06   \n",
       "375941  4YFo4bdMO8Q      18.14.06   \n",
       "\n",
       "                                                    title  \\\n",
       "0                          CapÃ­tulo 12 | MasterChef 2017   \n",
       "1       ALEXA EX-INTEGRANTE DEL GRUPO TIMBIRICHE RENUN...   \n",
       "2                LOUIS CKAGÃ - EL PULSO DE LA REPÃBLICA   \n",
       "3        Sismo de 6.7 sacude Costa Rica 12 Noviembre 2017   \n",
       "4                DOG HACKS | MUSAS LESSLIE LOS POLINESIOS   \n",
       "...                                                   ...   \n",
       "375937  Enrique Iglesias - MOVE TO MIAMI (Official Vid...   \n",
       "375938  Jacob Sartorius - Up With It (Official Music V...   \n",
       "375939                 Anne-Marie - 2002 [Official Video]   \n",
       "375940  Eleni Foureira - Fuego - Cyprus - LIVE - First...   \n",
       "375941  KYLE - Ikuyo feat.  2 Chainz & Sophia Black [A...   \n",
       "\n",
       "                    channel_title  category_id              publish_time  \\\n",
       "0                 MasterChef 2017           24  2017-11-13T06:06:22.000Z   \n",
       "1        Micky Contreras Martinez           22  2017-11-13T05:11:58.000Z   \n",
       "2       El Pulso De La RepÃºblica           25  2017-11-13T17:00:02.000Z   \n",
       "3                        Casanare           25  2017-11-13T03:47:10.000Z   \n",
       "4                           Musas           26  2017-11-13T19:17:48.000Z   \n",
       "...                           ...          ...                       ...   \n",
       "375937        EnriqueIglesiasVEVO           10  2018-05-09T07:00:01.000Z   \n",
       "375938            Jacob Sartorius           10  2018-05-11T17:09:16.000Z   \n",
       "375939                 Anne-Marie           10  2018-05-08T11:05:08.000Z   \n",
       "375940    Eurovision Song Contest           24  2018-05-08T20:32:32.000Z   \n",
       "375941             SuperDuperKyle           10  2018-05-11T04:06:35.000Z   \n",
       "\n",
       "                                                     tags     views   likes  \\\n",
       "0       MasterChef Junior 2017|\"TV Azteca\"|\"recetas\"|\"...    310130    4182   \n",
       "1                                         La Voz Mexico 7    104972     271   \n",
       "2       Chumel Torres|\"El Pulso de la Republica\"|\"noti...    136064   10105   \n",
       "3              temblor|\"costa rica\"|\"sismo en costa rica\"     96153     378   \n",
       "4       MUSAS|\"lesslie\"|\"karen\"|\"hacks\"|\"perros\"|\"dogs...    499965   57781   \n",
       "...                                                   ...       ...     ...   \n",
       "375937  Enrique Iglesias feat. Pitbull|\"MOVE TO MIAMI\"...  25066952  268088   \n",
       "375938  jacob sartorius|\"jacob\"|\"up with it\"|\"jacob sa...   1492219   61998   \n",
       "375939  anne|\"marie\"|\"anne-marie\"|\"2002\"|\"two thousand...  29641412  394830   \n",
       "375940  Eurovision Song Contest|\"2018\"|\"Lisbon\"|\"Cypru...  14317515  151870   \n",
       "375941  Kyle|\"SuperDuperKyle\"|\"Ikuyo\"|\"2 Chainz\"|\"Soph...    607552   18271   \n",
       "\n",
       "        dislikes  comment_count  \\\n",
       "0            361           1836   \n",
       "1            174            369   \n",
       "2            266            607   \n",
       "3            171            208   \n",
       "4            681           7428   \n",
       "...          ...            ...   \n",
       "375937     12783           9933   \n",
       "375938     13781          24330   \n",
       "375939      8892          19988   \n",
       "375940     45875          26766   \n",
       "375941       274           1423   \n",
       "\n",
       "                                        thumbnail_link  comments_disabled  \\\n",
       "0       https://i.ytimg.com/vi/SbOwzAl9ZfQ/default.jpg              False   \n",
       "1       https://i.ytimg.com/vi/klOV6Xh-DnI/default.jpg              False   \n",
       "2       https://i.ytimg.com/vi/6L2ZF7Qzsbk/default.jpg              False   \n",
       "3       https://i.ytimg.com/vi/hcY52MFWMDM/default.jpg              False   \n",
       "4       https://i.ytimg.com/vi/_OXDcGPVAa4/default.jpg              False   \n",
       "...                                                ...                ...   \n",
       "375937  https://i.ytimg.com/vi/l884wKofd54/default.jpg              False   \n",
       "375938  https://i.ytimg.com/vi/IP8k2xkhOdI/default.jpg              False   \n",
       "375939  https://i.ytimg.com/vi/Il-an3K9pjg/default.jpg              False   \n",
       "375940  https://i.ytimg.com/vi/-DRsfNObKIQ/default.jpg              False   \n",
       "375941  https://i.ytimg.com/vi/4YFo4bdMO8Q/default.jpg              False   \n",
       "\n",
       "        ratings_disabled  video_error_or_removed  \\\n",
       "0                  False                   False   \n",
       "1                  False                   False   \n",
       "2                  False                   False   \n",
       "3                  False                   False   \n",
       "4                  False                   False   \n",
       "...                  ...                     ...   \n",
       "375937             False                   False   \n",
       "375938             False                   False   \n",
       "375939             False                   False   \n",
       "375940             False                   False   \n",
       "375941             False                   False   \n",
       "\n",
       "                                              description    category_name  \n",
       "0       Disfruta la presencia del Chef Torreblanca en ...    Entertainment  \n",
       "1       ALEXA EX-INTEGRANTE DEL GRUPO TIMBIRICHE RENUN...   People & Blogs  \n",
       "2       La canciÃ³n del principio se llama âEste esp...  News & Politics  \n",
       "3       El video es de un Walmart en el pais centroame...  News & Politics  \n",
       "4       MI HERMANO NARRA MI RUTINA DE MAQUILLAJE\\nhttp...    Howto & Style  \n",
       "...                                                   ...              ...  \n",
       "375937  NEW SONG - MOVE TO MIAMI feat. Pitbull (Click ...            Music  \n",
       "375938  THE OFFICIAL UP WITH IT MUSIC VIDEO!Get my new...            Music  \n",
       "375939  Get 2002 by Anne-Marie HERE â¶ http://ad.gt/2...            Music  \n",
       "375940  Eleni Foureira represented Cyprus at the first...    Entertainment  \n",
       "375941  Debut album 'Light of Mine' out now: http://ky...            Music  \n",
       "\n",
       "[339525 rows x 17 columns]"
      ]
     },
     "execution_count": 36,
     "metadata": {},
     "output_type": "execute_result"
    }
   ],
   "source": [
    "# Create a new column in the dataframe with category names\n",
    "full_df[\"category_name\"] = full_df[\"category_id\"].map(category_dict)\n",
    "full_df"
   ]
  },
  {
   "cell_type": "code",
   "execution_count": 37,
   "id": "504afd7f",
   "metadata": {},
   "outputs": [
    {
     "data": {
      "image/png": "[encoded data removed]",
      "text/plain": [
       "<Figure size 1200x600 with 1 Axes>"
      ]
     },
     "metadata": {},
     "output_type": "display_data"
    }
   ],
   "source": [
    "# Plot category distribution against likes using seaborn boxplot\n",
    "plt.figure(figsize=(12, 6))\n",
    "sns.boxplot(data=full_df, x=\"category_name\", y=\"likes\")\n",
    "plt.xticks(rotation=\"vertical\")\n",
    "plt.show()"
   ]
  },
  {
   "cell_type": "code",
   "execution_count": null,
   "id": "406c63ed",
   "metadata": {},
   "outputs": [],
   "source": []
  },
  {
   "cell_type": "code",
   "execution_count": 38,
   "id": "96cd56e5",
   "metadata": {},
   "outputs": [],
   "source": [
    "# Engagement analysis\n",
    "\n",
    "# Calculate engagement rates\n",
    "full_df[\"like_rate\"] = (full_df[\"likes\"]/full_df[\"views\"])*100\n",
    "full_df[\"dislike_rate\"] = (full_df[\"dislikes\"]/full_df[\"views\"])*100\n",
    "full_df[\"comment_count_rate\"] = (full_df[\"comment_count\"]/full_df[\"views\"])*100"
   ]
  },
  {
   "cell_type": "code",
   "execution_count": 39,
   "id": "b592936f",
   "metadata": {},
   "outputs": [
    {
     "data": {
      "text/plain": [
       "Index(['video_id', 'trending_date', 'title', 'channel_title', 'category_id',\n",
       "       'publish_time', 'tags', 'views', 'likes', 'dislikes', 'comment_count',\n",
       "       'thumbnail_link', 'comments_disabled', 'ratings_disabled',\n",
       "       'video_error_or_removed', 'description', 'category_name', 'like_rate',\n",
       "       'dislike_rate', 'comment_count_rate'],\n",
       "      dtype='object')"
      ]
     },
     "execution_count": 39,
     "metadata": {},
     "output_type": "execute_result"
    }
   ],
   "source": [
    "full_df.columns"
   ]
  },
  {
   "cell_type": "code",
   "execution_count": 40,
   "id": "54eaaeea",
   "metadata": {},
   "outputs": [
    {
     "data": {
      "image/png": "[encoded data removed]",
      "text/plain": [
       "<Figure size 1200x600 with 1 Axes>"
      ]
     },
     "metadata": {},
     "output_type": "display_data"
    }
   ],
   "source": [
    "# Plot like rate against category using seaborn boxplot\n",
    "plt.figure(figsize=(12, 6))\n",
    "sns.boxplot(data=full_df, x=\"category_name\", y=\"like_rate\")\n",
    "plt.xticks(rotation=\"vertical\")\n",
    "plt.show()"
   ]
  },
  {
   "cell_type": "code",
   "execution_count": 41,
   "id": "2d6da73e",
   "metadata": {},
   "outputs": [
    {
     "data": {
      "image/png": "[encoded data removed]",
      "text/plain": [
       "<Figure size 640x480 with 1 Axes>"
      ]
     },
     "metadata": {},
     "output_type": "display_data"
    }
   ],
   "source": [
    "# Plot regression between views and likes using seaborn regplot\n",
    "sns.regplot(data=full_df, x=\"views\", y=\"likes\")\n",
    "plt.show()"
   ]
  },
  {
   "cell_type": "code",
   "execution_count": 42,
   "id": "c4efd2b6",
   "metadata": {},
   "outputs": [
    {
     "data": {
      "application/vnd.microsoft.datawrangler.viewer.v0+json": {
       "columns": [
        {
         "name": "index",
         "rawType": "object",
         "type": "string"
        },
        {
         "name": "views",
         "rawType": "float64",
         "type": "float"
        },
        {
         "name": "likes",
         "rawType": "float64",
         "type": "float"
        },
        {
         "name": "dislikes",
         "rawType": "float64",
         "type": "float"
        }
       ],
       "ref": "d84a0e35-b73f-4115-820c-1b9ac31eb057",
       "rows": [
        [
         "views",
         "1.0",
         "0.7795314427446957",
         "0.40542767843603056"
        ],
        [
         "likes",
         "0.7795314427446957",
         "1.0",
         "0.45180905276431277"
        ],
        [
         "dislikes",
         "0.40542767843603056",
         "0.45180905276431277",
         "1.0"
        ]
       ],
       "shape": {
        "columns": 3,
        "rows": 3
       }
      },
      "text/html": [
       "<div>\n",
       "<style scoped>\n",
       "    .dataframe tbody tr th:only-of-type {\n",
       "        vertical-align: middle;\n",
       "    }\n",
       "\n",
       "    .dataframe tbody tr th {\n",
       "        vertical-align: top;\n",
       "    }\n",
       "\n",
       "    .dataframe thead th {\n",
       "        text-align: right;\n",
       "    }\n",
       "</style>\n",
       "<table border=\"1\" class=\"dataframe\">\n",
       "  <thead>\n",
       "    <tr style=\"text-align: right;\">\n",
       "      <th></th>\n",
       "      <th>views</th>\n",
       "      <th>likes</th>\n",
       "      <th>dislikes</th>\n",
       "    </tr>\n",
       "  </thead>\n",
       "  <tbody>\n",
       "    <tr>\n",
       "      <th>views</th>\n",
       "      <td>1.000000</td>\n",
       "      <td>0.779531</td>\n",
       "      <td>0.405428</td>\n",
       "    </tr>\n",
       "    <tr>\n",
       "      <th>likes</th>\n",
       "      <td>0.779531</td>\n",
       "      <td>1.000000</td>\n",
       "      <td>0.451809</td>\n",
       "    </tr>\n",
       "    <tr>\n",
       "      <th>dislikes</th>\n",
       "      <td>0.405428</td>\n",
       "      <td>0.451809</td>\n",
       "      <td>1.000000</td>\n",
       "    </tr>\n",
       "  </tbody>\n",
       "</table>\n",
       "</div>"
      ],
      "text/plain": [
       "             views     likes  dislikes\n",
       "views     1.000000  0.779531  0.405428\n",
       "likes     0.779531  1.000000  0.451809\n",
       "dislikes  0.405428  0.451809  1.000000"
      ]
     },
     "execution_count": 42,
     "metadata": {},
     "output_type": "execute_result"
    }
   ],
   "source": [
    "# Show correlation matrix between views, likes, and dislikes\n",
    "full_df[[\"views\", \"likes\", \"dislikes\"]].corr()"
   ]
  },
  {
   "cell_type": "code",
   "execution_count": 43,
   "id": "8cf0b2f2",
   "metadata": {},
   "outputs": [
    {
     "data": {
      "image/png": "[encoded data removed]",
      "text/plain": [
       "<Figure size 640x480 with 2 Axes>"
      ]
     },
     "metadata": {},
     "output_type": "display_data"
    }
   ],
   "source": [
    "# Plot heatmap showing correlation matrix\n",
    "sns.heatmap(full_df[[\"views\", \"likes\", \"dislikes\"]].corr(), annot=True)\n",
    "plt.show()"
   ]
  },
  {
   "cell_type": "code",
   "execution_count": null,
   "id": "8058a2d4",
   "metadata": {},
   "outputs": [],
   "source": []
  },
  {
   "cell_type": "code",
   "execution_count": 44,
   "id": "f2189c7e",
   "metadata": {},
   "outputs": [
    {
     "data": {
      "application/vnd.microsoft.datawrangler.viewer.v0+json": {
       "columns": [
        {
         "name": "index",
         "rawType": "int64",
         "type": "integer"
        },
        {
         "name": "video_id",
         "rawType": "object",
         "type": "string"
        },
        {
         "name": "trending_date",
         "rawType": "object",
         "type": "string"
        },
        {
         "name": "title",
         "rawType": "object",
         "type": "string"
        },
        {
         "name": "channel_title",
         "rawType": "object",
         "type": "string"
        },
        {
         "name": "category_id",
         "rawType": "int64",
         "type": "integer"
        },
        {
         "name": "publish_time",
         "rawType": "object",
         "type": "string"
        },
        {
         "name": "tags",
         "rawType": "object",
         "type": "string"
        },
        {
         "name": "views",
         "rawType": "int64",
         "type": "integer"
        },
        {
         "name": "likes",
         "rawType": "int64",
         "type": "integer"
        },
        {
         "name": "dislikes",
         "rawType": "int64",
         "type": "integer"
        },
        {
         "name": "comment_count",
         "rawType": "int64",
         "type": "integer"
        },
        {
         "name": "thumbnail_link",
         "rawType": "object",
         "type": "string"
        },
        {
         "name": "comments_disabled",
         "rawType": "bool",
         "type": "boolean"
        },
        {
         "name": "ratings_disabled",
         "rawType": "bool",
         "type": "boolean"
        },
        {
         "name": "video_error_or_removed",
         "rawType": "bool",
         "type": "boolean"
        },
        {
         "name": "description",
         "rawType": "object",
         "type": "string"
        },
        {
         "name": "category_name",
         "rawType": "object",
         "type": "string"
        },
        {
         "name": "like_rate",
         "rawType": "float64",
         "type": "float"
        },
        {
         "name": "dislike_rate",
         "rawType": "float64",
         "type": "float"
        },
        {
         "name": "comment_count_rate",
         "rawType": "float64",
         "type": "float"
        }
       ],
       "ref": "8ae8061c-2755-4b1b-9e95-ecff96a58be3",
       "rows": [
        [
         "0",
         "SbOwzAl9ZfQ",
         "17.14.11",
         "CapÃ­tulo 12 | MasterChef 2017",
         "MasterChef 2017",
         "24",
         "2017-11-13T06:06:22.000Z",
         "MasterChef Junior 2017|\"TV Azteca\"|\"recetas\"|\"cocina\"|\"Anette Michel\"|\"Betty VÃ¡zquez\"|\"Benito Molina\"|\"AdriÃ¡n Herrera\"|\"master chef mexico\"|\"masterchef\"|\"master chef\"|\"master chef mexico 2017\"|\"masterchef mexico jueces\"|\"la cocina mÃ¡s famosa de mÃ©xico\"|\"reality de cocina mÃ¡s famoso de mÃ©xico\"|\"capÃ­tulo 12\"|\"episodio 12\"|\"capitulo masterchef\"|\"capitulo masterchef mexico 2017\"|\"programa masterchef de hoy\"",
         "310130",
         "4182",
         "361",
         "1836",
         "https://i.ytimg.com/vi/SbOwzAl9ZfQ/default.jpg",
         "False",
         "False",
         "False",
         "Disfruta la presencia del Chef Torreblanca en MasterChef, el duelo de pasteles, las mesas regionales de los chefs Benito, Betty y Herrera, la preparaciÃ³n de un tamal  artesanal y la salida del Padre Beto.\\n\\nMasterChef 2017\\nVisita nuestro sitio oficial:\\nhttp://www.aztecatrece.com/masterchef\\n\\nMasterChef regresa este 2017 mÃ¡s exigente que nunca. Descubre quiÃ©n serÃ¡ el mejor cocinero de MÃ©xico en la cocina mÃ¡s famosa del mundo. Tv Azteca",
         "Entertainment",
         "1.3484667719988392",
         "0.11640279882629864",
         "0.5920098023409538"
        ],
        [
         "1",
         "klOV6Xh-DnI",
         "17.14.11",
         "ALEXA EX-INTEGRANTE DEL GRUPO TIMBIRICHE RENUNCIA A Â¨La Voz Mexico 7Â¨TELEVISA 11/11/2017",
         "Micky Contreras Martinez",
         "22",
         "2017-11-13T05:11:58.000Z",
         "La Voz Mexico 7",
         "104972",
         "271",
         "174",
         "369",
         "https://i.ytimg.com/vi/klOV6Xh-DnI/default.jpg",
         "False",
         "False",
         "False",
         "ALEXA EX-INTEGRANTE DEL GRUPO TIMBIRICHE RENUNCIA A Â¨La Voz Mexico 7Â¨TELEVISA 11/11/2017",
         "People & Blogs",
         "0.2581640818503982",
         "0.16575848797774645",
         "0.3515223107114278"
        ],
        [
         "2",
         "6L2ZF7Qzsbk",
         "17.14.11",
         "LOUIS CKAGÃ - EL PULSO DE LA REPÃBLICA",
         "El Pulso De La RepÃºblica",
         "25",
         "2017-11-13T17:00:02.000Z",
         "Chumel Torres|\"El Pulso de la Republica\"|\"noticias\"|\"news\"|\"mexico\"|\"pri\"|\"pan\"|\"prd\"|\"morena\"|\"louis ck\"|\"carstens\"|\"acoso\"|\"qatar\"|\"chicharito\"|\"premio nacional del deporte\"|\"carlos slim\"|\"carlos vergara\"|\"chivas\"|\"angelica fuentes\"",
         "136064",
         "10105",
         "266",
         "607",
         "https://i.ytimg.com/vi/6L2ZF7Qzsbk/default.jpg",
         "False",
         "False",
         "False",
         "La canciÃ³n del principio se llama âEste espÃ­rituâ de nuestros carnales de nuestros carnales de Corona en colaboraciÃ³n con La Banda BastÃ³n y Sotomayor, escÃºchala completa aquÃ­:\\nhttps://youtu.be/pQI70NAgN-I\\nO en Spotify \\nhttps://open.spotify.com/track/1tg4Sm0RY0HMReaI0YmJuM\\n\\nEl Pulso de La RepÃºblica. El InIn (Informativo Informal) que sale todos los LUNES y JUEVES a las 11 A.M. estÃ¡ tambiÃ©n disponible en todas las plataformas:\\n\\nPara la fresada: https://itunes.apple.com/mx/app/el-pulso/id916281976?mt=8\\nPara la pelusa: https://play.google.com/store/apps/details?id=com.iktwo.elpulso&hl=es_419:\\nPara tus tÃ­as: https://www.facebook.com/ElPulsoDeLaRepublica/\\n\\nLa Lista Oficial de toda la mÃºsica no oficial de El Pulso:\\nhttps://open.spotify.com/user/12161104895/playlist/3yI4U05btr0MmNIn2etRKH\\n\\nY tambiÃ©n, si quieres tener un cachito de nosotros, estÃ¡ la tienda de productos oficiales:\\n\\nhttps://www.kichink.com/stores/maquina\\n\\nEl Pulso de la RepÃºblica somos:\\n\\nhttp://twitter.com/ChumelTorres\\nhttp://twitter.com/Durden\\nhttp://twitter.com/ZomVieck\\nhttp://twitter.com/rikymoreno\\nhttp://twitter.com/Kaizzer\\nhttps://twitter.com/elgab\\n\\nNo olvides suscribirte al canal y darnos tus pulgares arriba. Somos El Pulso de La RepÃºblica y nos despedimos no sin antes decirles queâ¦ Los amamos, estupeds.",
         "News & Politics",
         "7.4266521636876766",
         "0.19549623706491062",
         "0.4461135936030104"
        ],
        [
         "3",
         "hcY52MFWMDM",
         "17.14.11",
         "Sismo de 6.7 sacude Costa Rica 12 Noviembre 2017",
         "Casanare",
         "25",
         "2017-11-13T03:47:10.000Z",
         "temblor|\"costa rica\"|\"sismo en costa rica\"",
         "96153",
         "378",
         "171",
         "208",
         "https://i.ytimg.com/vi/hcY52MFWMDM/default.jpg",
         "False",
         "False",
         "False",
         "El video es de un Walmart en el pais centroamericano en el momento del temblor\\n\\nEl movimiento telÃºrico se produjo a las 20:28 (hora local) y tuvo su epicentro en el ocÃ©ano PacÃ­fico a 19 kilÃ³metros al sur de JacÃ³, ciudad playera de la provincia de Puntarenas, segÃºn la Red SismolÃ³gica Nacional.\\n\\nHasta el momento no hay reportes de personas heridas ni daÃ±os materiales.",
         "News & Politics",
         "0.3931234594864435",
         "0.17784156500577206",
         "0.21632190363275197"
        ],
        [
         "4",
         "_OXDcGPVAa4",
         "17.14.11",
         "DOG HACKS | MUSAS LESSLIE LOS POLINESIOS",
         "Musas",
         "26",
         "2017-11-13T19:17:48.000Z",
         "MUSAS|\"lesslie\"|\"karen\"|\"hacks\"|\"perros\"|\"dogs\"|\"trucos\"|\"los polinesios\"|\"aria\"|\"kler\"|\"manualidades\"|\"snaks de perros\"|\"dulces para perros\"|\"jueguetes\"|\"jueguetes de perro\"|\"can\"|\"diy dogs\"|\"diy hacks\"",
         "499965",
         "57781",
         "681",
         "7428",
         "https://i.ytimg.com/vi/_OXDcGPVAa4/default.jpg",
         "False",
         "False",
         "False",
         "MI HERMANO NARRA MI RUTINA DE MAQUILLAJE\\nhttps://youtu.be/Ge4wYu90Q2A\\n------------------------------------------------------------------------------------\\n\\nNUESTROS CANALES:\\nBromas: http://www.youtube.com/platicapolinesa\\nRetos: http://www.youtube.com/ppextras\\nVlogs: http://www.youtube.com/lospolinesios\\nVideojuegos: http://www.youtube.com/ppjuxiis\\n\\n------------------------------------------------------------------------------------\\n\\nMIS REDES SOCIALES:\\n***Mi Facebook: http://www.facebook.com/TeamLesslie\\n***Mi Twitter: http://www.twitter.com/PPTeamLesslie\\n***Mi Instagram: http://www.instagram.com/PPTeamLesslie\\n\\n------------------------------------------------------------------------------------\\n\\n\\n***SUSCRIBETE: http://www.youtube.com/subscription_center?add_user=ppmussas\\n\\nCONTACTO: contacto@platicapolinesia.com\\n\\n\\n____________________________________________\\n\\nCanal Musas | Platica Polinesia | PP",
         "Howto & Style",
         "11.557008990629344",
         "0.13620953466742672",
         "1.4857039992799497"
        ]
       ],
       "shape": {
        "columns": 20,
        "rows": 5
       }
      },
      "text/html": [
       "<div>\n",
       "<style scoped>\n",
       "    .dataframe tbody tr th:only-of-type {\n",
       "        vertical-align: middle;\n",
       "    }\n",
       "\n",
       "    .dataframe tbody tr th {\n",
       "        vertical-align: top;\n",
       "    }\n",
       "\n",
       "    .dataframe thead th {\n",
       "        text-align: right;\n",
       "    }\n",
       "</style>\n",
       "<table border=\"1\" class=\"dataframe\">\n",
       "  <thead>\n",
       "    <tr style=\"text-align: right;\">\n",
       "      <th></th>\n",
       "      <th>video_id</th>\n",
       "      <th>trending_date</th>\n",
       "      <th>title</th>\n",
       "      <th>channel_title</th>\n",
       "      <th>category_id</th>\n",
       "      <th>publish_time</th>\n",
       "      <th>tags</th>\n",
       "      <th>views</th>\n",
       "      <th>likes</th>\n",
       "      <th>dislikes</th>\n",
       "      <th>comment_count</th>\n",
       "      <th>thumbnail_link</th>\n",
       "      <th>comments_disabled</th>\n",
       "      <th>ratings_disabled</th>\n",
       "      <th>video_error_or_removed</th>\n",
       "      <th>description</th>\n",
       "      <th>category_name</th>\n",
       "      <th>like_rate</th>\n",
       "      <th>dislike_rate</th>\n",
       "      <th>comment_count_rate</th>\n",
       "    </tr>\n",
       "  </thead>\n",
       "  <tbody>\n",
       "    <tr>\n",
       "      <th>0</th>\n",
       "      <td>SbOwzAl9ZfQ</td>\n",
       "      <td>17.14.11</td>\n",
       "      <td>CapÃ­tulo 12 | MasterChef 2017</td>\n",
       "      <td>MasterChef 2017</td>\n",
       "      <td>24</td>\n",
       "      <td>2017-11-13T06:06:22.000Z</td>\n",
       "      <td>MasterChef Junior 2017|\"TV Azteca\"|\"recetas\"|\"...</td>\n",
       "      <td>310130</td>\n",
       "      <td>4182</td>\n",
       "      <td>361</td>\n",
       "      <td>1836</td>\n",
       "      <td>https://i.ytimg.com/vi/SbOwzAl9ZfQ/default.jpg</td>\n",
       "      <td>False</td>\n",
       "      <td>False</td>\n",
       "      <td>False</td>\n",
       "      <td>Disfruta la presencia del Chef Torreblanca en ...</td>\n",
       "      <td>Entertainment</td>\n",
       "      <td>1.348467</td>\n",
       "      <td>0.116403</td>\n",
       "      <td>0.592010</td>\n",
       "    </tr>\n",
       "    <tr>\n",
       "      <th>1</th>\n",
       "      <td>klOV6Xh-DnI</td>\n",
       "      <td>17.14.11</td>\n",
       "      <td>ALEXA EX-INTEGRANTE DEL GRUPO TIMBIRICHE RENUN...</td>\n",
       "      <td>Micky Contreras Martinez</td>\n",
       "      <td>22</td>\n",
       "      <td>2017-11-13T05:11:58.000Z</td>\n",
       "      <td>La Voz Mexico 7</td>\n",
       "      <td>104972</td>\n",
       "      <td>271</td>\n",
       "      <td>174</td>\n",
       "      <td>369</td>\n",
       "      <td>https://i.ytimg.com/vi/klOV6Xh-DnI/default.jpg</td>\n",
       "      <td>False</td>\n",
       "      <td>False</td>\n",
       "      <td>False</td>\n",
       "      <td>ALEXA EX-INTEGRANTE DEL GRUPO TIMBIRICHE RENUN...</td>\n",
       "      <td>People &amp; Blogs</td>\n",
       "      <td>0.258164</td>\n",
       "      <td>0.165758</td>\n",
       "      <td>0.351522</td>\n",
       "    </tr>\n",
       "    <tr>\n",
       "      <th>2</th>\n",
       "      <td>6L2ZF7Qzsbk</td>\n",
       "      <td>17.14.11</td>\n",
       "      <td>LOUIS CKAGÃ - EL PULSO DE LA REPÃBLICA</td>\n",
       "      <td>El Pulso De La RepÃºblica</td>\n",
       "      <td>25</td>\n",
       "      <td>2017-11-13T17:00:02.000Z</td>\n",
       "      <td>Chumel Torres|\"El Pulso de la Republica\"|\"noti...</td>\n",
       "      <td>136064</td>\n",
       "      <td>10105</td>\n",
       "      <td>266</td>\n",
       "      <td>607</td>\n",
       "      <td>https://i.ytimg.com/vi/6L2ZF7Qzsbk/default.jpg</td>\n",
       "      <td>False</td>\n",
       "      <td>False</td>\n",
       "      <td>False</td>\n",
       "      <td>La canciÃ³n del principio se llama âEste esp...</td>\n",
       "      <td>News &amp; Politics</td>\n",
       "      <td>7.426652</td>\n",
       "      <td>0.195496</td>\n",
       "      <td>0.446114</td>\n",
       "    </tr>\n",
       "    <tr>\n",
       "      <th>3</th>\n",
       "      <td>hcY52MFWMDM</td>\n",
       "      <td>17.14.11</td>\n",
       "      <td>Sismo de 6.7 sacude Costa Rica 12 Noviembre 2017</td>\n",
       "      <td>Casanare</td>\n",
       "      <td>25</td>\n",
       "      <td>2017-11-13T03:47:10.000Z</td>\n",
       "      <td>temblor|\"costa rica\"|\"sismo en costa rica\"</td>\n",
       "      <td>96153</td>\n",
       "      <td>378</td>\n",
       "      <td>171</td>\n",
       "      <td>208</td>\n",
       "      <td>https://i.ytimg.com/vi/hcY52MFWMDM/default.jpg</td>\n",
       "      <td>False</td>\n",
       "      <td>False</td>\n",
       "      <td>False</td>\n",
       "      <td>El video es de un Walmart en el pais centroame...</td>\n",
       "      <td>News &amp; Politics</td>\n",
       "      <td>0.393123</td>\n",
       "      <td>0.177842</td>\n",
       "      <td>0.216322</td>\n",
       "    </tr>\n",
       "    <tr>\n",
       "      <th>4</th>\n",
       "      <td>_OXDcGPVAa4</td>\n",
       "      <td>17.14.11</td>\n",
       "      <td>DOG HACKS | MUSAS LESSLIE LOS POLINESIOS</td>\n",
       "      <td>Musas</td>\n",
       "      <td>26</td>\n",
       "      <td>2017-11-13T19:17:48.000Z</td>\n",
       "      <td>MUSAS|\"lesslie\"|\"karen\"|\"hacks\"|\"perros\"|\"dogs...</td>\n",
       "      <td>499965</td>\n",
       "      <td>57781</td>\n",
       "      <td>681</td>\n",
       "      <td>7428</td>\n",
       "      <td>https://i.ytimg.com/vi/_OXDcGPVAa4/default.jpg</td>\n",
       "      <td>False</td>\n",
       "      <td>False</td>\n",
       "      <td>False</td>\n",
       "      <td>MI HERMANO NARRA MI RUTINA DE MAQUILLAJE\\nhttp...</td>\n",
       "      <td>Howto &amp; Style</td>\n",
       "      <td>11.557009</td>\n",
       "      <td>0.136210</td>\n",
       "      <td>1.485704</td>\n",
       "    </tr>\n",
       "  </tbody>\n",
       "</table>\n",
       "</div>"
      ],
      "text/plain": [
       "      video_id trending_date  \\\n",
       "0  SbOwzAl9ZfQ      17.14.11   \n",
       "1  klOV6Xh-DnI      17.14.11   \n",
       "2  6L2ZF7Qzsbk      17.14.11   \n",
       "3  hcY52MFWMDM      17.14.11   \n",
       "4  _OXDcGPVAa4      17.14.11   \n",
       "\n",
       "                                               title  \\\n",
       "0                     CapÃ­tulo 12 | MasterChef 2017   \n",
       "1  ALEXA EX-INTEGRANTE DEL GRUPO TIMBIRICHE RENUN...   \n",
       "2           LOUIS CKAGÃ - EL PULSO DE LA REPÃBLICA   \n",
       "3   Sismo de 6.7 sacude Costa Rica 12 Noviembre 2017   \n",
       "4           DOG HACKS | MUSAS LESSLIE LOS POLINESIOS   \n",
       "\n",
       "               channel_title  category_id              publish_time  \\\n",
       "0            MasterChef 2017           24  2017-11-13T06:06:22.000Z   \n",
       "1   Micky Contreras Martinez           22  2017-11-13T05:11:58.000Z   \n",
       "2  El Pulso De La RepÃºblica           25  2017-11-13T17:00:02.000Z   \n",
       "3                   Casanare           25  2017-11-13T03:47:10.000Z   \n",
       "4                      Musas           26  2017-11-13T19:17:48.000Z   \n",
       "\n",
       "                                                tags   views  likes  dislikes  \\\n",
       "0  MasterChef Junior 2017|\"TV Azteca\"|\"recetas\"|\"...  310130   4182       361   \n",
       "1                                    La Voz Mexico 7  104972    271       174   \n",
       "2  Chumel Torres|\"El Pulso de la Republica\"|\"noti...  136064  10105       266   \n",
       "3         temblor|\"costa rica\"|\"sismo en costa rica\"   96153    378       171   \n",
       "4  MUSAS|\"lesslie\"|\"karen\"|\"hacks\"|\"perros\"|\"dogs...  499965  57781       681   \n",
       "\n",
       "   comment_count                                  thumbnail_link  \\\n",
       "0           1836  https://i.ytimg.com/vi/SbOwzAl9ZfQ/default.jpg   \n",
       "1            369  https://i.ytimg.com/vi/klOV6Xh-DnI/default.jpg   \n",
       "2            607  https://i.ytimg.com/vi/6L2ZF7Qzsbk/default.jpg   \n",
       "3            208  https://i.ytimg.com/vi/hcY52MFWMDM/default.jpg   \n",
       "4           7428  https://i.ytimg.com/vi/_OXDcGPVAa4/default.jpg   \n",
       "\n",
       "   comments_disabled  ratings_disabled  video_error_or_removed  \\\n",
       "0              False             False                   False   \n",
       "1              False             False                   False   \n",
       "2              False             False                   False   \n",
       "3              False             False                   False   \n",
       "4              False             False                   False   \n",
       "\n",
       "                                         description    category_name  \\\n",
       "0  Disfruta la presencia del Chef Torreblanca en ...    Entertainment   \n",
       "1  ALEXA EX-INTEGRANTE DEL GRUPO TIMBIRICHE RENUN...   People & Blogs   \n",
       "2  La canciÃ³n del principio se llama âEste esp...  News & Politics   \n",
       "3  El video es de un Walmart en el pais centroame...  News & Politics   \n",
       "4  MI HERMANO NARRA MI RUTINA DE MAQUILLAJE\\nhttp...    Howto & Style   \n",
       "\n",
       "   like_rate  dislike_rate  comment_count_rate  \n",
       "0   1.348467      0.116403            0.592010  \n",
       "1   0.258164      0.165758            0.351522  \n",
       "2   7.426652      0.195496            0.446114  \n",
       "3   0.393123      0.177842            0.216322  \n",
       "4  11.557009      0.136210            1.485704  "
      ]
     },
     "execution_count": 44,
     "metadata": {},
     "output_type": "execute_result"
    }
   ],
   "source": [
    "# Channel analysis\n",
    "\n",
    "# Search dataframe for channel_title column\n",
    "full_df.head()\n"
   ]
  },
  {
   "cell_type": "code",
   "execution_count": 45,
   "id": "ea070c3b",
   "metadata": {},
   "outputs": [
    {
     "data": {
      "application/vnd.microsoft.datawrangler.viewer.v0+json": {
       "columns": [
        {
         "name": "index",
         "rawType": "int64",
         "type": "integer"
        },
        {
         "name": "channel_title",
         "rawType": "object",
         "type": "string"
        },
        {
         "name": "count",
         "rawType": "int64",
         "type": "integer"
        }
       ],
       "ref": "8bc4b90a-8a13-4fe9-a0b5-06fafe7faccc",
       "rows": [
        [
         "0",
         "The Late Show with Stephen Colbert",
         "710"
        ],
        [
         "1",
         "WWE",
         "643"
        ],
        [
         "2",
         "Late Night with Seth Meyers",
         "592"
        ],
        [
         "3",
         "TheEllenShow",
         "555"
        ],
        [
         "4",
         "Jimmy Kimmel Live",
         "528"
        ],
        [
         "5",
         "PewDiePie",
         "511"
        ],
        [
         "6",
         "The Tonight Show Starring Jimmy Fallon",
         "509"
        ],
        [
         "7",
         "CNN",
         "500"
        ],
        [
         "8",
         "The Late Late Show with James Corden",
         "453"
        ],
        [
         "9",
         "ESPN",
         "452"
        ],
        [
         "10",
         "FBE",
         "439"
        ],
        [
         "11",
         "VikatanTV",
         "435"
        ],
        [
         "12",
         "Netflix",
         "410"
        ],
        [
         "13",
         "SET India",
         "405"
        ],
        [
         "14",
         "MLG Highlights",
         "382"
        ],
        [
         "15",
         "BuzzFeedVideo",
         "361"
        ],
        [
         "16",
         "SMTOWN",
         "359"
        ],
        [
         "17",
         "Ãukur",
         "356"
        ],
        [
         "18",
         "Marvel Entertainment",
         "352"
        ],
        [
         "19",
         "SAB TV",
         "351"
        ],
        [
         "20",
         "RadaanMedia",
         "350"
        ],
        [
         "21",
         "Elhiwar Ettounsi",
         "346"
        ],
        [
         "22",
         "Screen Junkies",
         "345"
        ],
        [
         "23",
         "Vox",
         "345"
        ],
        [
         "24",
         "Saturday Night Live",
         "342"
        ],
        [
         "25",
         "Breakfast Club Power 105.1 FM",
         "342"
        ],
        [
         "26",
         "ÐÐ½Ð°ÑÐ¾Ð»Ð¸Ð¹ Ð¨Ð°ÑÐ¸Ð¹",
         "340"
        ],
        [
         "27",
         "REACT",
         "333"
        ],
        [
         "28",
         "WIRED",
         "325"
        ],
        [
         "29",
         "CollegeHumor",
         "324"
        ],
        [
         "30",
         "Good Mythical Morning",
         "321"
        ],
        [
         "31",
         "The View",
         "320"
        ],
        [
         "32",
         "The Daily Show with Trevor Noah",
         "313"
        ],
        [
         "33",
         "Warner Bros. Pictures",
         "309"
        ],
        [
         "34",
         "5-Minute Crafts",
         "306"
        ],
        [
         "35",
         "THIRU TV",
         "291"
        ],
        [
         "36",
         "Philip DeFranco",
         "290"
        ],
        [
         "37",
         "Tasty",
         "290"
        ],
        [
         "38",
         "The Voice",
         "287"
        ],
        [
         "39",
         "CinemaSins",
         "280"
        ],
        [
         "40",
         "20th Century Fox",
         "279"
        ],
        [
         "41",
         "Dude Perfect",
         "278"
        ],
        [
         "42",
         "atv",
         "276"
        ],
        [
         "43",
         "NBA",
         "273"
        ],
        [
         "44",
         "First We Feast",
         "270"
        ],
        [
         "45",
         "MSNBC",
         "269"
        ],
        [
         "46",
         "T-Series",
         "265"
        ],
        [
         "47",
         "Lama FachÃ©",
         "259"
        ],
        [
         "48",
         "BBC Radio 1",
         "257"
        ],
        [
         "49",
         "Bon AppÃ©tit",
         "256"
        ]
       ],
       "shape": {
        "columns": 2,
        "rows": 37824
       }
      },
      "text/html": [
       "<div>\n",
       "<style scoped>\n",
       "    .dataframe tbody tr th:only-of-type {\n",
       "        vertical-align: middle;\n",
       "    }\n",
       "\n",
       "    .dataframe tbody tr th {\n",
       "        vertical-align: top;\n",
       "    }\n",
       "\n",
       "    .dataframe thead th {\n",
       "        text-align: right;\n",
       "    }\n",
       "</style>\n",
       "<table border=\"1\" class=\"dataframe\">\n",
       "  <thead>\n",
       "    <tr style=\"text-align: right;\">\n",
       "      <th></th>\n",
       "      <th>channel_title</th>\n",
       "      <th>count</th>\n",
       "    </tr>\n",
       "  </thead>\n",
       "  <tbody>\n",
       "    <tr>\n",
       "      <th>0</th>\n",
       "      <td>The Late Show with Stephen Colbert</td>\n",
       "      <td>710</td>\n",
       "    </tr>\n",
       "    <tr>\n",
       "      <th>1</th>\n",
       "      <td>WWE</td>\n",
       "      <td>643</td>\n",
       "    </tr>\n",
       "    <tr>\n",
       "      <th>2</th>\n",
       "      <td>Late Night with Seth Meyers</td>\n",
       "      <td>592</td>\n",
       "    </tr>\n",
       "    <tr>\n",
       "      <th>3</th>\n",
       "      <td>TheEllenShow</td>\n",
       "      <td>555</td>\n",
       "    </tr>\n",
       "    <tr>\n",
       "      <th>4</th>\n",
       "      <td>Jimmy Kimmel Live</td>\n",
       "      <td>528</td>\n",
       "    </tr>\n",
       "    <tr>\n",
       "      <th>...</th>\n",
       "      <td>...</td>\n",
       "      <td>...</td>\n",
       "    </tr>\n",
       "    <tr>\n",
       "      <th>37819</th>\n",
       "      <td>NZartreMexico</td>\n",
       "      <td>1</td>\n",
       "    </tr>\n",
       "    <tr>\n",
       "      <th>37820</th>\n",
       "      <td>æ¥æ¬ãã­éº»éé£ç</td>\n",
       "      <td>1</td>\n",
       "    </tr>\n",
       "    <tr>\n",
       "      <th>37821</th>\n",
       "      <td>ALERTA MUNDIAL</td>\n",
       "      <td>1</td>\n",
       "    </tr>\n",
       "    <tr>\n",
       "      <th>37822</th>\n",
       "      <td>å§« ch</td>\n",
       "      <td>1</td>\n",
       "    </tr>\n",
       "    <tr>\n",
       "      <th>37823</th>\n",
       "      <td>åååéä¸­</td>\n",
       "      <td>1</td>\n",
       "    </tr>\n",
       "  </tbody>\n",
       "</table>\n",
       "<p>37824 rows × 2 columns</p>\n",
       "</div>"
      ],
      "text/plain": [
       "                            channel_title  count\n",
       "0      The Late Show with Stephen Colbert    710\n",
       "1                                     WWE    643\n",
       "2             Late Night with Seth Meyers    592\n",
       "3                            TheEllenShow    555\n",
       "4                       Jimmy Kimmel Live    528\n",
       "...                                   ...    ...\n",
       "37819                       NZartreMexico      1\n",
       "37820            æ¥æ¬ãã­éº»éé£ç      1\n",
       "37821                      ALERTA MUNDIAL      1\n",
       "37822                              å§« ch      1\n",
       "37823                     åååéä¸­      1\n",
       "\n",
       "[37824 rows x 2 columns]"
      ]
     },
     "execution_count": 45,
     "metadata": {},
     "output_type": "execute_result"
    }
   ],
   "source": [
    "# Create new dataframe showing number of videos per channel\n",
    "cdf = full_df[\"channel_title\"].value_counts().reset_index()\n",
    "cdf"
   ]
  },
  {
   "cell_type": "code",
   "execution_count": 46,
   "id": "ac630be3",
   "metadata": {},
   "outputs": [],
   "source": [
    "cdf.rename(columns={\"count\": \"total_videos\"}, inplace=True)"
   ]
  },
  {
   "cell_type": "code",
   "execution_count": 47,
   "id": "12851761",
   "metadata": {},
   "outputs": [],
   "source": [
    "import plotly.express as px"
   ]
  },
  {
   "cell_type": "code",
   "execution_count": 48,
   "id": "9bb27167",
   "metadata": {},
   "outputs": [
    {
     "data": {
      "application/vnd.plotly.v1+json": {
       "config": {
        "plotlyServerURL": "https://plot.ly"
       },
       "data": [
        {
         "hovertemplate": "channel_title=%{x}<br>total_videos=%{y}<extra></extra>",
         "legendgroup": "",
         "marker": {
          "color": "#636efa",
          "pattern": {
           "shape": ""
          }
         },
         "name": "",
         "orientation": "v",
         "showlegend": false,
         "textposition": "auto",
         "type": "bar",
         "x": [
          "The Late Show with Stephen Colbert",
          "WWE",
          "Late Night with Seth Meyers",
          "TheEllenShow",
          "Jimmy Kimmel Live",
          "PewDiePie",
          "The Tonight Show Starring Jimmy Fallon",
          "CNN",
          "The Late Late Show with James Corden",
          "ESPN",
          "FBE",
          "VikatanTV",
          "Netflix",
          "SET India",
          "MLG Highlights",
          "BuzzFeedVideo",
          "SMTOWN",
          "Ãukur",
          "Marvel Entertainment",
          "SAB TV"
         ],
         "xaxis": "x",
         "y": {
          "bdata": "xgKDAlACKwIQAv8B/QH0AcUBxAG3AbMBmgGVAX4BaQFnAWQBYAFfAQ==",
          "dtype": "i2"
         },
         "yaxis": "y"
        }
       ],
       "layout": {
        "barmode": "relative",
        "legend": {
         "tracegroupgap": 0
        },
        "template": {
         "data": {
          "bar": [
           {
            "error_x": {
             "color": "#2a3f5f"
            },
            "error_y": {
             "color": "#2a3f5f"
            },
            "marker": {
             "line": {
              "color": "#E5ECF6",
              "width": 0.5
             },
             "pattern": {
              "fillmode": "overlay",
              "size": 10,
              "solidity": 0.2
             }
            },
            "type": "bar"
           }
          ],
          "barpolar": [
           {
            "marker": {
             "line": {
              "color": "#E5ECF6",
              "width": 0.5
             },
             "pattern": {
              "fillmode": "overlay",
              "size": 10,
              "solidity": 0.2
             }
            },
            "type": "barpolar"
           }
          ],
          "carpet": [
           {
            "aaxis": {
             "endlinecolor": "#2a3f5f",
             "gridcolor": "white",
             "linecolor": "white",
             "minorgridcolor": "white",
             "startlinecolor": "#2a3f5f"
            },
            "baxis": {
             "endlinecolor": "#2a3f5f",
             "gridcolor": "white",
             "linecolor": "white",
             "minorgridcolor": "white",
             "startlinecolor": "#2a3f5f"
            },
            "type": "carpet"
           }
          ],
          "choropleth": [
           {
            "colorbar": {
             "outlinewidth": 0,
             "ticks": ""
            },
            "type": "choropleth"
           }
          ],
          "contour": [
           {
            "colorbar": {
             "outlinewidth": 0,
             "ticks": ""
            },
            "colorscale": [
             [
              0,
              "#0d0887"
             ],
             [
              0.1111111111111111,
              "#46039f"
             ],
             [
              0.2222222222222222,
              "#7201a8"
             ],
             [
              0.3333333333333333,
              "#9c179e"
             ],
             [
              0.4444444444444444,
              "#bd3786"
             ],
             [
              0.5555555555555556,
              "#d8576b"
             ],
             [
              0.6666666666666666,
              "#ed7953"
             ],
             [
              0.7777777777777778,
              "#fb9f3a"
             ],
             [
              0.8888888888888888,
              "#fdca26"
             ],
             [
              1,
              "#f0f921"
             ]
            ],
            "type": "contour"
           }
          ],
          "contourcarpet": [
           {
            "colorbar": {
             "outlinewidth": 0,
             "ticks": ""
            },
            "type": "contourcarpet"
           }
          ],
          "heatmap": [
           {
            "colorbar": {
             "outlinewidth": 0,
             "ticks": ""
            },
            "colorscale": [
             [
              0,
              "#0d0887"
             ],
             [
              0.1111111111111111,
              "#46039f"
             ],
             [
              0.2222222222222222,
              "#7201a8"
             ],
             [
              0.3333333333333333,
              "#9c179e"
             ],
             [
              0.4444444444444444,
              "#bd3786"
             ],
             [
              0.5555555555555556,
              "#d8576b"
             ],
             [
              0.6666666666666666,
              "#ed7953"
             ],
             [
              0.7777777777777778,
              "#fb9f3a"
             ],
             [
              0.8888888888888888,
              "#fdca26"
             ],
             [
              1,
              "#f0f921"
             ]
            ],
            "type": "heatmap"
           }
          ],
          "histogram": [
           {
            "marker": {
             "pattern": {
              "fillmode": "overlay",
              "size": 10,
              "solidity": 0.2
             }
            },
            "type": "histogram"
           }
          ],
          "histogram2d": [
           {
            "colorbar": {
             "outlinewidth": 0,
             "ticks": ""
            },
            "colorscale": [
             [
              0,
              "#0d0887"
             ],
             [
              0.1111111111111111,
              "#46039f"
             ],
             [
              0.2222222222222222,
              "#7201a8"
             ],
             [
              0.3333333333333333,
              "#9c179e"
             ],
             [
              0.4444444444444444,
              "#bd3786"
             ],
             [
              0.5555555555555556,
              "#d8576b"
             ],
             [
              0.6666666666666666,
              "#ed7953"
             ],
             [
              0.7777777777777778,
              "#fb9f3a"
             ],
             [
              0.8888888888888888,
              "#fdca26"
             ],
             [
              1,
              "#f0f921"
             ]
            ],
            "type": "histogram2d"
           }
          ],
          "histogram2dcontour": [
           {
            "colorbar": {
             "outlinewidth": 0,
             "ticks": ""
            },
            "colorscale": [
             [
              0,
              "#0d0887"
             ],
             [
              0.1111111111111111,
              "#46039f"
             ],
             [
              0.2222222222222222,
              "#7201a8"
             ],
             [
              0.3333333333333333,
              "#9c179e"
             ],
             [
              0.4444444444444444,
              "#bd3786"
             ],
             [
              0.5555555555555556,
              "#d8576b"
             ],
             [
              0.6666666666666666,
              "#ed7953"
             ],
             [
              0.7777777777777778,
              "#fb9f3a"
             ],
             [
              0.8888888888888888,
              "#fdca26"
             ],
             [
              1,
              "#f0f921"
             ]
            ],
            "type": "histogram2dcontour"
           }
          ],
          "mesh3d": [
           {
            "colorbar": {
             "outlinewidth": 0,
             "ticks": ""
            },
            "type": "mesh3d"
           }
          ],
          "parcoords": [
           {
            "line": {
             "colorbar": {
              "outlinewidth": 0,
              "ticks": ""
             }
            },
            "type": "parcoords"
           }
          ],
          "pie": [
           {
            "automargin": true,
            "type": "pie"
           }
          ],
          "scatter": [
           {
            "fillpattern": {
             "fillmode": "overlay",
             "size": 10,
             "solidity": 0.2
            },
            "type": "scatter"
           }
          ],
          "scatter3d": [
           {
            "line": {
             "colorbar": {
              "outlinewidth": 0,
              "ticks": ""
             }
            },
            "marker": {
             "colorbar": {
              "outlinewidth": 0,
              "ticks": ""
             }
            },
            "type": "scatter3d"
           }
          ],
          "scattercarpet": [
           {
            "marker": {
             "colorbar": {
              "outlinewidth": 0,
              "ticks": ""
             }
            },
            "type": "scattercarpet"
           }
          ],
          "scattergeo": [
           {
            "marker": {
             "colorbar": {
              "outlinewidth": 0,
              "ticks": ""
             }
            },
            "type": "scattergeo"
           }
          ],
          "scattergl": [
           {
            "marker": {
             "colorbar": {
              "outlinewidth": 0,
              "ticks": ""
             }
            },
            "type": "scattergl"
           }
          ],
          "scattermap": [
           {
            "marker": {
             "colorbar": {
              "outlinewidth": 0,
              "ticks": ""
             }
            },
            "type": "scattermap"
           }
          ],
          "scattermapbox": [
           {
            "marker": {
             "colorbar": {
              "outlinewidth": 0,
              "ticks": ""
             }
            },
            "type": "scattermapbox"
           }
          ],
          "scatterpolar": [
           {
            "marker": {
             "colorbar": {
              "outlinewidth": 0,
              "ticks": ""
             }
            },
            "type": "scatterpolar"
           }
          ],
          "scatterpolargl": [
           {
            "marker": {
             "colorbar": {
              "outlinewidth": 0,
              "ticks": ""
             }
            },
            "type": "scatterpolargl"
           }
          ],
          "scatterternary": [
           {
            "marker": {
             "colorbar": {
              "outlinewidth": 0,
              "ticks": ""
             }
            },
            "type": "scatterternary"
           }
          ],
          "surface": [
           {
            "colorbar": {
             "outlinewidth": 0,
             "ticks": ""
            },
            "colorscale": [
             [
              0,
              "#0d0887"
             ],
             [
              0.1111111111111111,
              "#46039f"
             ],
             [
              0.2222222222222222,
              "#7201a8"
             ],
             [
              0.3333333333333333,
              "#9c179e"
             ],
             [
              0.4444444444444444,
              "#bd3786"
             ],
             [
              0.5555555555555556,
              "#d8576b"
             ],
             [
              0.6666666666666666,
              "#ed7953"
             ],
             [
              0.7777777777777778,
              "#fb9f3a"
             ],
             [
              0.8888888888888888,
              "#fdca26"
             ],
             [
              1,
              "#f0f921"
             ]
            ],
            "type": "surface"
           }
          ],
          "table": [
           {
            "cells": {
             "fill": {
              "color": "#EBF0F8"
             },
             "line": {
              "color": "white"
             }
            },
            "header": {
             "fill": {
              "color": "#C8D4E3"
             },
             "line": {
              "color": "white"
             }
            },
            "type": "table"
           }
          ]
         },
         "layout": {
          "annotationdefaults": {
           "arrowcolor": "#2a3f5f",
           "arrowhead": 0,
           "arrowwidth": 1
          },
          "autotypenumbers": "strict",
          "coloraxis": {
           "colorbar": {
            "outlinewidth": 0,
            "ticks": ""
           }
          },
          "colorscale": {
           "diverging": [
            [
             0,
             "#8e0152"
            ],
            [
             0.1,
             "#c51b7d"
            ],
            [
             0.2,
             "#de77ae"
            ],
            [
             0.3,
             "#f1b6da"
            ],
            [
             0.4,
             "#fde0ef"
            ],
            [
             0.5,
             "#f7f7f7"
            ],
            [
             0.6,
             "#e6f5d0"
            ],
            [
             0.7,
             "#b8e186"
            ],
            [
             0.8,
             "#7fbc41"
            ],
            [
             0.9,
             "#4d9221"
            ],
            [
             1,
             "#276419"
            ]
           ],
           "sequential": [
            [
             0,
             "#0d0887"
            ],
            [
             0.1111111111111111,
             "#46039f"
            ],
            [
             0.2222222222222222,
             "#7201a8"
            ],
            [
             0.3333333333333333,
             "#9c179e"
            ],
            [
             0.4444444444444444,
             "#bd3786"
            ],
            [
             0.5555555555555556,
             "#d8576b"
            ],
            [
             0.6666666666666666,
             "#ed7953"
            ],
            [
             0.7777777777777778,
             "#fb9f3a"
            ],
            [
             0.8888888888888888,
             "#fdca26"
            ],
            [
             1,
             "#f0f921"
            ]
           ],
           "sequentialminus": [
            [
             0,
             "#0d0887"
            ],
            [
             0.1111111111111111,
             "#46039f"
            ],
            [
             0.2222222222222222,
             "#7201a8"
            ],
            [
             0.3333333333333333,
             "#9c179e"
            ],
            [
             0.4444444444444444,
             "#bd3786"
            ],
            [
             0.5555555555555556,
             "#d8576b"
            ],
            [
             0.6666666666666666,
             "#ed7953"
            ],
            [
             0.7777777777777778,
             "#fb9f3a"
            ],
            [
             0.8888888888888888,
             "#fdca26"
            ],
            [
             1,
             "#f0f921"
            ]
           ]
          },
          "colorway": [
           "#636efa",
           "#EF553B",
           "#00cc96",
           "#ab63fa",
           "#FFA15A",
           "#19d3f3",
           "#FF6692",
           "#B6E880",
           "#FF97FF",
           "#FECB52"
          ],
          "font": {
           "color": "#2a3f5f"
          },
          "geo": {
           "bgcolor": "white",
           "lakecolor": "white",
           "landcolor": "#E5ECF6",
           "showlakes": true,
           "showland": true,
           "subunitcolor": "white"
          },
          "hoverlabel": {
           "align": "left"
          },
          "hovermode": "closest",
          "mapbox": {
           "style": "light"
          },
          "paper_bgcolor": "white",
          "plot_bgcolor": "#E5ECF6",
          "polar": {
           "angularaxis": {
            "gridcolor": "white",
            "linecolor": "white",
            "ticks": ""
           },
           "bgcolor": "#E5ECF6",
           "radialaxis": {
            "gridcolor": "white",
            "linecolor": "white",
            "ticks": ""
           }
          },
          "scene": {
           "xaxis": {
            "backgroundcolor": "#E5ECF6",
            "gridcolor": "white",
            "gridwidth": 2,
            "linecolor": "white",
            "showbackground": true,
            "ticks": "",
            "zerolinecolor": "white"
           },
           "yaxis": {
            "backgroundcolor": "#E5ECF6",
            "gridcolor": "white",
            "gridwidth": 2,
            "linecolor": "white",
            "showbackground": true,
            "ticks": "",
            "zerolinecolor": "white"
           },
           "zaxis": {
            "backgroundcolor": "#E5ECF6",
            "gridcolor": "white",
            "gridwidth": 2,
            "linecolor": "white",
            "showbackground": true,
            "ticks": "",
            "zerolinecolor": "white"
           }
          },
          "shapedefaults": {
           "line": {
            "color": "#2a3f5f"
           }
          },
          "ternary": {
           "aaxis": {
            "gridcolor": "white",
            "linecolor": "white",
            "ticks": ""
           },
           "baxis": {
            "gridcolor": "white",
            "linecolor": "white",
            "ticks": ""
           },
           "bgcolor": "#E5ECF6",
           "caxis": {
            "gridcolor": "white",
            "linecolor": "white",
            "ticks": ""
           }
          },
          "title": {
           "x": 0.05
          },
          "xaxis": {
           "automargin": true,
           "gridcolor": "white",
           "linecolor": "white",
           "ticks": "",
           "title": {
            "standoff": 15
           },
           "zerolinecolor": "white",
           "zerolinewidth": 2
          },
          "yaxis": {
           "automargin": true,
           "gridcolor": "white",
           "linecolor": "white",
           "ticks": "",
           "title": {
            "standoff": 15
           },
           "zerolinecolor": "white",
           "zerolinewidth": 2
          }
         }
        },
        "title": {
         "text": "Top 20 Channels by Number of Videos"
        },
        "xaxis": {
         "anchor": "y",
         "domain": [
          0,
          1
         ],
         "title": {
          "text": "channel_title"
         }
        },
        "yaxis": {
         "anchor": "x",
         "domain": [
          0,
          1
         ],
         "title": {
          "text": "total_videos"
         }
        }
       }
      }
     },
     "metadata": {},
     "output_type": "display_data"
    }
   ],
   "source": [
    "# Plot top 20 channels by number of videos using plotly\n",
    "px.bar(cdf.head(20), x=\"channel_title\", y=\"total_videos\", title=\"Top 20 Channels by Number of Videos\")"
   ]
  },
  {
   "cell_type": "code",
   "execution_count": null,
   "id": "2c872005",
   "metadata": {},
   "outputs": [],
   "source": []
  },
  {
   "cell_type": "code",
   "execution_count": 49,
   "id": "41846ae6",
   "metadata": {},
   "outputs": [
    {
     "data": {
      "text/plain": [
       "'CapÃ\\xadtulo 12 | MasterChef 2017'"
      ]
     },
     "execution_count": 49,
     "metadata": {},
     "output_type": "execute_result"
    }
   ],
   "source": [
    "# Punctuation analysis\n",
    "\n",
    "# Preview first video title\n",
    "full_df[\"title\"][0]"
   ]
  },
  {
   "cell_type": "code",
   "execution_count": 50,
   "id": "71900703",
   "metadata": {},
   "outputs": [
    {
     "data": {
      "text/plain": [
       "'!\"#$%&\\'()*+,-./:;<=>?@[\\\\]^_`{|}~'"
      ]
     },
     "execution_count": 50,
     "metadata": {},
     "output_type": "execute_result"
    }
   ],
   "source": [
    "import string\n",
    "string.punctuation"
   ]
  },
  {
   "cell_type": "code",
   "execution_count": 51,
   "id": "cc5a8ba7",
   "metadata": {},
   "outputs": [],
   "source": [
    "# Create a function that returns the count of punctuation characters in a given text\n",
    "def punctuation_count(text):\n",
    "    return len([char for char in text if char in string.punctuation])"
   ]
  },
  {
   "cell_type": "code",
   "execution_count": 52,
   "id": "46c492ac",
   "metadata": {},
   "outputs": [
    {
     "data": {
      "application/vnd.microsoft.datawrangler.viewer.v0+json": {
       "columns": [
        {
         "name": "index",
         "rawType": "int64",
         "type": "integer"
        },
        {
         "name": "punctuation_count",
         "rawType": "int64",
         "type": "integer"
        }
       ],
       "ref": "c15acb4e-7220-4501-8788-5a26847d2ef4",
       "rows": [
        [
         "0",
         "1"
        ],
        [
         "1",
         "3"
        ],
        [
         "2",
         "1"
        ],
        [
         "3",
         "1"
        ],
        [
         "4",
         "1"
        ],
        [
         "5",
         "1"
        ],
        [
         "6",
         "1"
        ],
        [
         "7",
         "7"
        ],
        [
         "8",
         "1"
        ],
        [
         "9",
         "4"
        ],
        [
         "10",
         "2"
        ],
        [
         "11",
         "2"
        ],
        [
         "12",
         "4"
        ],
        [
         "13",
         "0"
        ],
        [
         "14",
         "0"
        ],
        [
         "15",
         "3"
        ],
        [
         "16",
         "2"
        ],
        [
         "17",
         "0"
        ],
        [
         "18",
         "7"
        ],
        [
         "19",
         "0"
        ],
        [
         "20",
         "1"
        ],
        [
         "21",
         "10"
        ],
        [
         "22",
         "2"
        ],
        [
         "23",
         "0"
        ],
        [
         "24",
         "2"
        ],
        [
         "25",
         "1"
        ],
        [
         "26",
         "2"
        ],
        [
         "27",
         "2"
        ],
        [
         "28",
         "4"
        ],
        [
         "29",
         "3"
        ],
        [
         "30",
         "0"
        ],
        [
         "31",
         "2"
        ],
        [
         "32",
         "1"
        ],
        [
         "33",
         "1"
        ],
        [
         "34",
         "0"
        ],
        [
         "35",
         "1"
        ],
        [
         "36",
         "1"
        ],
        [
         "37",
         "2"
        ],
        [
         "38",
         "0"
        ],
        [
         "39",
         "0"
        ],
        [
         "40",
         "2"
        ],
        [
         "41",
         "4"
        ],
        [
         "42",
         "5"
        ],
        [
         "43",
         "0"
        ],
        [
         "44",
         "0"
        ],
        [
         "45",
         "0"
        ],
        [
         "46",
         "2"
        ],
        [
         "47",
         "2"
        ],
        [
         "48",
         "0"
        ],
        [
         "49",
         "3"
        ]
       ],
       "shape": {
        "columns": 1,
        "rows": 339525
       }
      },
      "text/plain": [
       "0         1\n",
       "1         3\n",
       "2         1\n",
       "3         1\n",
       "4         1\n",
       "         ..\n",
       "375937    4\n",
       "375938    3\n",
       "375939    4\n",
       "375940    6\n",
       "375941    5\n",
       "Name: punctuation_count, Length: 339525, dtype: int64"
      ]
     },
     "execution_count": 52,
     "metadata": {},
     "output_type": "execute_result"
    }
   ],
   "source": [
    "# Apply the function to the title column and create a new column with the results\n",
    "full_df[\"punctuation_count\"] = full_df[\"title\"].apply(punctuation_count)\n",
    "full_df[\"punctuation_count\"]"
   ]
  },
  {
   "cell_type": "code",
   "execution_count": 53,
   "id": "1599eefb",
   "metadata": {},
   "outputs": [
    {
     "data": {
      "image/png": "[encoded data removed]",
      "text/plain": [
       "<Figure size 1200x600 with 1 Axes>"
      ]
     },
     "metadata": {},
     "output_type": "display_data"
    }
   ],
   "source": [
    "# Plot boxplot of punctuation count against views using seaborn\n",
    "plt.figure(figsize=(12, 6))\n",
    "sns.boxplot(data=full_df, x=\"punctuation_count\", y=\"views\")\n",
    "plt.show()"
   ]
  },
  {
   "cell_type": "code",
   "execution_count": 54,
   "id": "7cd8bacb",
   "metadata": {},
   "outputs": [
    {
     "data": {
      "image/png": "[encoded data removed]",
      "text/plain": [
       "<Figure size 1200x600 with 1 Axes>"
      ]
     },
     "metadata": {},
     "output_type": "display_data"
    }
   ],
   "source": [
    "# Plot boxplot of punctuation count against likes using seaborn\n",
    "plt.figure(figsize=(12, 6))\n",
    "sns.boxplot(data=full_df, x=\"punctuation_count\", y=\"likes\")\n",
    "plt.show()"
   ]
  }
 ],
 "metadata": {
  "kernelspec": {
   "display_name": "venv",
   "language": "python",
   "name": "python3"
  },
  "language_info": {
   "codemirror_mode": {
    "name": "ipython",
    "version": 3
   },
   "file_extension": ".py",
   "mimetype": "text/x-python",
   "name": "python",
   "nbconvert_exporter": "python",
   "pygments_lexer": "ipython3",
   "version": "3.11.9"
  }
 },
 "nbformat": 4,
 "nbformat_minor": 5
}
